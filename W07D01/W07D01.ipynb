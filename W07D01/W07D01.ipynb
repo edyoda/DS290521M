{
 "cells": [
  {
   "cell_type": "code",
   "execution_count": null,
   "metadata": {},
   "outputs": [],
   "source": [
    "Object Oriented Programming:\n",
    "    What is OOP?\n",
    "    OOP is a type of Programming which is written around concept of Objects in which we connect attributes of object with \n",
    "    some methods.\n",
    "    What is a Class?\n",
    "    It is Blueprint on which various objects can be created.\n",
    "    What is a Object?\n",
    "    It is actual Object created from the Blueprint(Class), also known as instance of a class.\n",
    "    \n",
    "    What is an Object Attribute?\n",
    "    Object Attributes are those Attributes which are related to Object and every object contains it's own copy of that \n",
    "    attribute.\n",
    "    \n",
    "    What is an Class Attribute?\n",
    "    Class Attributes are those Attributes which are shared for all the Object and every object access only the same Class\n",
    "    Attributes, they don't have their own copy.\n",
    "    \n",
    "    What is an Object Method?\n",
    "    Object Methods are those methods which are related to Object and often access Object Attributes and maybe change them.\n",
    "    The first Argument is always Object Reference (ofteh named as self, but other name can also be used here.)\n",
    "    But everybody uses self as the name for the first parameter. So we should use that too.\n",
    "    \n",
    "    We can call an Object method from a Object only.\n",
    "    person1.setName('Mohit')\n",
    "    \n",
    "    What is an Class Method?\n",
    "    Class Methods are those methods which are related to Class and not Objects. We access Class Attributes and often change them\n",
    "    It takes first Argument as Class Reference(often named as cls, but other names can also be used here.)\n",
    "    Also we have to use @classmethod decorator to define a class method.\n",
    "    \n",
    "    We can call an class method from either an object or class name.\n",
    "    person.changeSpecies('hom')\n",
    "    person1.changeSpecies('hom2')"
   ]
  },
  {
   "cell_type": "code",
   "execution_count": 18,
   "metadata": {},
   "outputs": [],
   "source": [
    "class person:\n",
    "    SPECIES = 'homosapien'\n",
    "    def __init__(self, gender):\n",
    "        print('Family is blessed with baby  ',gender)\n",
    "        self.gender = gender\n",
    "        self.friends = []\n",
    "        self.nameofperson = None\n",
    "        \n",
    "    def setName(self,name):\n",
    "        self.nameofperson = name\n",
    "        \n",
    "    def makefriends(self,friend):\n",
    "        self.friends.append(friend)\n",
    "        print('You have created a new friend named as ',friend.nameofperson)\n",
    "        \n",
    "    def getName(self):\n",
    "        if self.nameofperson != None:\n",
    "            return self.nameofperson\n",
    "        \n",
    "    @classmethod\n",
    "    def changeSpecies(cls,newspecies):\n",
    "        cls.SPECIES = newspecies\n",
    "        \n",
    "    @classmethod\n",
    "    def getSpecies(cls):\n",
    "        return cls.SPECIES"
   ]
  },
  {
   "cell_type": "code",
   "execution_count": 19,
   "metadata": {},
   "outputs": [
    {
     "name": "stdout",
     "output_type": "stream",
     "text": [
      "Family is blessed with baby   Boy\n"
     ]
    }
   ],
   "source": [
    "person1 = person('Boy')"
   ]
  },
  {
   "cell_type": "code",
   "execution_count": 20,
   "metadata": {},
   "outputs": [],
   "source": [
    "person1.setName('Swaraj Pradhan')"
   ]
  },
  {
   "cell_type": "code",
   "execution_count": 21,
   "metadata": {},
   "outputs": [
    {
     "data": {
      "text/plain": [
       "'Swaraj Pradhan'"
      ]
     },
     "execution_count": 21,
     "metadata": {},
     "output_type": "execute_result"
    }
   ],
   "source": [
    "person1.getName()"
   ]
  },
  {
   "cell_type": "code",
   "execution_count": 22,
   "metadata": {},
   "outputs": [
    {
     "data": {
      "text/plain": [
       "'Boy'"
      ]
     },
     "execution_count": 22,
     "metadata": {},
     "output_type": "execute_result"
    }
   ],
   "source": [
    "person1.gender"
   ]
  },
  {
   "cell_type": "code",
   "execution_count": 23,
   "metadata": {},
   "outputs": [
    {
     "name": "stdout",
     "output_type": "stream",
     "text": [
      "Family is blessed with baby   Girl\n"
     ]
    }
   ],
   "source": [
    "person2 = person('Girl')"
   ]
  },
  {
   "cell_type": "code",
   "execution_count": 24,
   "metadata": {},
   "outputs": [],
   "source": [
    "person2.setName('Anamika Kumari')"
   ]
  },
  {
   "cell_type": "code",
   "execution_count": 25,
   "metadata": {},
   "outputs": [
    {
     "data": {
      "text/plain": [
       "'Anamika Kumari'"
      ]
     },
     "execution_count": 25,
     "metadata": {},
     "output_type": "execute_result"
    }
   ],
   "source": [
    "person2.getName()"
   ]
  },
  {
   "cell_type": "code",
   "execution_count": 26,
   "metadata": {},
   "outputs": [
    {
     "data": {
      "text/plain": [
       "'Swaraj Pradhan'"
      ]
     },
     "execution_count": 26,
     "metadata": {},
     "output_type": "execute_result"
    }
   ],
   "source": [
    "person1.getName()"
   ]
  },
  {
   "cell_type": "code",
   "execution_count": 27,
   "metadata": {},
   "outputs": [
    {
     "data": {
      "text/plain": [
       "'homosapien'"
      ]
     },
     "execution_count": 27,
     "metadata": {},
     "output_type": "execute_result"
    }
   ],
   "source": [
    "person1.SPECIES"
   ]
  },
  {
   "cell_type": "code",
   "execution_count": 28,
   "metadata": {},
   "outputs": [
    {
     "data": {
      "text/plain": [
       "'homosapien'"
      ]
     },
     "execution_count": 28,
     "metadata": {},
     "output_type": "execute_result"
    }
   ],
   "source": [
    "person2.SPECIES"
   ]
  },
  {
   "cell_type": "code",
   "execution_count": 29,
   "metadata": {},
   "outputs": [],
   "source": [
    "person1.changeSpecies('homosapein++')"
   ]
  },
  {
   "cell_type": "code",
   "execution_count": 30,
   "metadata": {},
   "outputs": [
    {
     "data": {
      "text/plain": [
       "'homosapein++'"
      ]
     },
     "execution_count": 30,
     "metadata": {},
     "output_type": "execute_result"
    }
   ],
   "source": [
    "person1.SPECIES"
   ]
  },
  {
   "cell_type": "code",
   "execution_count": 31,
   "metadata": {},
   "outputs": [
    {
     "data": {
      "text/plain": [
       "'homosapein++'"
      ]
     },
     "execution_count": 31,
     "metadata": {},
     "output_type": "execute_result"
    }
   ],
   "source": [
    "person2.SPECIES"
   ]
  },
  {
   "cell_type": "code",
   "execution_count": 32,
   "metadata": {},
   "outputs": [],
   "source": [
    "person.changeSpecies('HOMO SAP')"
   ]
  },
  {
   "cell_type": "code",
   "execution_count": 33,
   "metadata": {},
   "outputs": [
    {
     "data": {
      "text/plain": [
       "'HOMO SAP'"
      ]
     },
     "execution_count": 33,
     "metadata": {},
     "output_type": "execute_result"
    }
   ],
   "source": [
    "person1.SPECIES"
   ]
  },
  {
   "cell_type": "code",
   "execution_count": 34,
   "metadata": {},
   "outputs": [
    {
     "data": {
      "text/plain": [
       "'HOMO SAP'"
      ]
     },
     "execution_count": 34,
     "metadata": {},
     "output_type": "execute_result"
    }
   ],
   "source": [
    "person2.SPECIES"
   ]
  },
  {
   "cell_type": "markdown",
   "metadata": {},
   "source": [
    "# Static Methods"
   ]
  },
  {
   "cell_type": "code",
   "execution_count": null,
   "metadata": {},
   "outputs": [],
   "source": [
    "Static methods are used by all the objects but does not need any class reference.\n",
    "It is generally used to write code which is static in nature and does not behave dynamically."
   ]
  },
  {
   "cell_type": "code",
   "execution_count": 86,
   "metadata": {},
   "outputs": [],
   "source": [
    "class Student:\n",
    "    student_list = []\n",
    "    total_marks = 300\n",
    "    fail_percentage = 33\n",
    "    \n",
    "    def __init__(self,name,roll_no):\n",
    "        self.name = name\n",
    "        self.roll_no = roll_no\n",
    "        self.marks = {'history':0,'mechanics':0,'chemistry':0}\n",
    "        Student.student_list.append(self)\n",
    "        \n",
    "    def add_marks(self,marks):\n",
    "        self.marks = marks\n",
    "        self.percentage = self.percentage_formula(sum(marks.values()),Student.total_marks,5)\n",
    "        if self.percentage < Student.fail_percentage:\n",
    "            self.fail = True\n",
    "        else:\n",
    "            self.fail = False\n",
    "            \n",
    "    @classmethod\n",
    "    def find_topper(cls):\n",
    "        highest_percent = float('-inf')\n",
    "        current_topper = cls.student_list[0]\n",
    "        for obj in cls.student_list:\n",
    "            if obj.percentage > highest_percent:\n",
    "                highest_percent = obj.percentage\n",
    "                current_topper = obj\n",
    "                \n",
    "        return current_topper\n",
    "    \n",
    "    @classmethod\n",
    "    def find_failure(cls):\n",
    "        l = []\n",
    "        for obj in cls.student_list:\n",
    "            if obj.fail == True:\n",
    "                l.append(obj)\n",
    "        return l\n",
    "    \n",
    "    @staticmethod\n",
    "    def percentage_formula(obt_marks,total_marks,offer):\n",
    "        return (obt_marks/total_marks)*100 + offer"
   ]
  },
  {
   "cell_type": "code",
   "execution_count": 87,
   "metadata": {},
   "outputs": [
    {
     "name": "stdout",
     "output_type": "stream",
     "text": [
      "[<__main__.Student object at 0x06270568>, <__main__.Student object at 0x06270A00>, <__main__.Student object at 0x06270B50>]\n"
     ]
    }
   ],
   "source": [
    "sandeepSharma = Student('Sandeep Sharma',5)\n",
    "reddyraviprakash = Student('Ravi Prakash',4)\n",
    "anamika = Student('Anamika Kumari',1)\n",
    "\n",
    "print(Student.student_list)"
   ]
  },
  {
   "cell_type": "code",
   "execution_count": 88,
   "metadata": {},
   "outputs": [],
   "source": [
    "Student.student_list[0].add_marks({'history':50,'mechanics':100,'chemistry':70})"
   ]
  },
  {
   "cell_type": "code",
   "execution_count": 89,
   "metadata": {},
   "outputs": [],
   "source": [
    "Student.student_list[1].add_marks({'history':60,'mechanics':90,'chemistry':80})"
   ]
  },
  {
   "cell_type": "code",
   "execution_count": 90,
   "metadata": {},
   "outputs": [
    {
     "name": "stdout",
     "output_type": "stream",
     "text": [
      "Sandeep Sharma\n"
     ]
    }
   ],
   "source": [
    "print(sandeepSharma.name)"
   ]
  },
  {
   "cell_type": "code",
   "execution_count": 91,
   "metadata": {},
   "outputs": [
    {
     "data": {
      "text/plain": [
       "'Sandeep Sharma'"
      ]
     },
     "execution_count": 91,
     "metadata": {},
     "output_type": "execute_result"
    }
   ],
   "source": [
    "Student.student_list[0].name"
   ]
  },
  {
   "cell_type": "code",
   "execution_count": 92,
   "metadata": {},
   "outputs": [],
   "source": [
    "Student.student_list[2].add_marks({'history':90,'mechanics':90,'chemistry':80})"
   ]
  },
  {
   "cell_type": "code",
   "execution_count": 93,
   "metadata": {},
   "outputs": [
    {
     "data": {
      "text/plain": [
       "{'history': 50, 'mechanics': 100, 'chemistry': 70}"
      ]
     },
     "execution_count": 93,
     "metadata": {},
     "output_type": "execute_result"
    }
   ],
   "source": [
    "Student.student_list[0].marks"
   ]
  },
  {
   "cell_type": "code",
   "execution_count": 94,
   "metadata": {},
   "outputs": [
    {
     "data": {
      "text/plain": [
       "5"
      ]
     },
     "execution_count": 94,
     "metadata": {},
     "output_type": "execute_result"
    }
   ],
   "source": [
    "Student.student_list[0].roll_no"
   ]
  },
  {
   "cell_type": "code",
   "execution_count": 95,
   "metadata": {},
   "outputs": [],
   "source": [
    "swarajPradhan = Student('Swaraj Pradhan',6)"
   ]
  },
  {
   "cell_type": "code",
   "execution_count": 96,
   "metadata": {},
   "outputs": [],
   "source": [
    "swarajPradhan.add_marks({'history':9,'mechanics':9,'chemistry':8})"
   ]
  },
  {
   "cell_type": "code",
   "execution_count": 97,
   "metadata": {},
   "outputs": [
    {
     "data": {
      "text/plain": [
       "True"
      ]
     },
     "execution_count": 97,
     "metadata": {},
     "output_type": "execute_result"
    }
   ],
   "source": [
    "swarajPradhan.fail"
   ]
  },
  {
   "cell_type": "code",
   "execution_count": 98,
   "metadata": {},
   "outputs": [
    {
     "data": {
      "text/plain": [
       "13.666666666666668"
      ]
     },
     "execution_count": 98,
     "metadata": {},
     "output_type": "execute_result"
    }
   ],
   "source": [
    "swarajPradhan.percentage"
   ]
  },
  {
   "cell_type": "code",
   "execution_count": 99,
   "metadata": {},
   "outputs": [
    {
     "data": {
      "text/plain": [
       "'Anamika Kumari'"
      ]
     },
     "execution_count": 99,
     "metadata": {},
     "output_type": "execute_result"
    }
   ],
   "source": [
    "Student.find_topper().name"
   ]
  },
  {
   "cell_type": "code",
   "execution_count": 100,
   "metadata": {},
   "outputs": [
    {
     "data": {
      "text/plain": [
       "'Swaraj Pradhan'"
      ]
     },
     "execution_count": 100,
     "metadata": {},
     "output_type": "execute_result"
    }
   ],
   "source": [
    "Student.find_failure()[0].name"
   ]
  },
  {
   "cell_type": "code",
   "execution_count": 101,
   "metadata": {},
   "outputs": [],
   "source": [
    "mohit = Student('Mohit Chouhan',2)"
   ]
  },
  {
   "cell_type": "code",
   "execution_count": 102,
   "metadata": {},
   "outputs": [],
   "source": [
    "mohit.add_marks({'history':0,'mechanics':19,'chemistry':5})"
   ]
  },
  {
   "cell_type": "code",
   "execution_count": 103,
   "metadata": {},
   "outputs": [
    {
     "name": "stdout",
     "output_type": "stream",
     "text": [
      "Swaraj Pradhan\n",
      "Mohit Chouhan\n"
     ]
    }
   ],
   "source": [
    "for student in Student.find_failure():\n",
    "    print(student.name)"
   ]
  },
  {
   "cell_type": "code",
   "execution_count": 104,
   "metadata": {},
   "outputs": [
    {
     "name": "stdout",
     "output_type": "stream",
     "text": [
      "13.666666666666668\n",
      "13.0\n"
     ]
    }
   ],
   "source": [
    "for student in Student.find_failure():\n",
    "    print(student.percentage)"
   ]
  },
  {
   "cell_type": "code",
   "execution_count": null,
   "metadata": {},
   "outputs": [],
   "source": [
    "Q1) Create a class Animal, and Implement following things.\n",
    "animal_obj = Animal()\n",
    "if I call animal_obj.eat() => obj_name is eating.\n",
    "animal_obj.walk() => it should print walking with obj_no_of_legs\n",
    "animal_obj.getName() => return me the name\n",
    "animal_obj.setName() => set the name of the animal\n",
    "setters and getters for no_of_legs"
   ]
  },
  {
   "cell_type": "code",
   "execution_count": 106,
   "metadata": {},
   "outputs": [],
   "source": [
    "class Animal:\n",
    "    def eat(self):\n",
    "        print(self.name,'is eating')\n",
    "    def walk(self):\n",
    "        print('Walking with ',self.no_of_legs)\n",
    "    def getName(self):\n",
    "        return self.name\n",
    "    def setName(self,name):\n",
    "        self.name = name\n",
    "    def getNoofLegs(self):\n",
    "        return self.no_of_legs\n",
    "    def setNoofLegs(self,no_of_legs):\n",
    "        self.no_of_legs = no_of_legs"
   ]
  },
  {
   "cell_type": "code",
   "execution_count": 107,
   "metadata": {},
   "outputs": [],
   "source": [
    "obj = Animal()"
   ]
  },
  {
   "cell_type": "code",
   "execution_count": 108,
   "metadata": {},
   "outputs": [],
   "source": [
    "obj.setName('Yuki')"
   ]
  },
  {
   "cell_type": "code",
   "execution_count": 110,
   "metadata": {},
   "outputs": [
    {
     "data": {
      "text/plain": [
       "'Yuki'"
      ]
     },
     "execution_count": 110,
     "metadata": {},
     "output_type": "execute_result"
    }
   ],
   "source": [
    "obj.getName()"
   ]
  },
  {
   "cell_type": "code",
   "execution_count": 111,
   "metadata": {},
   "outputs": [],
   "source": [
    "obj.setNoofLegs(4)"
   ]
  },
  {
   "cell_type": "code",
   "execution_count": 112,
   "metadata": {},
   "outputs": [
    {
     "name": "stdout",
     "output_type": "stream",
     "text": [
      "Walking with  4\n"
     ]
    }
   ],
   "source": [
    "obj.walk()"
   ]
  },
  {
   "cell_type": "code",
   "execution_count": null,
   "metadata": {},
   "outputs": [],
   "source": [
    "Q2) Create a Class named Vehicle which will do the following things\n",
    "break() => it should decrease the speed of vehicle to 0\n",
    "slow_down() => it should slow the car speed by 10 units.\n",
    "accelerate() => it should increase the speed by 10 units.\n",
    "ignite() => it should start the car with speed 0\n",
    "gear_up() => it should increase the gear by 1. but toatl no of gears\n",
    "are only 5\n",
    "gear_down() => it should decrease the gear by 1. but total no of gears\n",
    "are more than 1."
   ]
  },
  {
   "cell_type": "code",
   "execution_count": 114,
   "metadata": {},
   "outputs": [],
   "source": [
    "class Vehicle:\n",
    "    def __init__(self):\n",
    "        self.gear = 0\n",
    "        \n",
    "    def ignite(self):\n",
    "        self.speed = 0\n",
    "        \n",
    "    def gearup(self):\n",
    "        if self.gear<5:\n",
    "            self.gear+=1\n",
    "        else:\n",
    "            print('car already in top gear')\n",
    "            \n",
    "    def accelerate(self):\n",
    "        if self.gear == 0:\n",
    "            print('car not in gear')\n",
    "        else:\n",
    "            self.speed+=10\n",
    "            \n",
    "    def slow_down(self):\n",
    "        self.speed-=10\n",
    "    \n",
    "    def geardown(self):\n",
    "        if self.gear>0:\n",
    "            self.gear-=1\n",
    "            \n",
    "    def brake(self):\n",
    "        self.speed = 0"
   ]
  },
  {
   "cell_type": "code",
   "execution_count": null,
   "metadata": {},
   "outputs": [],
   "source": []
  }
 ],
 "metadata": {
  "kernelspec": {
   "display_name": "Python 3",
   "language": "python",
   "name": "python3"
  },
  "language_info": {
   "codemirror_mode": {
    "name": "ipython",
    "version": 3
   },
   "file_extension": ".py",
   "mimetype": "text/x-python",
   "name": "python",
   "nbconvert_exporter": "python",
   "pygments_lexer": "ipython3",
   "version": "3.8.3"
  }
 },
 "nbformat": 4,
 "nbformat_minor": 4
}
