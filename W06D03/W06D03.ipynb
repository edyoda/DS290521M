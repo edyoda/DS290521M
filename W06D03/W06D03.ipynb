{
 "cells": [
  {
   "cell_type": "code",
   "execution_count": 2,
   "metadata": {},
   "outputs": [],
   "source": [
    "class car:\n",
    "    def __init__(self,color,brand,modal,engine_type):\n",
    "        print('init is called')\n",
    "        self.COLOR = color\n",
    "        self.BRAND = brand\n",
    "        self.MODAL = modal\n",
    "        self.ENGINE_TYPE = engine_type\n",
    "# __init__ is a special function which gets called for the very first time automatically\n",
    "# when you create an object"
   ]
  },
  {
   "cell_type": "code",
   "execution_count": 3,
   "metadata": {},
   "outputs": [
    {
     "name": "stdout",
     "output_type": "stream",
     "text": [
      "init is called\n"
     ]
    }
   ],
   "source": [
    "x = car('green','ford','mustang','gasoline')"
   ]
  },
  {
   "cell_type": "code",
   "execution_count": 4,
   "metadata": {},
   "outputs": [
    {
     "name": "stdout",
     "output_type": "stream",
     "text": [
      "<__main__.car object at 0x064E0958>\n"
     ]
    }
   ],
   "source": [
    "print(x)"
   ]
  },
  {
   "cell_type": "code",
   "execution_count": 5,
   "metadata": {},
   "outputs": [
    {
     "data": {
      "text/plain": [
       "105777496"
      ]
     },
     "execution_count": 5,
     "metadata": {},
     "output_type": "execute_result"
    }
   ],
   "source": [
    "id(x)"
   ]
  },
  {
   "cell_type": "code",
   "execution_count": 13,
   "metadata": {},
   "outputs": [
    {
     "data": {
      "text/plain": [
       "'green'"
      ]
     },
     "execution_count": 13,
     "metadata": {},
     "output_type": "execute_result"
    }
   ],
   "source": [
    "x.COLOR"
   ]
  },
  {
   "cell_type": "code",
   "execution_count": 14,
   "metadata": {},
   "outputs": [
    {
     "data": {
      "text/plain": [
       "'ford'"
      ]
     },
     "execution_count": 14,
     "metadata": {},
     "output_type": "execute_result"
    }
   ],
   "source": [
    "x.BRAND"
   ]
  },
  {
   "cell_type": "code",
   "execution_count": 15,
   "metadata": {},
   "outputs": [
    {
     "name": "stdout",
     "output_type": "stream",
     "text": [
      "init is called\n"
     ]
    }
   ],
   "source": [
    "y = car('red','toyota','prius','electricity')"
   ]
  },
  {
   "cell_type": "code",
   "execution_count": 16,
   "metadata": {},
   "outputs": [
    {
     "data": {
      "text/plain": [
       "'red'"
      ]
     },
     "execution_count": 16,
     "metadata": {},
     "output_type": "execute_result"
    }
   ],
   "source": [
    "y.COLOR"
   ]
  },
  {
   "cell_type": "code",
   "execution_count": 17,
   "metadata": {},
   "outputs": [
    {
     "data": {
      "text/plain": [
       "'electricity'"
      ]
     },
     "execution_count": 17,
     "metadata": {},
     "output_type": "execute_result"
    }
   ],
   "source": [
    "y.ENGINE_TYPE"
   ]
  },
  {
   "cell_type": "code",
   "execution_count": 18,
   "metadata": {},
   "outputs": [
    {
     "name": "stdout",
     "output_type": "stream",
     "text": [
      "init is called\n"
     ]
    }
   ],
   "source": [
    "z = car('blue','volkswagon','golf','diesel')"
   ]
  },
  {
   "cell_type": "code",
   "execution_count": 20,
   "metadata": {},
   "outputs": [
    {
     "data": {
      "text/plain": [
       "'blue'"
      ]
     },
     "execution_count": 20,
     "metadata": {},
     "output_type": "execute_result"
    }
   ],
   "source": [
    "z.COLOR"
   ]
  },
  {
   "cell_type": "code",
   "execution_count": 22,
   "metadata": {},
   "outputs": [
    {
     "data": {
      "text/plain": [
       "'golf'"
      ]
     },
     "execution_count": 22,
     "metadata": {},
     "output_type": "execute_result"
    }
   ],
   "source": [
    "z.MODAL"
   ]
  },
  {
   "cell_type": "code",
   "execution_count": 23,
   "metadata": {},
   "outputs": [
    {
     "data": {
      "text/plain": [
       "'diesel'"
      ]
     },
     "execution_count": 23,
     "metadata": {},
     "output_type": "execute_result"
    }
   ],
   "source": [
    "z.ENGINE_TYPE"
   ]
  },
  {
   "cell_type": "code",
   "execution_count": null,
   "metadata": {},
   "outputs": [],
   "source": [
    "class car:\n",
    "    def __init__(self,color,brand,modal,engine_type):\n",
    "        print('init is called')\n",
    "        self.COLOR = color\n",
    "        self.BRAND = brand\n",
    "        self.MODAL = modal\n",
    "        self.ENGINE_TYPE = engine_type\n",
    "# __init__ is a special function which gets called for the very first time automatically\n",
    "# when you create an object\n",
    "\n",
    "z = car('blue','volkswagon','golf','diesel')"
   ]
  },
  {
   "cell_type": "code",
   "execution_count": null,
   "metadata": {},
   "outputs": [],
   "source": [
    "Question: Create a Class Dog, and Have fields color,name,age \n",
    "    and create multiple dog object from it including one dog yuki which is silver in color, and is 6\n",
    "    years old today.\n",
    "    create atleast 3 dogs"
   ]
  },
  {
   "cell_type": "code",
   "execution_count": 28,
   "metadata": {},
   "outputs": [
    {
     "name": "stdout",
     "output_type": "stream",
     "text": [
      "Happy Birthday Yuki\n",
      "Happy Birthday Yuki\n",
      "Happy Birthday Yuki\n",
      "silver\n",
      "1 yr\n",
      "labrador\n"
     ]
    }
   ],
   "source": [
    "class dog:\n",
    "    def __init__(self, color,name, age,breed):\n",
    "        print(\"Happy Birthday Yuki\")\n",
    "        self.COLOR = color\n",
    "        self.NAME = name\n",
    "        self.AGE = age\n",
    "        self.BREED = breed\n",
    "\n",
    "yuki = dog('silver','Yuki','6 yr','labrador')\n",
    "dodo = dog(\"black & white\",\"dodo\",\"1 yr\",'Husky')\n",
    "tamtam = dog(\"Golden\",\"tamtam\",\"6 months\",'Golden Retriever')\n",
    "\n",
    "print(yuki.COLOR)\n",
    "print(dodo.AGE)\n",
    "print(yuki.BREED)"
   ]
  },
  {
   "cell_type": "code",
   "execution_count": null,
   "metadata": {},
   "outputs": [],
   "source": [
    "Question:\n",
    "    Create a Class Bike with fields = color,Horsepower,Engine_CC,Mileage,optimal\n",
    "    if the Mileage is greater than 60, than optimal will be true,\n",
    "    and if the Mileage is lessa than or equal to 60 the optimal will be false.\n",
    "    You don't have to pass optimal value, you have to create it when you are\n",
    "    creating the object automatically."
   ]
  },
  {
   "cell_type": "code",
   "execution_count": 30,
   "metadata": {},
   "outputs": [],
   "source": [
    "class Bike:\n",
    "    def __init__(self,color,Horsepower,Engine_CC,Mileage):\n",
    "        if Mileage>60:\n",
    "            self.Optimal = True\n",
    "            print('This bike is Optimal')\n",
    "        else:\n",
    "            self.Optimal = False\n",
    "            print('This bike is not Optimal')\n",
    "        self.COLOR = color\n",
    "        self.HORSEPOWER = Horsepower\n",
    "        self.CC_of_Engine = Engine_CC\n",
    "        self.MILEAGE = Mileage"
   ]
  },
  {
   "cell_type": "code",
   "execution_count": 32,
   "metadata": {},
   "outputs": [
    {
     "name": "stdout",
     "output_type": "stream",
     "text": [
      "This bike is not Optimal\n"
     ]
    }
   ],
   "source": [
    "apache = Bike('White',10,150,50)"
   ]
  },
  {
   "cell_type": "code",
   "execution_count": 33,
   "metadata": {},
   "outputs": [
    {
     "name": "stdout",
     "output_type": "stream",
     "text": [
      "This bike is Optimal\n"
     ]
    }
   ],
   "source": [
    "platina = Bike('Blue and Silver',4,125,70)"
   ]
  },
  {
   "cell_type": "code",
   "execution_count": 49,
   "metadata": {},
   "outputs": [],
   "source": [
    "class Car:\n",
    "    def __init__(self,maxspeed):\n",
    "        self.maxspeed = maxspeed\n",
    "        self.fuel = 0\n",
    "        self.speed = 0\n",
    "    \n",
    "    def refuel(self):\n",
    "        self.fuel = 30\n",
    "    \n",
    "    def setSpeed(self,speed):\n",
    "        self.speed = speed\n",
    "        \n",
    "    def drive(self):\n",
    "        if self.fuel == 0:\n",
    "            print(\"No fuel, you can't drive\")\n",
    "        else:\n",
    "            self.setSpeed(10)\n",
    "            print('The Car is at Speed 10')\n",
    "            \n",
    "    def accelerate(self):\n",
    "        self.setSpeed(self.speed+10)"
   ]
  },
  {
   "cell_type": "code",
   "execution_count": 50,
   "metadata": {},
   "outputs": [],
   "source": [
    "Suzuki_Breeza = Car(220)"
   ]
  },
  {
   "cell_type": "code",
   "execution_count": 51,
   "metadata": {},
   "outputs": [
    {
     "data": {
      "text/plain": [
       "0"
      ]
     },
     "execution_count": 51,
     "metadata": {},
     "output_type": "execute_result"
    }
   ],
   "source": [
    "Suzuki_Breeza.fuel"
   ]
  },
  {
   "cell_type": "code",
   "execution_count": 52,
   "metadata": {},
   "outputs": [
    {
     "name": "stdout",
     "output_type": "stream",
     "text": [
      "No fuel, you can't drive\n"
     ]
    }
   ],
   "source": [
    "Suzuki_Breeza.drive()"
   ]
  },
  {
   "cell_type": "code",
   "execution_count": 53,
   "metadata": {},
   "outputs": [],
   "source": [
    "Suzuki_Breeza.refuel()"
   ]
  },
  {
   "cell_type": "code",
   "execution_count": 54,
   "metadata": {},
   "outputs": [
    {
     "name": "stdout",
     "output_type": "stream",
     "text": [
      "The Car is at Speed 10\n"
     ]
    }
   ],
   "source": [
    "Suzuki_Breeza.drive()"
   ]
  },
  {
   "cell_type": "code",
   "execution_count": 55,
   "metadata": {},
   "outputs": [],
   "source": [
    "Suzuki_Breeza.accelerate()"
   ]
  },
  {
   "cell_type": "code",
   "execution_count": 56,
   "metadata": {},
   "outputs": [
    {
     "data": {
      "text/plain": [
       "20"
      ]
     },
     "execution_count": 56,
     "metadata": {},
     "output_type": "execute_result"
    }
   ],
   "source": [
    "Suzuki_Breeza.speed"
   ]
  },
  {
   "cell_type": "code",
   "execution_count": 57,
   "metadata": {},
   "outputs": [],
   "source": [
    "Suzuki_Breeza.accelerate()"
   ]
  },
  {
   "cell_type": "code",
   "execution_count": 58,
   "metadata": {},
   "outputs": [
    {
     "data": {
      "text/plain": [
       "30"
      ]
     },
     "execution_count": 58,
     "metadata": {},
     "output_type": "execute_result"
    }
   ],
   "source": [
    "Suzuki_Breeza.speed"
   ]
  },
  {
   "cell_type": "code",
   "execution_count": null,
   "metadata": {},
   "outputs": [],
   "source": [
    "Question: When we accelerate and drive the car, the fuel should decrease. Implement this.Implement brake also.\n",
    "    "
   ]
  },
  {
   "cell_type": "code",
   "execution_count": 70,
   "metadata": {},
   "outputs": [],
   "source": [
    "class Car:\n",
    "    def __init__(self,maxspeed):\n",
    "        print('init is called')\n",
    "        self.maxspeed = maxspeed\n",
    "        self.fuel = 0\n",
    "        self.speed = 0\n",
    "\n",
    "    def refuel(self):\n",
    "        self.fuel = 30\n",
    "\n",
    "    def setSpeed(self,speed):\n",
    "        self.speed = speed\n",
    "        self.fuel -= 1\n",
    "\n",
    "    def drive(self):\n",
    "        if self.fuel == 0:\n",
    "            print(\"No fuel, you can't drive\")\n",
    "        else:\n",
    "            self.setSpeed(10)\n",
    "            print('The Car is at Speed 10')\n",
    "\n",
    "    def accelerate(self):\n",
    "        self.setSpeed(self.speed+10)\n",
    "    \n",
    "    def brake(self):\n",
    "        self.setSpeed(0)"
   ]
  },
  {
   "cell_type": "code",
   "execution_count": 71,
   "metadata": {},
   "outputs": [
    {
     "name": "stdout",
     "output_type": "stream",
     "text": [
      "init is called\n"
     ]
    }
   ],
   "source": [
    "Suzuki_Breeza = Car(220)"
   ]
  },
  {
   "cell_type": "code",
   "execution_count": 61,
   "metadata": {},
   "outputs": [
    {
     "name": "stdout",
     "output_type": "stream",
     "text": [
      "No fuel, you can't drive\n"
     ]
    }
   ],
   "source": [
    "Suzuki_Breeza.drive()"
   ]
  },
  {
   "cell_type": "code",
   "execution_count": 62,
   "metadata": {},
   "outputs": [],
   "source": [
    "Suzuki_Breeza.refuel()"
   ]
  },
  {
   "cell_type": "code",
   "execution_count": 63,
   "metadata": {},
   "outputs": [
    {
     "name": "stdout",
     "output_type": "stream",
     "text": [
      "The Car is at Speed 10\n"
     ]
    }
   ],
   "source": [
    "Suzuki_Breeza.drive()"
   ]
  },
  {
   "cell_type": "code",
   "execution_count": 64,
   "metadata": {},
   "outputs": [],
   "source": [
    "for i in range(3):\n",
    "    Suzuki_Breeza.accelerate()"
   ]
  },
  {
   "cell_type": "code",
   "execution_count": 65,
   "metadata": {},
   "outputs": [
    {
     "data": {
      "text/plain": [
       "40"
      ]
     },
     "execution_count": 65,
     "metadata": {},
     "output_type": "execute_result"
    }
   ],
   "source": [
    "Suzuki_Breeza.speed"
   ]
  },
  {
   "cell_type": "code",
   "execution_count": 66,
   "metadata": {},
   "outputs": [
    {
     "data": {
      "text/plain": [
       "26"
      ]
     },
     "execution_count": 66,
     "metadata": {},
     "output_type": "execute_result"
    }
   ],
   "source": [
    "Suzuki_Breeza.fuel"
   ]
  },
  {
   "cell_type": "code",
   "execution_count": 67,
   "metadata": {},
   "outputs": [],
   "source": [
    "Suzuki_Breeza.brake()"
   ]
  },
  {
   "cell_type": "code",
   "execution_count": 68,
   "metadata": {},
   "outputs": [
    {
     "data": {
      "text/plain": [
       "25"
      ]
     },
     "execution_count": 68,
     "metadata": {},
     "output_type": "execute_result"
    }
   ],
   "source": [
    "Suzuki_Breeza.fuel"
   ]
  },
  {
   "cell_type": "code",
   "execution_count": 69,
   "metadata": {},
   "outputs": [
    {
     "data": {
      "text/plain": [
       "0"
      ]
     },
     "execution_count": 69,
     "metadata": {},
     "output_type": "execute_result"
    }
   ],
   "source": [
    "Suzuki_Breeza.speed"
   ]
  },
  {
   "cell_type": "code",
   "execution_count": null,
   "metadata": {},
   "outputs": [],
   "source": [
    "Homework: Improve the Car Class.Implement more things into it.\n",
    "    \n",
    "    Create a list of classes/objects around you\n",
    "    \n",
    "    Try to mimic the functionality of any one of the object around you.For example\n",
    "    fan,Mircrowave Oven,Geezer,etc"
   ]
  }
 ],
 "metadata": {
  "kernelspec": {
   "display_name": "Python 3",
   "language": "python",
   "name": "python3"
  },
  "language_info": {
   "codemirror_mode": {
    "name": "ipython",
    "version": 3
   },
   "file_extension": ".py",
   "mimetype": "text/x-python",
   "name": "python",
   "nbconvert_exporter": "python",
   "pygments_lexer": "ipython3",
   "version": "3.8.3"
  }
 },
 "nbformat": 4,
 "nbformat_minor": 4
}
