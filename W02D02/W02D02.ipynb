{
 "cells": [
  {
   "cell_type": "code",
   "execution_count": null,
   "metadata": {},
   "outputs": [],
   "source": [
    "Immutable DataTypes:\n",
    "    str\n",
    "    float\n",
    "    int\n",
    "    bool\n",
    "    None\n",
    "    tuple\n",
    "    \n",
    "Mutable Data Types:\n",
    "    set\n",
    "    list\n",
    "    dict"
   ]
  },
  {
   "cell_type": "code",
   "execution_count": null,
   "metadata": {},
   "outputs": [],
   "source": [
    "Iterable Data Types:\n",
    "    list\n",
    "    dict\n",
    "    set\n",
    "    str\n",
    "    tuple\n",
    "    \n",
    "Non Iterable Data Types:\n",
    "    int\n",
    "    bool\n",
    "    None\n",
    "    float"
   ]
  },
  {
   "cell_type": "code",
   "execution_count": null,
   "metadata": {},
   "outputs": [],
   "source": [
    "2 most imp things about keys in dict and keys in sets:\n",
    "    1) unique\n",
    "    2) immutable"
   ]
  },
  {
   "cell_type": "code",
   "execution_count": null,
   "metadata": {},
   "outputs": [],
   "source": [
    "Operators:\n",
    "    1) Arithmetic Operators: (+,-,*,/,//,%,**)\n",
    "    2) Logical Operators (and,or ,not) (Output: bool)\n",
    "    3) Comparison Operators (==,<,>,<=,>=,!=) (Output:bool)\n",
    "    4) Membership Operators (in, not in) (Output:bool)(We check for the membership of a thing in an iterable data type)\n",
    "    5) Identity Operators (is, is not) (Output: bool) (We check if id of both of them are equal)"
   ]
  },
  {
   "cell_type": "code",
   "execution_count": null,
   "metadata": {},
   "outputs": [],
   "source": [
    "6)Assignment Operators: (=,+=,-=)"
   ]
  },
  {
   "cell_type": "code",
   "execution_count": 1,
   "metadata": {},
   "outputs": [
    {
     "name": "stdout",
     "output_type": "stream",
     "text": [
      "3\n"
     ]
    }
   ],
   "source": [
    "x = 4\n",
    "x-=1   # x = x-1\n",
    "print(x)"
   ]
  },
  {
   "cell_type": "code",
   "execution_count": 3,
   "metadata": {},
   "outputs": [
    {
     "name": "stdout",
     "output_type": "stream",
     "text": [
      "5\n",
      "3\n"
     ]
    }
   ],
   "source": [
    "x = 4\n",
    "x+=1 # x = x+1\n",
    "print(x)\n",
    "x-=2\n",
    "print(x)"
   ]
  },
  {
   "cell_type": "code",
   "execution_count": null,
   "metadata": {},
   "outputs": [],
   "source": [
    "fruits = ['kiwi','apple','mango','banana','pineapple','peach','pomegranate']\n",
    "\n",
    "Question: if fruits starts with p print('Sweet')\n",
    "          if it ends with e print('Very very sweet')\n",
    "          if it starts with with p and ends with e, print('amazing')\n",
    "          if it falls in none of the above print('No I dont like it!')"
   ]
  },
  {
   "cell_type": "code",
   "execution_count": 5,
   "metadata": {},
   "outputs": [
    {
     "name": "stdout",
     "output_type": "stream",
     "text": [
      "kiwi\n",
      "No I dont like it\n",
      "apple\n",
      "very very sweet\n",
      "mango\n",
      "No I dont like it\n",
      "banana\n",
      "No I dont like it\n",
      "pineapple\n",
      "amazing\n",
      "peach\n",
      "Sweet\n",
      "pomegranate\n",
      "amazing\n"
     ]
    }
   ],
   "source": [
    "fruits = ['kiwi','apple','mango','banana','pineapple','peach','pomegranate']\n",
    "for fruit in fruits: \n",
    "    print(fruit)\n",
    "    if fruit[0]=='p' and fruit[-1]=='e':    \n",
    "        print(\"amazing\")    \n",
    "    elif fruit[0]=='p':    \n",
    "        print('Sweet')    \n",
    "    elif fruit[-1]=='e':    \n",
    "        print('very very sweet')    \n",
    "    else:    \n",
    "        print('No I dont like it')\n"
   ]
  },
  {
   "cell_type": "code",
   "execution_count": 6,
   "metadata": {},
   "outputs": [
    {
     "name": "stdout",
     "output_type": "stream",
     "text": [
      "kiwi\n",
      "No I dont like it\n",
      "apple\n",
      "very very sweet\n",
      "mango\n",
      "No I dont like it\n",
      "banana\n",
      "No I dont like it\n",
      "pineapple\n",
      "amazing\n",
      "peach\n",
      "Sweet\n",
      "pomegranate\n",
      "amazing\n"
     ]
    }
   ],
   "source": [
    "## NESTED IF ELSE\n",
    "\n",
    "fruits = ['kiwi','apple','mango','banana','pineapple','peach','pomegranate']\n",
    "for fruit in fruits: \n",
    "    print(fruit)\n",
    "    if fruit[0]=='p':\n",
    "        if fruit[-1]=='e':    \n",
    "            print(\"amazing\")\n",
    "        else:\n",
    "            print('Sweet')   \n",
    "    elif fruit[-1]=='e':    \n",
    "        print('very very sweet')    \n",
    "    else:    \n",
    "        print('No I dont like it')"
   ]
  },
  {
   "cell_type": "code",
   "execution_count": 9,
   "metadata": {},
   "outputs": [
    {
     "name": "stdout",
     "output_type": "stream",
     "text": [
      "<class 'str'> k i\n",
      "<class 'str'> a e\n",
      "<class 'str'> m o\n",
      "<class 'str'> b a\n",
      "<class 'str'> p e\n",
      "<class 'str'> p h\n",
      "<class 'str'> p e\n"
     ]
    }
   ],
   "source": [
    "fruits = ['kiwi','apple','mango','banana','pineapple','peach','pomegranate']\n",
    "for fruit in fruits:\n",
    "    print(type(fruit),fruit[0],fruit[-1])"
   ]
  },
  {
   "cell_type": "code",
   "execution_count": 10,
   "metadata": {},
   "outputs": [
    {
     "data": {
      "text/plain": [
       "'M'"
      ]
     },
     "execution_count": 10,
     "metadata": {},
     "output_type": "execute_result"
    }
   ],
   "source": [
    "str1 = 'Mohammad'\n",
    "str1[0]"
   ]
  },
  {
   "cell_type": "code",
   "execution_count": 11,
   "metadata": {},
   "outputs": [
    {
     "data": {
      "text/plain": [
       "'d'"
      ]
     },
     "execution_count": 11,
     "metadata": {},
     "output_type": "execute_result"
    }
   ],
   "source": [
    "str1[-1]"
   ]
  },
  {
   "cell_type": "code",
   "execution_count": null,
   "metadata": {},
   "outputs": [],
   "source": [
    "Question: If a no is less than 20 and is an even number print('wow')\n",
    "          if a no is = 20 and is an odd number print('odd 20')\n",
    "          if a no > 20 print('big')\n",
    "            \n",
    "        Note: Use Nested if-else for doing this question."
   ]
  },
  {
   "cell_type": "code",
   "execution_count": 13,
   "metadata": {},
   "outputs": [],
   "source": [
    "x = 21\n",
    "if x%2 == 0:\n",
    "    print(x, 'is an even no')"
   ]
  },
  {
   "cell_type": "code",
   "execution_count": 30,
   "metadata": {},
   "outputs": [],
   "source": [
    "n=7\n",
    "if n<20:\n",
    "    if n%2==0:\n",
    "        print('wow')\n",
    "elif n==20:\n",
    "    if n%2!=0:\n",
    "        print('odd20')\n",
    "else:\n",
    "    print('big')"
   ]
  },
  {
   "cell_type": "code",
   "execution_count": 31,
   "metadata": {},
   "outputs": [
    {
     "name": "stdout",
     "output_type": "stream",
     "text": [
      "odd 20\n"
     ]
    }
   ],
   "source": [
    "n=15\n",
    "if n<=20:\n",
    "    if n%2==0:\n",
    "        print(\"wow\")\n",
    "    else:\n",
    "        print(\"odd 20\")\n",
    "else:\n",
    "    print(\"big\")"
   ]
  },
  {
   "cell_type": "code",
   "execution_count": 48,
   "metadata": {},
   "outputs": [
    {
     "name": "stdout",
     "output_type": "stream",
     "text": [
      "big\n"
     ]
    }
   ],
   "source": [
    "no = 21\n",
    "\n",
    "if no<20:\n",
    "    if no%2 == 0:\n",
    "        print('wow')\n",
    "elif no==20:\n",
    "    pass\n",
    "else:\n",
    "    print('big')"
   ]
  },
  {
   "cell_type": "code",
   "execution_count": null,
   "metadata": {},
   "outputs": [],
   "source": [
    "True Equivalents: Whose bool() value will be treated as true in python"
   ]
  },
  {
   "cell_type": "code",
   "execution_count": 49,
   "metadata": {},
   "outputs": [
    {
     "data": {
      "text/plain": [
       "True"
      ]
     },
     "execution_count": 49,
     "metadata": {},
     "output_type": "execute_result"
    }
   ],
   "source": [
    "bool(23)"
   ]
  },
  {
   "cell_type": "code",
   "execution_count": null,
   "metadata": {},
   "outputs": [],
   "source": [
    "bool() tells us the boolean equivalent of a thing in python"
   ]
  },
  {
   "cell_type": "code",
   "execution_count": 50,
   "metadata": {},
   "outputs": [
    {
     "data": {
      "text/plain": [
       "False"
      ]
     },
     "execution_count": 50,
     "metadata": {},
     "output_type": "execute_result"
    }
   ],
   "source": [
    "bool(0)"
   ]
  },
  {
   "cell_type": "code",
   "execution_count": 51,
   "metadata": {},
   "outputs": [
    {
     "data": {
      "text/plain": [
       "True"
      ]
     },
     "execution_count": 51,
     "metadata": {},
     "output_type": "execute_result"
    }
   ],
   "source": [
    "bool(-50)"
   ]
  },
  {
   "cell_type": "code",
   "execution_count": null,
   "metadata": {},
   "outputs": [],
   "source": [
    "int: 0 is considered as false equivalent\n",
    "     all other are considered as true equivalent\n",
    "float: 0.0 is considered as false equivalent.\n",
    "    all other are considered as true equivalent\n",
    "bool: True\n",
    "      False\n",
    "None is considered as False equivalent\n",
    "\n",
    "list: empty list is considered as False\n",
    "      filled list is considered as True\n",
    "    \n",
    "dict: empty:False\n",
    "      filled:True\n",
    "    \n",
    "str: '': False\n",
    "     any char:True\n",
    "\n",
    "set: empty: False\n",
    "     filled:True\n",
    "        \n",
    "tuple: empty:False\n",
    "        filled: True"
   ]
  },
  {
   "cell_type": "code",
   "execution_count": 59,
   "metadata": {},
   "outputs": [
    {
     "data": {
      "text/plain": [
       "True"
      ]
     },
     "execution_count": 59,
     "metadata": {},
     "output_type": "execute_result"
    }
   ],
   "source": [
    "bool([''])"
   ]
  },
  {
   "cell_type": "code",
   "execution_count": 56,
   "metadata": {},
   "outputs": [
    {
     "name": "stdout",
     "output_type": "stream",
     "text": [
      "The no is 0\n"
     ]
    }
   ],
   "source": [
    "no = None\n",
    "if no:\n",
    "    print('The no is not 0')\n",
    "else:\n",
    "    print('The no is 0')"
   ]
  },
  {
   "cell_type": "code",
   "execution_count": 71,
   "metadata": {},
   "outputs": [
    {
     "name": "stdout",
     "output_type": "stream",
     "text": [
      "False\n",
      "False\n",
      "False\n",
      "False\n",
      "False\n",
      "False\n",
      "False\n",
      "False\n"
     ]
    }
   ],
   "source": [
    "False_Equivalents = [[],{},(),'',None,False,0,0.0]\n",
    "\n",
    "for val in False_Equivalents:\n",
    "    print(bool(val))"
   ]
  },
  {
   "cell_type": "code",
   "execution_count": 68,
   "metadata": {},
   "outputs": [
    {
     "name": "stdout",
     "output_type": "stream",
     "text": [
      "first fruit is not apple\n"
     ]
    }
   ],
   "source": [
    "fruits = ['kiwi','apple']\n",
    "\n",
    "if fruits:\n",
    "    if fruits[0] == 'apple':\n",
    "        print('first fruit is apple')\n",
    "    else:\n",
    "        print('first fruit is not apple')\n",
    "else:\n",
    "    print('fruit list is empty')"
   ]
  },
  {
   "cell_type": "code",
   "execution_count": 72,
   "metadata": {},
   "outputs": [
    {
     "name": "stdout",
     "output_type": "stream",
     "text": [
      "True\n",
      "True\n",
      "True\n",
      "True\n",
      "True\n",
      "True\n",
      "True\n",
      "True\n"
     ]
    }
   ],
   "source": [
    "True_Equivalents = [[''],'happy',{'python':2},{11,11,22},(1,2),True,34,34.34]\n",
    "\n",
    "for val in True_Equivalents:\n",
    "    print(bool(val))"
   ]
  },
  {
   "cell_type": "markdown",
   "metadata": {},
   "source": [
    "## Q1 Make a list of numbers from 1 to 5 and print their value using for loop"
   ]
  },
  {
   "cell_type": "code",
   "execution_count": 73,
   "metadata": {},
   "outputs": [
    {
     "name": "stdout",
     "output_type": "stream",
     "text": [
      "1\n",
      "2\n",
      "3\n",
      "4\n",
      "5\n"
     ]
    }
   ],
   "source": [
    "list_of_numbers = [1,2,3,4,5]\n",
    "for val in list_of_numbers:\n",
    "    print(val)"
   ]
  },
  {
   "cell_type": "markdown",
   "metadata": {},
   "source": [
    "## Q2) Print yes if x is divisible by 3 and 5 both\n",
    "\n",
    "### Intuition: since 4 is divisible by 2 it outputs remainder = 0\n",
    "\n",
    "### PseudoCode:\n",
    "    1)Check if remainder obtained by 3 is 0\n",
    "    2)Check if remainder obtained by 5 is 0\n",
    "    3)If anyone of the above 2 are false, than print nope.\n",
    "    \n",
    "list_of_numbers = [15,3,5,25,27,30]"
   ]
  },
  {
   "cell_type": "code",
   "execution_count": 76,
   "metadata": {},
   "outputs": [
    {
     "name": "stdout",
     "output_type": "stream",
     "text": [
      "15 yes\n",
      "30 yes\n"
     ]
    }
   ],
   "source": [
    "list_of_numbers = [15,3,5,25,27,30]\n",
    "\n",
    "for no in list_of_numbers:\n",
    "    if no%3 == 0 and no%5 == 0:\n",
    "        print(no,'yes')"
   ]
  },
  {
   "cell_type": "markdown",
   "metadata": {},
   "source": [
    "## Q3Make a list of numbers from 1 to 10 and loop over them and print ('yes') if it is a even number and ('no') if it is odd.`"
   ]
  },
  {
   "cell_type": "code",
   "execution_count": 77,
   "metadata": {},
   "outputs": [
    {
     "name": "stdout",
     "output_type": "stream",
     "text": [
      "no\n",
      "yes\n",
      "no\n",
      "yes\n",
      "no\n",
      "yes\n",
      "no\n",
      "yes\n",
      "no\n",
      "yes\n"
     ]
    }
   ],
   "source": [
    "list_of_numbers = [1,2,3,4,5,6,7,8,9,10]\n",
    "\n",
    "for no in list_of_numbers:\n",
    "    if no%2 == 0:\n",
    "        print('yes')\n",
    "    else:\n",
    "        print('no')"
   ]
  },
  {
   "cell_type": "markdown",
   "metadata": {},
   "source": [
    "## Slicing"
   ]
  },
  {
   "cell_type": "code",
   "execution_count": null,
   "metadata": {},
   "outputs": [],
   "source": [
    "syntax: name[startindex:endindex:stride]\n",
    "    \n",
    "NOTE: if stride is not given, by default the value will is +1\n",
    "NOTE: endindex is never reached,We go only till endindex-stride"
   ]
  },
  {
   "cell_type": "code",
   "execution_count": 78,
   "metadata": {},
   "outputs": [
    {
     "name": "stdout",
     "output_type": "stream",
     "text": [
      "app\n"
     ]
    }
   ],
   "source": [
    "fruit = 'apple'\n",
    "\n",
    "print(fruit[0:3])"
   ]
  },
  {
   "cell_type": "code",
   "execution_count": 80,
   "metadata": {},
   "outputs": [
    {
     "name": "stdout",
     "output_type": "stream",
     "text": [
      "['kiwi', 'apple', 'mango']\n"
     ]
    }
   ],
   "source": [
    "fruits = ['kiwi','apple','mango','banana']\n",
    "print(fruits[0:3])"
   ]
  },
  {
   "cell_type": "code",
   "execution_count": 81,
   "metadata": {},
   "outputs": [
    {
     "name": "stdout",
     "output_type": "stream",
     "text": [
      "('kiwi', 'apple', 'mango')\n"
     ]
    }
   ],
   "source": [
    "fruits = ('kiwi','apple','mango','banana')\n",
    "print(fruits[0:3])"
   ]
  },
  {
   "cell_type": "code",
   "execution_count": null,
   "metadata": {},
   "outputs": [],
   "source": [
    "## stride in detail:\n",
    "-ve value means in reverse direction (right to left)\n",
    "+ve value in the correct direction (left to right)\n",
    "\n",
    "stride = 3\n",
    "\n",
    "we will be jumping 3 index positions while slicing."
   ]
  },
  {
   "cell_type": "code",
   "execution_count": 82,
   "metadata": {},
   "outputs": [
    {
     "name": "stdout",
     "output_type": "stream",
     "text": [
      "['kiwi', 'mango']\n"
     ]
    }
   ],
   "source": [
    "fruits = ['kiwi','apple','mango','banana']\n",
    "print(fruits[0:3:2])"
   ]
  },
  {
   "cell_type": "code",
   "execution_count": 84,
   "metadata": {},
   "outputs": [
    {
     "name": "stdout",
     "output_type": "stream",
     "text": [
      "pnape\n"
     ]
    }
   ],
   "source": [
    "fruit = 'pineapple'\n",
    "print(fruit[0:9:2])"
   ]
  },
  {
   "cell_type": "code",
   "execution_count": 87,
   "metadata": {},
   "outputs": [
    {
     "name": "stdout",
     "output_type": "stream",
     "text": [
      "1357\n"
     ]
    }
   ],
   "source": [
    "no = '123456789'\n",
    "print(no[0:8:2])"
   ]
  },
  {
   "cell_type": "code",
   "execution_count": 88,
   "metadata": {},
   "outputs": [],
   "source": [
    "list_of_numbers = [1,2,3,4,5,6,7,8,9,10,11,12,13,14]\n",
    "\n",
    "slice_of_numbers = list_of_numbers[0:14:3]"
   ]
  },
  {
   "cell_type": "code",
   "execution_count": 89,
   "metadata": {},
   "outputs": [
    {
     "name": "stdout",
     "output_type": "stream",
     "text": [
      "[1, 4, 7, 10, 13]\n"
     ]
    }
   ],
   "source": [
    "print(slice_of_numbers)"
   ]
  },
  {
   "cell_type": "code",
   "execution_count": 90,
   "metadata": {},
   "outputs": [
    {
     "name": "stdout",
     "output_type": "stream",
     "text": [
      "5\n"
     ]
    }
   ],
   "source": [
    "print(len(slice_of_numbers))"
   ]
  },
  {
   "cell_type": "code",
   "execution_count": 105,
   "metadata": {},
   "outputs": [],
   "source": [
    "list_of_numbers = [1,2,3,4,5,6,7,8,9,10,11,12,13,14]\n",
    "\n",
    "slice_of_numbers = list_of_numbers[13:0:-1]"
   ]
  },
  {
   "cell_type": "code",
   "execution_count": 106,
   "metadata": {},
   "outputs": [
    {
     "name": "stdout",
     "output_type": "stream",
     "text": [
      "[14, 13, 12, 11, 10, 9, 8, 7, 6, 5, 4, 3, 2]\n"
     ]
    }
   ],
   "source": [
    "print(slice_of_numbers)"
   ]
  },
  {
   "cell_type": "code",
   "execution_count": 107,
   "metadata": {},
   "outputs": [],
   "source": [
    "list_of_numbers = [1,2,3,4,5,6,7,8,9,10,11,12,13,14]\n",
    "\n",
    "slice_of_numbers = list_of_numbers[::-1]"
   ]
  },
  {
   "cell_type": "code",
   "execution_count": 108,
   "metadata": {},
   "outputs": [
    {
     "name": "stdout",
     "output_type": "stream",
     "text": [
      "[14, 13, 12, 11, 10, 9, 8, 7, 6, 5, 4, 3, 2, 1]\n"
     ]
    }
   ],
   "source": [
    "print(slice_of_numbers)"
   ]
  },
  {
   "cell_type": "code",
   "execution_count": 109,
   "metadata": {},
   "outputs": [
    {
     "name": "stdout",
     "output_type": "stream",
     "text": [
      "akimana\n"
     ]
    }
   ],
   "source": [
    "x = 'anamika'\n",
    "\n",
    "print(x[::-1])"
   ]
  },
  {
   "cell_type": "markdown",
   "metadata": {},
   "source": [
    "## Q4) Print multiplication table of 5\n",
    "\n",
    "### Pseudocode:\n",
    "    1)loop from 1 to 10\n",
    "    2)for each item, print * of 5 with it."
   ]
  },
  {
   "cell_type": "code",
   "execution_count": 112,
   "metadata": {},
   "outputs": [
    {
     "name": "stdout",
     "output_type": "stream",
     "text": [
      "5 10 15 20 25 30 35 40 45 50 "
     ]
    }
   ],
   "source": [
    "for i in [1,2,3,4,5,6,7,8,9,10]:\n",
    "    print(i*5,end=' ')"
   ]
  },
  {
   "cell_type": "markdown",
   "metadata": {},
   "source": [
    "## Q5) Use a loop to display elements from a  list that are present at even index positions  [10, 20, 30, 40, 50, 60, 70, 80, 90, 100]"
   ]
  },
  {
   "cell_type": "code",
   "execution_count": 110,
   "metadata": {},
   "outputs": [
    {
     "name": "stdout",
     "output_type": "stream",
     "text": [
      "10\n",
      "30\n",
      "50\n",
      "70\n",
      "90\n"
     ]
    }
   ],
   "source": [
    "l =  [10, 20, 30, 40, 50, 60, 70, 80, 90, 100]\n",
    "x = l[::2]\n",
    "for value in x:\n",
    "\tprint(value)"
   ]
  },
  {
   "cell_type": "code",
   "execution_count": null,
   "metadata": {},
   "outputs": [],
   "source": []
  }
 ],
 "metadata": {
  "kernelspec": {
   "display_name": "Python 3",
   "language": "python",
   "name": "python3"
  },
  "language_info": {
   "codemirror_mode": {
    "name": "ipython",
    "version": 3
   },
   "file_extension": ".py",
   "mimetype": "text/x-python",
   "name": "python",
   "nbconvert_exporter": "python",
   "pygments_lexer": "ipython3",
   "version": "3.8.3"
  }
 },
 "nbformat": 4,
 "nbformat_minor": 4
}
