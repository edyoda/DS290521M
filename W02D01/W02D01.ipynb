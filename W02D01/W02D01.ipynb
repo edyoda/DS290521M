{
 "cells": [
  {
   "cell_type": "code",
   "execution_count": null,
   "metadata": {},
   "outputs": [],
   "source": [
    "Immutable Data Types(which we can't edit):\n",
    "    int\n",
    "    float\n",
    "    str\n",
    "    tuple\n",
    "    bool\n",
    "    None\n",
    "\n",
    "Mutable Data Types(which can be edited):\n",
    "    list\n",
    "    dict\n",
    "    set"
   ]
  },
  {
   "cell_type": "code",
   "execution_count": null,
   "metadata": {},
   "outputs": [],
   "source": [
    "Arithmetic Operators:\n",
    "    +,-,*,/,//,%,**"
   ]
  },
  {
   "cell_type": "code",
   "execution_count": null,
   "metadata": {},
   "outputs": [],
   "source": [
    "# % Modules Operator?\n",
    "\n",
    "a%b => remainder when you divide a by b."
   ]
  },
  {
   "cell_type": "code",
   "execution_count": null,
   "metadata": {},
   "outputs": [],
   "source": [
    "Comparison Operators:\n",
    "    Output: bool\n",
    "    1) Equals to ==\n",
    "    2) Not Equals to != \n",
    "    3) Greater than >\n",
    "    4) less than <\n",
    "    5) greater than or equals to >=\n",
    "    6) less than or equals to <="
   ]
  },
  {
   "cell_type": "code",
   "execution_count": null,
   "metadata": {},
   "outputs": [],
   "source": [
    "Logical Operators\n",
    "Output: bool\n",
    "1) and\n",
    "2) or\n",
    "3) not"
   ]
  },
  {
   "cell_type": "code",
   "execution_count": 1,
   "metadata": {},
   "outputs": [
    {
     "data": {
      "text/plain": [
       "False"
      ]
     },
     "execution_count": 1,
     "metadata": {},
     "output_type": "execute_result"
    }
   ],
   "source": [
    "True and False"
   ]
  },
  {
   "cell_type": "code",
   "execution_count": 2,
   "metadata": {},
   "outputs": [
    {
     "data": {
      "text/plain": [
       "True"
      ]
     },
     "execution_count": 2,
     "metadata": {},
     "output_type": "execute_result"
    }
   ],
   "source": [
    "True and True"
   ]
  },
  {
   "cell_type": "code",
   "execution_count": 3,
   "metadata": {},
   "outputs": [
    {
     "data": {
      "text/plain": [
       "True"
      ]
     },
     "execution_count": 3,
     "metadata": {},
     "output_type": "execute_result"
    }
   ],
   "source": [
    "True or False"
   ]
  },
  {
   "cell_type": "code",
   "execution_count": 4,
   "metadata": {},
   "outputs": [
    {
     "data": {
      "text/plain": [
       "False"
      ]
     },
     "execution_count": 4,
     "metadata": {},
     "output_type": "execute_result"
    }
   ],
   "source": [
    "False or False"
   ]
  },
  {
   "cell_type": "code",
   "execution_count": 5,
   "metadata": {},
   "outputs": [
    {
     "data": {
      "text/plain": [
       "False"
      ]
     },
     "execution_count": 5,
     "metadata": {},
     "output_type": "execute_result"
    }
   ],
   "source": [
    "not True"
   ]
  },
  {
   "cell_type": "code",
   "execution_count": 6,
   "metadata": {},
   "outputs": [
    {
     "data": {
      "text/plain": [
       "True"
      ]
     },
     "execution_count": 6,
     "metadata": {},
     "output_type": "execute_result"
    }
   ],
   "source": [
    "not False"
   ]
  },
  {
   "cell_type": "code",
   "execution_count": null,
   "metadata": {},
   "outputs": [],
   "source": [
    "Iterable Data Types: which contain collection of things:\n",
    "        str\n",
    "        dict\n",
    "        set\n",
    "        list\n",
    "        tuple\n",
    "        \n",
    "Non Iterables:\n",
    "    int\n",
    "    float\n",
    "    None\n",
    "    bool"
   ]
  },
  {
   "cell_type": "code",
   "execution_count": null,
   "metadata": {},
   "outputs": [],
   "source": [
    "Membership Operators:\n",
    "    1) in\n",
    "    2) not in\n",
    "    \n",
    "## We use them to check if an item is inside that iterable or not."
   ]
  },
  {
   "cell_type": "code",
   "execution_count": 13,
   "metadata": {},
   "outputs": [
    {
     "name": "stdout",
     "output_type": "stream",
     "text": [
      "True\n"
     ]
    }
   ],
   "source": [
    "fruits = {'kiwi','apple','banana','mango','pineapple'}\n",
    "\n",
    "print('kiwi' in fruits)"
   ]
  },
  {
   "cell_type": "code",
   "execution_count": 14,
   "metadata": {},
   "outputs": [
    {
     "name": "stdout",
     "output_type": "stream",
     "text": [
      "True\n"
     ]
    }
   ],
   "source": [
    "print('apple' in fruits)"
   ]
  },
  {
   "cell_type": "code",
   "execution_count": 15,
   "metadata": {},
   "outputs": [
    {
     "name": "stdout",
     "output_type": "stream",
     "text": [
      "False\n"
     ]
    }
   ],
   "source": [
    "print('mango' not in fruits)"
   ]
  },
  {
   "cell_type": "code",
   "execution_count": 16,
   "metadata": {},
   "outputs": [
    {
     "name": "stdout",
     "output_type": "stream",
     "text": [
      "True\n"
     ]
    }
   ],
   "source": [
    "dict1 = {'python':3,'django':2,'pandas':1}\n",
    "# Note: In dict membership operators checks for only keys and not values\n",
    "\n",
    "print('python' in dict1)"
   ]
  },
  {
   "cell_type": "code",
   "execution_count": 17,
   "metadata": {},
   "outputs": [
    {
     "name": "stdout",
     "output_type": "stream",
     "text": [
      "False\n"
     ]
    }
   ],
   "source": [
    "print('django' not in dict1)"
   ]
  },
  {
   "cell_type": "code",
   "execution_count": 18,
   "metadata": {},
   "outputs": [
    {
     "name": "stdout",
     "output_type": "stream",
     "text": [
      "False\n"
     ]
    }
   ],
   "source": [
    "print(3 in dict1)"
   ]
  },
  {
   "cell_type": "code",
   "execution_count": 21,
   "metadata": {},
   "outputs": [
    {
     "name": "stdout",
     "output_type": "stream",
     "text": [
      "dict_values([3, 2, 1])\n",
      "True\n",
      "<class 'dict_values'>\n"
     ]
    }
   ],
   "source": [
    "x = dict1.values()\n",
    "print(x)\n",
    "\n",
    "print(3 in x)\n",
    "print(type(x))"
   ]
  },
  {
   "cell_type": "code",
   "execution_count": 22,
   "metadata": {},
   "outputs": [
    {
     "name": "stdout",
     "output_type": "stream",
     "text": [
      "True\n"
     ]
    }
   ],
   "source": [
    "x = 'python'\n",
    "\n",
    "print('y' in x)"
   ]
  },
  {
   "cell_type": "code",
   "execution_count": 23,
   "metadata": {},
   "outputs": [
    {
     "name": "stdout",
     "output_type": "stream",
     "text": [
      "False\n"
     ]
    }
   ],
   "source": [
    "print('x' in x)"
   ]
  },
  {
   "cell_type": "code",
   "execution_count": 25,
   "metadata": {},
   "outputs": [
    {
     "name": "stdout",
     "output_type": "stream",
     "text": [
      "True\n"
     ]
    }
   ],
   "source": [
    "print('z' not in x)"
   ]
  },
  {
   "cell_type": "markdown",
   "metadata": {},
   "source": [
    "## Identity Operators\n",
    "### 1) is\n",
    "### 2) is not\n",
    "\n",
    "### Check if both the things are at same memory location, or basically are they exactly the same object.\n",
    "## Output: Bool"
   ]
  },
  {
   "cell_type": "code",
   "execution_count": 26,
   "metadata": {},
   "outputs": [],
   "source": [
    "x = [1,2]\n",
    "y = [1,2]"
   ]
  },
  {
   "cell_type": "code",
   "execution_count": 27,
   "metadata": {},
   "outputs": [
    {
     "name": "stdout",
     "output_type": "stream",
     "text": [
      "True\n"
     ]
    }
   ],
   "source": [
    "print(x == y)"
   ]
  },
  {
   "cell_type": "code",
   "execution_count": 28,
   "metadata": {},
   "outputs": [
    {
     "name": "stdout",
     "output_type": "stream",
     "text": [
      "False\n"
     ]
    }
   ],
   "source": [
    "print(x is y)"
   ]
  },
  {
   "cell_type": "code",
   "execution_count": 33,
   "metadata": {},
   "outputs": [
    {
     "name": "stdout",
     "output_type": "stream",
     "text": [
      "True\n"
     ]
    }
   ],
   "source": [
    "print(x is not y)"
   ]
  },
  {
   "cell_type": "code",
   "execution_count": 29,
   "metadata": {},
   "outputs": [
    {
     "name": "stdout",
     "output_type": "stream",
     "text": [
      "16841544\n"
     ]
    }
   ],
   "source": [
    "print(id(x))"
   ]
  },
  {
   "cell_type": "code",
   "execution_count": 30,
   "metadata": {},
   "outputs": [
    {
     "name": "stdout",
     "output_type": "stream",
     "text": [
      "16840264\n"
     ]
    }
   ],
   "source": [
    "print(id(y))"
   ]
  },
  {
   "cell_type": "code",
   "execution_count": 31,
   "metadata": {},
   "outputs": [
    {
     "name": "stdout",
     "output_type": "stream",
     "text": [
      "True\n"
     ]
    }
   ],
   "source": [
    "print(x[0] is y[0])"
   ]
  },
  {
   "cell_type": "code",
   "execution_count": 32,
   "metadata": {},
   "outputs": [
    {
     "name": "stdout",
     "output_type": "stream",
     "text": [
      "1762326448\n",
      "1762326448\n"
     ]
    }
   ],
   "source": [
    "print(id(x[0]))\n",
    "print(id(y[0]))"
   ]
  },
  {
   "cell_type": "markdown",
   "metadata": {},
   "source": [
    "## Conditinal Statements / if else"
   ]
  },
  {
   "cell_type": "code",
   "execution_count": 35,
   "metadata": {},
   "outputs": [
    {
     "name": "stdout",
     "output_type": "stream",
     "text": [
      "Ohh! x is not True\n",
      "I am not happy to see that x is False\n"
     ]
    }
   ],
   "source": [
    "x = False\n",
    "\n",
    "if x:\n",
    "    print('so x is True')\n",
    "    print('I am very happy to see that x is True')\n",
    "else:\n",
    "    print('Ohh! x is not True')\n",
    "    print('I am not happy to see that x is False')"
   ]
  },
  {
   "cell_type": "code",
   "execution_count": 37,
   "metadata": {},
   "outputs": [
    {
     "name": "stdout",
     "output_type": "stream",
     "text": [
      "Oh Wow let's catchup for a Coffee\n"
     ]
    }
   ],
   "source": [
    "x = 'Yes'\n",
    "\n",
    "if x == 'Yes':\n",
    "    print(\"Oh Wow let's catchup for a Coffee\")\n",
    "else:\n",
    "    print('Oh I was just kidding, See you later')"
   ]
  },
  {
   "cell_type": "code",
   "execution_count": 38,
   "metadata": {},
   "outputs": [
    {
     "ename": "SyntaxError",
     "evalue": "invalid syntax (<ipython-input-38-535a8ebbc24a>, line 1)",
     "output_type": "error",
     "traceback": [
      "\u001b[1;36m  File \u001b[1;32m\"<ipython-input-38-535a8ebbc24a>\"\u001b[1;36m, line \u001b[1;32m1\u001b[0m\n\u001b[1;33m    if :\u001b[0m\n\u001b[1;37m       ^\u001b[0m\n\u001b[1;31mSyntaxError\u001b[0m\u001b[1;31m:\u001b[0m invalid syntax\n"
     ]
    }
   ],
   "source": [
    "if :\n",
    "    print('hello world')"
   ]
  },
  {
   "cell_type": "code",
   "execution_count": 51,
   "metadata": {},
   "outputs": [],
   "source": [
    "x = [1,4,5,2]\n",
    "\n",
    "# Question: if 2 is inside list, print Hip Hip Hurray!! else print Oh no oh no oh no no no"
   ]
  },
  {
   "cell_type": "code",
   "execution_count": 52,
   "metadata": {},
   "outputs": [
    {
     "name": "stdout",
     "output_type": "stream",
     "text": [
      "Hip Hip Hurray\n"
     ]
    }
   ],
   "source": [
    "if 2 in x:\n",
    "    print('Hip Hip Hurray')\n",
    "else:\n",
    "    print('oh no, oh no , oh no no no no')"
   ]
  },
  {
   "cell_type": "code",
   "execution_count": 53,
   "metadata": {},
   "outputs": [],
   "source": [
    "# Question: if 2 and 3 are inside list, print Hip Hip Hurray!! else print Oh no oh no oh no no no"
   ]
  },
  {
   "cell_type": "code",
   "execution_count": 54,
   "metadata": {},
   "outputs": [
    {
     "name": "stdout",
     "output_type": "stream",
     "text": [
      "oh no, oh no , oh no no no no\n"
     ]
    }
   ],
   "source": [
    "if 2 in x and 3 in x:\n",
    "    print('Hip Hip Hurray')\n",
    "else:\n",
    "    print('oh no, oh no , oh no no no no')"
   ]
  },
  {
   "cell_type": "code",
   "execution_count": 57,
   "metadata": {},
   "outputs": [
    {
     "name": "stdout",
     "output_type": "stream",
     "text": [
      "a is not divisible by b\n"
     ]
    }
   ],
   "source": [
    "# if a no a is divisible by b?\n",
    "\n",
    "a = 5\n",
    "b = 2\n",
    "\n",
    "if a%b == 0:\n",
    "    print('a is divisible by b')\n",
    "else:\n",
    "    print('a is not divisible by b')"
   ]
  },
  {
   "cell_type": "code",
   "execution_count": 59,
   "metadata": {},
   "outputs": [
    {
     "name": "stdout",
     "output_type": "stream",
     "text": [
      "a is divisible by d\n"
     ]
    }
   ],
   "source": [
    "# if a no a is divisible by b or c or d?\n",
    "\n",
    "a = 21\n",
    "b = 2\n",
    "c = 5\n",
    "d = 7\n",
    "\n",
    "if a%b == 0:\n",
    "    print('a is divisible by b')\n",
    "elif a%c == 0:\n",
    "    print('a is divisible by c')\n",
    "elif a%d == 0:\n",
    "    print('a is divisible by d')\n",
    "else:\n",
    "    print('a is not divisible by b or c')"
   ]
  },
  {
   "cell_type": "code",
   "execution_count": 67,
   "metadata": {},
   "outputs": [
    {
     "name": "stdout",
     "output_type": "stream",
     "text": [
      "a is divisible by b\n"
     ]
    }
   ],
   "source": [
    "# if a no a is divisible by b or c or d?\n",
    "\n",
    "a = 70\n",
    "b = 2\n",
    "c = 5\n",
    "d = 7\n",
    "\n",
    "if a%b == 0:\n",
    "    print('a is divisible by b')\n",
    "elif a%c == 0:\n",
    "    print('a is divisible by c')\n",
    "elif a%d == 0:\n",
    "    print('a is divisible by d')\n",
    "else:\n",
    "    print('a is not divisible by b or c')"
   ]
  },
  {
   "cell_type": "code",
   "execution_count": 66,
   "metadata": {},
   "outputs": [
    {
     "name": "stdout",
     "output_type": "stream",
     "text": [
      "Yes I am going to manali!! I will enjoy mountains!\n"
     ]
    }
   ],
   "source": [
    "tickets = ['kerala','manali']\n",
    "\n",
    "if 'manali' in tickets:\n",
    "    print('Yes I am going to manali!! I will enjoy mountains!')\n",
    "elif 'goa' in tickets:\n",
    "    print('I am going to enjoy beach')\n",
    "elif 'north-east' in tickets:\n",
    "    print(\"I am going to go to all the 7 sisters and Nagaland as well\")\n",
    "elif 'kerala' in tickets:\n",
    "    print('I am going to enjoy the most here, with Lakes and Greenery')\n",
    "else:\n",
    "    print(\" I am going to stay home(crying!)\")"
   ]
  },
  {
   "cell_type": "code",
   "execution_count": 69,
   "metadata": {},
   "outputs": [
    {
     "name": "stdout",
     "output_type": "stream",
     "text": [
      "Yes I am going to manali!! I will enjoy mountains!\n",
      "I am going to enjoy beach\n",
      "I am going to enjoy the most here, with Lakes and Greenery\n"
     ]
    }
   ],
   "source": [
    "tickets = ['kerala','manali','goa']\n",
    "\n",
    "if 'manali' in tickets:\n",
    "    print('Yes I am going to manali!! I will enjoy mountains!')\n",
    "if 'goa' in tickets:\n",
    "    print('I am going to enjoy beach')\n",
    "if 'north-east' in tickets:\n",
    "    print(\"I am going to go to all the 7 sisters and Nagaland as well\")\n",
    "if 'kerala' in tickets:\n",
    "    print('I am going to enjoy the most here, with Lakes and Greenery')\n",
    "if 'home' in tickets:\n",
    "    print(\" I am going to stay home(crying!)\")"
   ]
  },
  {
   "cell_type": "code",
   "execution_count": 70,
   "metadata": {},
   "outputs": [
    {
     "name": "stdout",
     "output_type": "stream",
     "text": [
      "a is divisible by b\n",
      "a is divisible by c\n",
      "a is divisible by d\n"
     ]
    }
   ],
   "source": [
    "# if a no a is divisible by b or c or d?\n",
    "\n",
    "a = 70\n",
    "b = 2\n",
    "c = 5\n",
    "d = 7\n",
    "\n",
    "if a%b == 0:\n",
    "    print('a is divisible by b')\n",
    "if a%c == 0:\n",
    "    print('a is divisible by c')\n",
    "if a%d == 0:\n",
    "    print('a is divisible by d')\n",
    "else:\n",
    "    print('a is not divisible by b or c or d')"
   ]
  },
  {
   "cell_type": "code",
   "execution_count": 75,
   "metadata": {},
   "outputs": [
    {
     "name": "stdout",
     "output_type": "stream",
     "text": [
      "a is divisible by b,c as well as d\n"
     ]
    }
   ],
   "source": [
    "# if a no a is divisible by b or c or d?\n",
    "\n",
    "a = 70\n",
    "b = 2\n",
    "c = 5\n",
    "d = 7\n",
    "\n",
    "if a%b == 0 and a%c == 0 and a%d == 0:\n",
    "    print('a is divisible by b,c as well as d')\n",
    "else:\n",
    "    print('a is not divisible by all of them at the same time')"
   ]
  },
  {
   "cell_type": "code",
   "execution_count": 76,
   "metadata": {},
   "outputs": [
    {
     "name": "stdout",
     "output_type": "stream",
     "text": [
      "Mohit's Bakery\n",
      "1) Cake 3) Veg Rolls\n",
      "2) Cream Rolls 4) Patties\n"
     ]
    }
   ],
   "source": [
    "print(\"Mohit's Bakery\")\n",
    "print(\"1) Cake\",\"3) Veg Rolls\")\n",
    "print(\"2) Cream Rolls\",\"4) Patties\")"
   ]
  },
  {
   "cell_type": "code",
   "execution_count": 78,
   "metadata": {},
   "outputs": [],
   "source": [
    "orderbyAnamika = ['Cake','Patties']\n",
    "orderbyVinaySoni = ['Cream Rolls','Veg Rolls']"
   ]
  },
  {
   "cell_type": "code",
   "execution_count": 79,
   "metadata": {},
   "outputs": [
    {
     "name": "stdout",
     "output_type": "stream",
     "text": [
      "Have your cake Please\n",
      "Enjoy your hot patties\n"
     ]
    }
   ],
   "source": [
    "orders = orderbyAnamika\n",
    "if 'Cake' in orders:\n",
    "    print('Have your cake Please')\n",
    "if 'Patties' in orders:\n",
    "    print('Enjoy your hot patties')\n",
    "if 'Cream Rolls' in orders:\n",
    "    print(\"Enjoy your Cream Roll\")\n",
    "if 'Veg Rolls' in orders:\n",
    "    print('Please have your fresh VegRoll')"
   ]
  },
  {
   "cell_type": "code",
   "execution_count": 80,
   "metadata": {},
   "outputs": [
    {
     "name": "stdout",
     "output_type": "stream",
     "text": [
      "Enjoy your Cream Roll\n",
      "Please have your fresh VegRoll\n"
     ]
    }
   ],
   "source": [
    "orders = orderbyVinaySoni\n",
    "if 'Cake' in orders:\n",
    "    print('Have your cake Please')\n",
    "if 'Patties' in orders:\n",
    "    print('Enjoy your hot patties')\n",
    "if 'Cream Rolls' in orders:\n",
    "    print(\"Enjoy your Cream Roll\")\n",
    "if 'Veg Rolls' in orders:\n",
    "    print('Please have your fresh VegRoll')"
   ]
  },
  {
   "cell_type": "code",
   "execution_count": 91,
   "metadata": {},
   "outputs": [
    {
     "name": "stdout",
     "output_type": "stream",
     "text": [
      "You can have a beer and cold drink\n"
     ]
    }
   ],
   "source": [
    "age = 19\n",
    "if age<18:\n",
    "    print('You can only have cold drinks')\n",
    "elif age>18 and age<21:\n",
    "    print('You can have a beer and cold drink')\n",
    "else:\n",
    "    print('You can have any drink')"
   ]
  },
  {
   "cell_type": "code",
   "execution_count": 86,
   "metadata": {},
   "outputs": [
    {
     "name": "stdout",
     "output_type": "stream",
     "text": [
      "how you doing\n"
     ]
    }
   ],
   "source": [
    "gender = 'none'\n",
    "if gender == 'boy':\n",
    "    print('how are you bro')\n",
    "elif gender == 'girl':\n",
    "    print('how are you sis')\n",
    "else:\n",
    "    print('how you doing')"
   ]
  },
  {
   "cell_type": "code",
   "execution_count": 98,
   "metadata": {},
   "outputs": [
    {
     "name": "stdout",
     "output_type": "stream",
     "text": [
      "Mohit: Will you date me?\n",
      "Deepika Padukone: yes\n",
      "Mohit: See you at LOC(Love over Coffee) near your house\n",
      "Deepkia Padukone: ok cool\n",
      "Okay see you there\n"
     ]
    }
   ],
   "source": [
    "print(\"Mohit: Will you date me?\")\n",
    "\n",
    "reply = 'yes'\n",
    "print('Deepika Padukone:',reply)\n",
    "\n",
    "if reply == 'yes':\n",
    "    print('Mohit: See you at LOC(Love over Coffee) near your house')\n",
    "#     reply2 = 'Yeah!! Sure (heart Emojis)'\n",
    "    reply2 = 'ok cool'\n",
    "    print('Deepkia Padukone:',reply2)\n",
    "    if reply2 == 'Yeah!! Sure (heart Emojis)':\n",
    "        print('Mohit: Kissing Emojis')\n",
    "    else:\n",
    "        print(\"Okay see you there\")\n",
    "elif reply == 'maybe':\n",
    "    print('take your time and ....................say Yes :)')\n",
    "elif reply == 'we can think about it':\n",
    "    print('Mohit: OKay lets think about it')\n",
    "elif reply == 'i like you as a friend':\n",
    "    print('Mohit: Chappal se marle plzzzz par friendzone mat kr.')\n",
    "    print(\"Mohit: Please beat me with slippers but don't friendzone me\")\n",
    "else:\n",
    "    print('Mohit: HEHEHEHEEHEHEHEHEHEH, I WAS JUST KIDDING')"
   ]
  },
  {
   "cell_type": "code",
   "execution_count": 99,
   "metadata": {},
   "outputs": [
    {
     "name": "stdout",
     "output_type": "stream",
     "text": [
      "Received paytm amount of Rs 10\n",
      "Received paytm amount of Rs 500\n",
      "Received paytm amount of Rs 50\n",
      "Received paytm amount of Rs 60\n"
     ]
    }
   ],
   "source": [
    "payments = [10,500,50,60]\n",
    "for payment in payments:\n",
    "    print('Received paytm amount of Rs',payment)"
   ]
  },
  {
   "cell_type": "code",
   "execution_count": 100,
   "metadata": {},
   "outputs": [
    {
     "name": "stdout",
     "output_type": "stream",
     "text": [
      "kiwi\n",
      "apple\n",
      "banana\n"
     ]
    }
   ],
   "source": [
    "fruits = ('kiwi','apple','banana')\n",
    "for f in fruits:\n",
    "    print(f)"
   ]
  },
  {
   "cell_type": "code",
   "execution_count": null,
   "metadata": {},
   "outputs": [],
   "source": [
    "Iterables:\n",
    "    str\n",
    "    list\n",
    "    tuple\n",
    "    dict\n",
    "    set\n",
    "    \n",
    "Non Iterables:\n",
    "    int \n",
    "    float\n",
    "    bool\n",
    "    None"
   ]
  },
  {
   "cell_type": "code",
   "execution_count": 101,
   "metadata": {},
   "outputs": [
    {
     "name": "stdout",
     "output_type": "stream",
     "text": [
      "python\n",
      "java\n"
     ]
    }
   ],
   "source": [
    "dict1 = {'python':3,'java':8}\n",
    "for k in dict1:\n",
    "    print(k)"
   ]
  },
  {
   "cell_type": "code",
   "execution_count": 104,
   "metadata": {},
   "outputs": [
    {
     "name": "stdout",
     "output_type": "stream",
     "text": [
      "p\n",
      "y\n",
      "t\n",
      "h\n",
      "o\n",
      "n\n",
      " \n",
      "i\n",
      "s\n",
      " \n",
      "c\n",
      "o\n",
      "o\n",
      "l\n"
     ]
    }
   ],
   "source": [
    "str1 = 'python is cool'\n",
    "\n",
    "for prakash_reddy in str1:\n",
    "    print(prakash_reddy)"
   ]
  },
  {
   "cell_type": "code",
   "execution_count": null,
   "metadata": {},
   "outputs": [],
   "source": [
    "When do we use loops?\n",
    "When there is piece of code which needs to run again and again with some different values prsent in an iterable."
   ]
  },
  {
   "cell_type": "code",
   "execution_count": 107,
   "metadata": {},
   "outputs": [
    {
     "name": "stdout",
     "output_type": "stream",
     "text": [
      "1  is not divisible by 2\n",
      "2 is divisible by 2\n",
      "3  is not divisible by 2\n",
      "4 is divisible by 2\n",
      "5  is not divisible by 2\n",
      "6 is divisible by 2\n",
      "7  is not divisible by 2\n",
      "8 is divisible by 2\n",
      "9  is not divisible by 2\n",
      "10 is divisible by 2\n"
     ]
    }
   ],
   "source": [
    "# Question: Check which one of them are even\n",
    "set_of_numbers = {1,2,3,4,5,6,7,8,9,10}\n",
    "\n",
    "for no in set_of_numbers:\n",
    "    if no%2 == 0:\n",
    "        print(no,'is divisible by 2')\n",
    "    else:\n",
    "        print(no,' is not divisible by 2')"
   ]
  },
  {
   "cell_type": "code",
   "execution_count": null,
   "metadata": {},
   "outputs": [],
   "source": []
  }
 ],
 "metadata": {
  "kernelspec": {
   "display_name": "Python 3",
   "language": "python",
   "name": "python3"
  },
  "language_info": {
   "codemirror_mode": {
    "name": "ipython",
    "version": 3
   },
   "file_extension": ".py",
   "mimetype": "text/x-python",
   "name": "python",
   "nbconvert_exporter": "python",
   "pygments_lexer": "ipython3",
   "version": "3.8.3"
  }
 },
 "nbformat": 4,
 "nbformat_minor": 4
}
