{
 "cells": [
  {
   "cell_type": "code",
   "execution_count": null,
   "metadata": {},
   "outputs": [],
   "source": [
    "Write a Python Program to read the file cat.txt and than create another file which\n",
    "will contain all the names of files which are starting with CAT_.\n",
    "It should not contain duplicates.\n",
    "Order should be same"
   ]
  },
  {
   "cell_type": "code",
   "execution_count": 8,
   "metadata": {},
   "outputs": [
    {
     "name": "stdout",
     "output_type": "stream",
     "text": [
      "CAT_IntegrationSetUtil\n",
      "CAT_EquityAggregateUtil\n",
      "CAT_PrecycleUIUtil\n",
      "CAT_PrecycleUIUtil\n",
      "CAT_FocalFileTriggerUtilTest\n",
      "CAT_AdminConsoleController\n",
      "CAT_LetterTriggerHandler\n",
      "CAT_SlotsAllocationController\n",
      "CAT_LetterTemplateControllerTest\n",
      "CAT_DataRefreshBatch\n",
      "CAT_MeritMatrixBatch\n",
      "CAT_LettersListViewControllerTest\n",
      "CAT_PMTShareUtil\n",
      "CAT_Focal_Related_Info\n",
      "CAT_LettersListViewControllerTest\n",
      "CAT_LetterTemplateController\n",
      "CAT_PromoMatrixBatch\n",
      "CAT_EquityAggregateUtilTest\n",
      "CAT_UIUtilHelper\n",
      "CAT_UIUtilHelper\n",
      "CAT_UIUtilHelper\n",
      "CAT_OverrideManagerTest\n",
      "CAT_LettersListViewControllerTest\n",
      "CAT_SecurityMatrixTests\n",
      "CAT_LettersListViewControllerTest\n",
      "CAT_RLTDEditController\n",
      "CAT_PromoMatrixBatch\n"
     ]
    }
   ],
   "source": [
    "fp = open('cat.txt','r')\n",
    "fp2 = open('cat2.txt','w+')\n",
    "\n",
    "LinesList = fp.readlines()\n",
    "FinalLinesList = []\n",
    "for line in LinesList:\n",
    "    if 'CAT_' in line:\n",
    "        wordsList = line.split()\n",
    "        for word in wordsList:\n",
    "            if 'CAT_' in word:\n",
    "                modified_word = word.rstrip('.')\n",
    "                if modified_word in FinalLinesList:\n",
    "                    print(modified_word)\n",
    "                else:\n",
    "                    fp2.write(modified_word)\n",
    "                    FinalLinesList.append(modified_word)\n",
    "                    fp2.write('\\n')\n",
    "fp.close()\n",
    "fp2.close()"
   ]
  },
  {
   "cell_type": "markdown",
   "metadata": {},
   "source": [
    "# seek() and tell()"
   ]
  },
  {
   "cell_type": "code",
   "execution_count": 9,
   "metadata": {},
   "outputs": [
    {
     "name": "stdout",
     "output_type": "stream",
     "text": [
      "0\n"
     ]
    }
   ],
   "source": [
    "fp = open('blinker.txt','r')\n",
    "\n",
    "print(fp.tell())"
   ]
  },
  {
   "cell_type": "code",
   "execution_count": 10,
   "metadata": {},
   "outputs": [
    {
     "name": "stdout",
     "output_type": "stream",
     "text": [
      "blink 1\n",
      "\n"
     ]
    }
   ],
   "source": [
    "print(fp.readline())"
   ]
  },
  {
   "cell_type": "code",
   "execution_count": 11,
   "metadata": {},
   "outputs": [
    {
     "name": "stdout",
     "output_type": "stream",
     "text": [
      "9\n"
     ]
    }
   ],
   "source": [
    "print(fp.tell())"
   ]
  },
  {
   "cell_type": "code",
   "execution_count": null,
   "metadata": {},
   "outputs": [],
   "source": [
    "'\\n' is also there."
   ]
  },
  {
   "cell_type": "code",
   "execution_count": 12,
   "metadata": {},
   "outputs": [
    {
     "name": "stdout",
     "output_type": "stream",
     "text": [
      "blin\n"
     ]
    }
   ],
   "source": [
    "print(fp.read(4))"
   ]
  },
  {
   "cell_type": "code",
   "execution_count": 13,
   "metadata": {},
   "outputs": [
    {
     "name": "stdout",
     "output_type": "stream",
     "text": [
      "13\n"
     ]
    }
   ],
   "source": [
    "print(fp.tell())"
   ]
  },
  {
   "cell_type": "code",
   "execution_count": 16,
   "metadata": {},
   "outputs": [
    {
     "name": "stdout",
     "output_type": "stream",
     "text": [
      "8\n"
     ]
    }
   ],
   "source": [
    "fp = open('blinker.txt','r')\n",
    "\n",
    "x = fp.readlines()\n",
    "\n",
    "print(len(x[0]))\n",
    "fp.close()"
   ]
  },
  {
   "cell_type": "code",
   "execution_count": 19,
   "metadata": {},
   "outputs": [
    {
     "name": "stdout",
     "output_type": "stream",
     "text": [
      "0\n",
      "5\n",
      "10\n",
      "2\n"
     ]
    }
   ],
   "source": [
    "fp = open('blinker.txt','r')\n",
    "\n",
    "print(fp.tell())\n",
    "\n",
    "fp.seek(fp.tell()+5,0)\n",
    "\n",
    "print(fp.tell())\n",
    "\n",
    "fp.seek(fp.tell()+5,0)\n",
    "\n",
    "print(fp.tell())\n",
    "\n",
    "fp.seek(fp.tell()-8,0)\n",
    "\n",
    "print(fp.tell())"
   ]
  },
  {
   "cell_type": "code",
   "execution_count": 20,
   "metadata": {},
   "outputs": [
    {
     "data": {
      "text/plain": [
       "'in'"
      ]
     },
     "execution_count": 20,
     "metadata": {},
     "output_type": "execute_result"
    }
   ],
   "source": [
    "fp.read(2)"
   ]
  },
  {
   "cell_type": "code",
   "execution_count": 21,
   "metadata": {},
   "outputs": [
    {
     "data": {
      "text/plain": [
       "43"
      ]
     },
     "execution_count": 21,
     "metadata": {},
     "output_type": "execute_result"
    }
   ],
   "source": [
    "fp.seek(0,2)"
   ]
  },
  {
   "cell_type": "code",
   "execution_count": 22,
   "metadata": {},
   "outputs": [
    {
     "name": "stdout",
     "output_type": "stream",
     "text": [
      "43\n"
     ]
    }
   ],
   "source": [
    "print(fp.tell())"
   ]
  },
  {
   "cell_type": "code",
   "execution_count": 23,
   "metadata": {},
   "outputs": [
    {
     "data": {
      "text/plain": [
       "''"
      ]
     },
     "execution_count": 23,
     "metadata": {},
     "output_type": "execute_result"
    }
   ],
   "source": [
    "fp.read(3)"
   ]
  },
  {
   "cell_type": "code",
   "execution_count": 24,
   "metadata": {},
   "outputs": [],
   "source": [
    "fp.close()"
   ]
  },
  {
   "cell_type": "markdown",
   "metadata": {},
   "source": [
    "# Regular Expression"
   ]
  },
  {
   "cell_type": "code",
   "execution_count": null,
   "metadata": {},
   "outputs": [],
   "source": [
    "What is Regular Expression\n",
    "\n",
    "It is a String containing some rules to match or define particular pattern.\n",
    "Everything around Regular expression is put inside a module named as re in python."
   ]
  },
  {
   "cell_type": "code",
   "execution_count": null,
   "metadata": {},
   "outputs": [],
   "source": [
    "-> Pattern Validation\n",
    "-> Pattern Extraction\n",
    "-> String Matching and finding"
   ]
  },
  {
   "cell_type": "code",
   "execution_count": 29,
   "metadata": {},
   "outputs": [],
   "source": [
    "## Metacharacters\n",
    "\n",
    ".(dot) => matches with all the char(alphabets,digits,special chars etc..)\n",
    "except the newline character.\n",
    ". single dot means single char and that char could be anything as mentioned above\n",
    "\n",
    "[] => Character Class. A set of chars\n",
    "[A-Z] => all the capital alphabets from A to Z (single occurence)\n",
    "[a-z] => all the small alpabets (single occurence)\n",
    "[0-9] => digits (single occurence)\n",
    "[$%atMNO123] => match occurence of one of these {'$','%','a','t','M','N','O',1,2,3}\n",
    "\n",
    "Quantifiers:\n",
    "    + => atleast 1 or more occurence (for example [0-9]+ means that a digit will appear atleast 1\n",
    "                                     or more no of times)\n",
    "    * => 0 or more occurence (for example [0-9]* means that a digit will appear 0 or more no of times)\n",
    "    \n",
    "    ? => Optional (once or not at all) (for example [0-9]? means that a digit will appear 0 or 1 times)\n",
    "    \n",
    "Anchors:\n",
    "    ^ => start of the string ('^CAT')\n",
    "\n",
    "    $ => end of the string\n",
    "    \n",
    "    \n",
    "{} -> counting stuff\n",
    "\n",
    "[a-z]{2} => small alphabet should occur exactly 2 times.\n",
    "[0-9]{3} => digits should appear exactly 3 times.\n",
    "[A-Z]{3,5} => should occur either 3,4, or 5 times\n",
    "\n",
    "^compliment (reversal)\n",
    "\n",
    "[^0-9] => everything is acceptable except the digits."
   ]
  },
  {
   "cell_type": "code",
   "execution_count": 30,
   "metadata": {},
   "outputs": [],
   "source": [
    "import re"
   ]
  },
  {
   "cell_type": "code",
   "execution_count": null,
   "metadata": {},
   "outputs": [],
   "source": [
    "## re.search(REGX,STRING_in_which_you_want_to_search_the_REGX)\n",
    "\n",
    "## re.search matches the first pattern according to the regx inside the string and returns a match\n",
    "# object with info"
   ]
  }
 ],
 "metadata": {
  "kernelspec": {
   "display_name": "Python 3",
   "language": "python",
   "name": "python3"
  },
  "language_info": {
   "codemirror_mode": {
    "name": "ipython",
    "version": 3
   },
   "file_extension": ".py",
   "mimetype": "text/x-python",
   "name": "python",
   "nbconvert_exporter": "python",
   "pygments_lexer": "ipython3",
   "version": "3.8.3"
  }
 },
 "nbformat": 4,
 "nbformat_minor": 4
}
