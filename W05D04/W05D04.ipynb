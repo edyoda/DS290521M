{
 "cells": [
  {
   "cell_type": "code",
   "execution_count": null,
   "metadata": {},
   "outputs": [],
   "source": [
    "## Metacharacters\n",
    "\n",
    ".(dot) => matches with all the char(alphabets,digits,special chars etc..)\n",
    "except the newline character.\n",
    ". single dot means single char and that char could be anything as mentioned above\n",
    "\n",
    "[] => Character Class. A set of chars\n",
    "[A-Z] => all the capital alphabets from A to Z (single occurence)\n",
    "[a-z] => all the small alpabets (single occurence)\n",
    "[0-9] => digits (single occurence)\n",
    "[$%atMNO123] => match occurence of one of these {'$','%','a','t','M','N','O',1,2,3}\n",
    "\n",
    "Quantifiers:\n",
    "    + => atleast 1 or more occurence (for example [0-9]+ means that a digit will appear atleast 1\n",
    "                                     or more no of times)\n",
    "    * => 0 or more occurence (for example [0-9]* means that a digit will appear 0 or more no of times)\n",
    "    \n",
    "    ? => Optional (once or not at all) (for example [0-9]? means that a digit will appear 0 or 1 times)\n",
    "    \n",
    "Anchors:\n",
    "    ^ => start of the string ('^CAT')\n",
    "\n",
    "    $ => end of the string\n",
    "    \n",
    "    \n",
    "{} -> counting stuff\n",
    "\n",
    "[a-z]{2} => small alphabet should occur exactly 2 times.\n",
    "[0-9]{3} => digits should appear exactly 3 times.\n",
    "[A-Z]{3,5} => should occur either 3,4, or 5 times\n",
    "\n",
    "^compliment (reversal)\n",
    "\n",
    "[^0-9] => everything is acceptable except the digits."
   ]
  },
  {
   "cell_type": "code",
   "execution_count": null,
   "metadata": {},
   "outputs": [],
   "source": [
    "IF I have to import all the modules from a package?\n",
    "\n",
    "__init__ file\n",
    "__all__ = ['mod1','mod2',etc all of them]\n",
    "\n",
    "from package import *"
   ]
  },
  {
   "cell_type": "code",
   "execution_count": null,
   "metadata": {},
   "outputs": [],
   "source": [
    "Question 1: Write a regx to match 3 digits followed by atleast 3 special chars"
   ]
  },
  {
   "cell_type": "code",
   "execution_count": 6,
   "metadata": {},
   "outputs": [
    {
     "name": "stdout",
     "output_type": "stream",
     "text": [
      "<re.Match object; span=(0, 7), match='123#$%$'>\n",
      "None\n",
      "<re.Match object; span=(0, 6), match='456!@#'>\n"
     ]
    }
   ],
   "source": [
    "import re\n",
    "regx = '[0-9]{3}[!-@]{3}[!-@]*'\n",
    "\n",
    "list_of_words = ['123#$%$','12#$%','456!@#']\n",
    "\n",
    "for word  in list_of_words:\n",
    "    print(re.search(regx,word))"
   ]
  },
  {
   "cell_type": "code",
   "execution_count": null,
   "metadata": {},
   "outputs": [],
   "source": [
    "Question 2: Write a regular expression to match an email address."
   ]
  },
  {
   "cell_type": "code",
   "execution_count": 8,
   "metadata": {},
   "outputs": [
    {
     "name": "stdout",
     "output_type": "stream",
     "text": [
      "<re.Match object; span=(0, 14), match='mohit@gmil.com'>\n",
      "None\n",
      "None\n",
      "<re.Match object; span=(0, 16), match='google@apple.com'>\n",
      "<re.Match object; span=(0, 20), match='hotmail@coldmail.com'>\n",
      "<re.Match object; span=(0, 15), match='mohit@amazon.in'>\n"
     ]
    }
   ],
   "source": [
    "email_addresses = ['mohit@gmil.com','fake1#gmail.com',\n",
    "                   'fake@gmail','google@apple.com','hotmail@coldmail.com','mohit@amazon.in']\n",
    "\n",
    "regx='[a-zA-Z0-9]+@[A-Za-z]+[.][a-z]+'\n",
    "\n",
    "for email in email_addresses:\n",
    "    print(re.search(regx,email))"
   ]
  },
  {
   "cell_type": "code",
   "execution_count": null,
   "metadata": {},
   "outputs": [],
   "source": [
    "Question 3: Write a program to validate a password with these requirements:\n",
    "        total >= 8 len\n",
    "        must include a uppercase letter\n",
    "        must include a lowercase letter\n",
    "        must include a special symbol\n",
    "        must include a single digit"
   ]
  },
  {
   "cell_type": "code",
   "execution_count": 30,
   "metadata": {},
   "outputs": [
    {
     "name": "stdout",
     "output_type": "stream",
     "text": [
      "Apple@1234 is valid!!\n",
      "Special$force1 is valid!!\n"
     ]
    }
   ],
   "source": [
    "list_of_passwords = ['Apple@1234','apple@1234','APPLE@1234'\n",
    "                     ,'Apple@Mango','1234@1234','Special$force1']\n",
    "regx='[!-@a-zA-Z0-9]{7}[!-@a-zA-Z0-9]+'\n",
    "flags_list = [0,0,0,0,0]\n",
    "for password in list_of_passwords:\n",
    "    if len(password) >= 8:\n",
    "        flags_list[4] = 1\n",
    "    for char in password:\n",
    "        ascii_value = ord(char)\n",
    "        if ascii_value in list(range(ord('a'),ord('z')+1)):\n",
    "            flags_list[0] = 1\n",
    "        if ascii_value in list(range(ord('A'),ord('Z')+1)):\n",
    "            flags_list[1] = 1\n",
    "        if ascii_value in list(range(ord('!'),ord('/')+1)) or ascii_value in list(range(ord(':'),ord('@')+1)):\n",
    "            flags_list[2] = 1\n",
    "        if ascii_value in list(range(ord('0'),ord('9')+1)):\n",
    "            flags_list[3] = 1\n",
    "    \n",
    "    if sum(flags_list) == 5:\n",
    "        print(password,'is valid!!')\n",
    "    flags_list = [0]*5"
   ]
  },
  {
   "cell_type": "code",
   "execution_count": null,
   "metadata": {},
   "outputs": [],
   "source": [
    "Anchors:\n",
    "    ^ => start of the string ('^CAT')\n",
    "\n",
    "    $ => end of the string"
   ]
  },
  {
   "cell_type": "code",
   "execution_count": 34,
   "metadata": {},
   "outputs": [
    {
     "name": "stdout",
     "output_type": "stream",
     "text": [
      "<re.Match object; span=(0, 10), match='Apple@1234'>\n",
      "None\n",
      "<re.Match object; span=(0, 10), match='APPLE@1234'>\n",
      "<re.Match object; span=(0, 11), match='Apple@Mango'>\n",
      "None\n",
      "<re.Match object; span=(0, 14), match='Special$force1'>\n",
      "<re.Match object; span=(0, 1), match='X'>\n",
      "None\n"
     ]
    }
   ],
   "source": [
    "list_of_words = ['Apple@1234','applAe@1234','APPLE@1234'\n",
    "                     ,'Apple@Mango','1234@1234','Special$force1','X','mangoAPPLE']\n",
    "\n",
    "regx = '^[A-Z].*'\n",
    "\n",
    "for word in list_of_words:\n",
    "    print(re.search(regx,word))"
   ]
  },
  {
   "cell_type": "code",
   "execution_count": 35,
   "metadata": {},
   "outputs": [
    {
     "name": "stdout",
     "output_type": "stream",
     "text": [
      "None\n",
      "None\n",
      "None\n",
      "None\n",
      "<re.Match object; span=(0, 9), match='1234@1234'>\n",
      "None\n",
      "None\n",
      "None\n"
     ]
    }
   ],
   "source": [
    "list_of_words = ['Apple@1234','applAe@1234','APPLE@1234'\n",
    "                     ,'Apple@Mango','1234@1234','Special$force1','X','mangoAPPLE']\n",
    "\n",
    "regx = '^[0-9].*'\n",
    "\n",
    "for word in list_of_words:\n",
    "    print(re.search(regx,word))"
   ]
  },
  {
   "cell_type": "code",
   "execution_count": 39,
   "metadata": {},
   "outputs": [
    {
     "name": "stdout",
     "output_type": "stream",
     "text": [
      "<re.Match object; span=(0, 11), match='@Apple@1234'>\n",
      "None\n",
      "<re.Match object; span=(0, 11), match=':APPLE@1234'>\n",
      "<re.Match object; span=(0, 12), match='#Apple@Mango'>\n",
      "None\n",
      "None\n",
      "None\n",
      "None\n"
     ]
    }
   ],
   "source": [
    "list_of_words = ['@Apple@1234','applAe@1234',':APPLE@1234'\n",
    "                     ,'#Apple@Mango','1234@1234','Special$force1','X','mangoAPPLE']\n",
    "\n",
    "regx = '^[!-/:-@].*'\n",
    "\n",
    "for word in list_of_words:\n",
    "    print(re.search(regx,word))"
   ]
  },
  {
   "cell_type": "code",
   "execution_count": 43,
   "metadata": {},
   "outputs": [
    {
     "name": "stdout",
     "output_type": "stream",
     "text": [
      "<re.Match object; span=(0, 12), match='@Apple@1234&'>\n",
      "None\n",
      "None\n",
      "None\n",
      "<re.Match object; span=(0, 10), match='1234@1234#'>\n",
      "<re.Match object; span=(0, 15), match='Special$force1%'>\n",
      "None\n",
      "None\n"
     ]
    }
   ],
   "source": [
    "list_of_words = ['@Apple@1234&','applAe@1234',':APPLE@1234'\n",
    "                     ,'#Apple@Mango','1234@1234#','Special$force1%','X','mangoAPPLE']\n",
    "\n",
    "regx = '.*[!-/:-@]$'\n",
    "\n",
    "for word in list_of_words:\n",
    "    print(re.search(regx,word))"
   ]
  },
  {
   "cell_type": "code",
   "execution_count": 47,
   "metadata": {},
   "outputs": [
    {
     "name": "stdout",
     "output_type": "stream",
     "text": [
      "None\n",
      "None\n",
      "<re.Match object; span=(0, 15), match=':APPLE@1234.com'>\n",
      "None\n",
      "<re.Match object; span=(0, 14), match='1234@1234#.com'>\n",
      "None\n",
      "None\n",
      "None\n"
     ]
    }
   ],
   "source": [
    "list_of_words = ['@Apple@1234&','applAe@1234',':APPLE@1234.com'\n",
    "                     ,'#Apple@Mango','1234@1234#.com','Special$force1%','X','mangoAPPLE']\n",
    "\n",
    "regx = '.*[.]com$'\n",
    "\n",
    "for word in list_of_words:\n",
    "    print(re.search(regx,word))"
   ]
  },
  {
   "cell_type": "code",
   "execution_count": 54,
   "metadata": {},
   "outputs": [
    {
     "name": "stdout",
     "output_type": "stream",
     "text": [
      "<re.Match object; span=(0, 1), match='1'>\n",
      "<re.Match object; span=(0, 1), match='5'>\n",
      "<re.Match object; span=(0, 1), match='8'>\n",
      "<re.Match object; span=(0, 1), match='3'>\n",
      "None\n"
     ]
    }
   ],
   "source": [
    "list_of_words = ['1234','5678','8765','34545apple','apple']\n",
    "\n",
    "regx = '[^a-z]'\n",
    "\n",
    "for word in list_of_words:\n",
    "    print(re.search(regx,word))"
   ]
  },
  {
   "cell_type": "code",
   "execution_count": null,
   "metadata": {},
   "outputs": [],
   "source": [
    "# Q1.) Write a regX to match a 3 digit number followed by abc.\n",
    "\n",
    "# Q2.) Write a regX to match a 3 digit number followed by 3 small alphabets\n",
    "\n",
    "# Q3.) Write a regX that start with a and end with z. \"az,ae8934593u45jeksz,a234234z\"\n",
    "\n",
    "# Q4.) Write a regX that should match a pattern having atmost 3 \n",
    "# occurences of small alphabets.(atmost?? 0-till limit)\n",
    "\n",
    "# Q.5) Write a program to print hello world if the given_string \n",
    "# start with a and end with z (make a function to do this task)"
   ]
  },
  {
   "cell_type": "code",
   "execution_count": null,
   "metadata": {},
   "outputs": [],
   "source": [
    "10 minutes. 8:57"
   ]
  },
  {
   "cell_type": "code",
   "execution_count": 55,
   "metadata": {},
   "outputs": [
    {
     "name": "stdout",
     "output_type": "stream",
     "text": [
      "<re.Match object; span=(0, 6), match='123abc'>\n",
      "<re.Match object; span=(0, 6), match='456abc'>\n",
      "None\n",
      "None\n"
     ]
    }
   ],
   "source": [
    "list_of_words = ['123abc','456abc','345xyz','45abc']\n",
    "\n",
    "for word in list_of_words:\n",
    "    print(re.search('[0-9]{3}abc',word))"
   ]
  },
  {
   "cell_type": "code",
   "execution_count": 56,
   "metadata": {},
   "outputs": [
    {
     "name": "stdout",
     "output_type": "stream",
     "text": [
      "<re.Match object; span=(0, 6), match='123abc'>\n",
      "<re.Match object; span=(0, 6), match='456abc'>\n",
      "<re.Match object; span=(0, 6), match='345xyz'>\n",
      "None\n"
     ]
    }
   ],
   "source": [
    "list_of_words = ['123abc','456abc','345xyz','45abc']\n",
    "\n",
    "for word in list_of_words:\n",
    "    print(re.search('[0-9]{3}[a-z]{3}',word))"
   ]
  },
  {
   "cell_type": "code",
   "execution_count": 59,
   "metadata": {},
   "outputs": [
    {
     "name": "stdout",
     "output_type": "stream",
     "text": [
      "<re.Match object; span=(0, 2), match='az'>\n",
      "<re.Match object; span=(0, 17), match='ae8934593u45jeksz'>\n",
      "<re.Match object; span=(0, 8), match='a234234z'>\n",
      "None\n",
      "None\n"
     ]
    }
   ],
   "source": [
    "list_of_words = [\"az\",\"ae8934593u45jeksz\",\"a234234z\",'asjdfkljs','sdfz']\n",
    "for word in list_of_words:\n",
    "    print(re.search('^a.*z$',word))"
   ]
  },
  {
   "cell_type": "code",
   "execution_count": 72,
   "metadata": {},
   "outputs": [
    {
     "name": "stdout",
     "output_type": "stream",
     "text": [
      "True\n",
      "True\n",
      "True\n",
      "True\n",
      "True\n",
      "True\n",
      "False\n"
     ]
    }
   ],
   "source": [
    "# Q4.) Write a regX that should match a pattern having atmost 3 and atleast 1\n",
    "# occurences of small alphabets.(atmost?? 0-till limit)\n",
    "\n",
    "list_of_words = ['1234acv#$%','abcd','a3904','ab234890','abc234890','sljdf234','4']\n",
    "for word in list_of_words:\n",
    "    print(bool(re.search('[a-z]{1,3}',word)))"
   ]
  },
  {
   "cell_type": "code",
   "execution_count": null,
   "metadata": {},
   "outputs": [],
   "source": [
    "# Q.5) Write a program to print hello world if the given_string \n",
    "# start with a and end with z (make a function to do this task)"
   ]
  },
  {
   "cell_type": "code",
   "execution_count": 74,
   "metadata": {},
   "outputs": [
    {
     "name": "stdout",
     "output_type": "stream",
     "text": [
      "hello world az\n",
      "hello world ae8934593u45jeksz\n",
      "hello world a234234z\n",
      "None asjdfkljs\n",
      "None sdfz\n"
     ]
    }
   ],
   "source": [
    "def start_with_a_end_with_z(string):\n",
    "    if re.search('^a.*z$',string):\n",
    "        return('hello world')\n",
    "\n",
    "list_of_words = [\"az\",\"ae8934593u45jeksz\",\"a234234z\",'asjdfkljs','sdfz']\n",
    "for word in list_of_words:\n",
    "    print(start_with_a_end_with_z(word),word)"
   ]
  },
  {
   "cell_type": "code",
   "execution_count": null,
   "metadata": {},
   "outputs": [],
   "source": []
  }
 ],
 "metadata": {
  "kernelspec": {
   "display_name": "Python 3",
   "language": "python",
   "name": "python3"
  },
  "language_info": {
   "codemirror_mode": {
    "name": "ipython",
    "version": 3
   },
   "file_extension": ".py",
   "mimetype": "text/x-python",
   "name": "python",
   "nbconvert_exporter": "python",
   "pygments_lexer": "ipython3",
   "version": "3.8.3"
  }
 },
 "nbformat": 4,
 "nbformat_minor": 4
}
