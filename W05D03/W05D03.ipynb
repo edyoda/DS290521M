{
 "cells": [
  {
   "cell_type": "code",
   "execution_count": null,
   "metadata": {},
   "outputs": [],
   "source": [
    "Mutable Data Types:\n",
    "    list\n",
    "    dict\n",
    "    set\n",
    "    \n",
    "Immutable Data Types:\n",
    "    tuple\n",
    "    int\n",
    "    float\n",
    "    None\n",
    "    bool(True and False)\n",
    "    str\n",
    "    \n",
    "Iterables: Those which we can loop over\n",
    "    list\n",
    "    tuple\n",
    "    str\n",
    "    dict\n",
    "    set\n",
    "    range()"
   ]
  },
  {
   "cell_type": "code",
   "execution_count": null,
   "metadata": {},
   "outputs": [],
   "source": [
    "a = [(1,2),3,4]\n",
    "\n",
    "Can I change 2 to 20 in above list?\n",
    "No, because tuple is immutable.\n",
    "\n",
    "a = ([1,2],3,4)\n",
    "Can I change 2 to 20 in above tuple?\n",
    "Yes, because list are mutable."
   ]
  },
  {
   "cell_type": "code",
   "execution_count": null,
   "metadata": {},
   "outputs": [],
   "source": [
    "2 most imp things about keys in dict and set:\n",
    "    1) keys are unique.\n",
    "    2) keys are immutable."
   ]
  },
  {
   "cell_type": "code",
   "execution_count": 1,
   "metadata": {},
   "outputs": [
    {
     "name": "stdout",
     "output_type": "stream",
     "text": [
      "The file is already close\n"
     ]
    }
   ],
   "source": [
    "## ALTERNATIVE SYNTAX TO OPEN A FILE SO THAT IT GETS CLOSED AS SOON AS YOU COME OUT OF THE INDENTATON\n",
    "\n",
    "with open('test.txt','w+') as fp:\n",
    "    fp.write('mango juice')\n",
    "print('The file is already close')"
   ]
  },
  {
   "cell_type": "code",
   "execution_count": 2,
   "metadata": {},
   "outputs": [
    {
     "name": "stdout",
     "output_type": "stream",
     "text": [
      "The file is already close\n"
     ]
    }
   ],
   "source": [
    "fp = open('test2.txt','w+')\n",
    "fp.write('banana juice')\n",
    "fp.close()\n",
    "print('The file is already close')"
   ]
  },
  {
   "cell_type": "code",
   "execution_count": null,
   "metadata": {},
   "outputs": [],
   "source": [
    "why closing the file is imp?\n",
    "1) saves the changes.\n",
    "2) saves the resources."
   ]
  },
  {
   "cell_type": "code",
   "execution_count": 3,
   "metadata": {},
   "outputs": [],
   "source": [
    "import math"
   ]
  },
  {
   "cell_type": "code",
   "execution_count": 4,
   "metadata": {},
   "outputs": [
    {
     "data": {
      "text/plain": [
       "3.141592653589793"
      ]
     },
     "execution_count": 4,
     "metadata": {},
     "output_type": "execute_result"
    }
   ],
   "source": [
    "math.pi"
   ]
  },
  {
   "cell_type": "code",
   "execution_count": null,
   "metadata": {},
   "outputs": [],
   "source": [
    "You can import from specific paths that include:\n",
    "    1) current folder in which jupyter notebook or your python program is running\n",
    "    2) where python is installed."
   ]
  },
  {
   "cell_type": "code",
   "execution_count": 5,
   "metadata": {},
   "outputs": [],
   "source": [
    "import sys"
   ]
  },
  {
   "cell_type": "code",
   "execution_count": 6,
   "metadata": {},
   "outputs": [
    {
     "name": "stdout",
     "output_type": "stream",
     "text": [
      "C:\\Users\\Mohit\\Desktop\\DS290521M\\W05D03\n",
      "c:\\users\\mohit\\appdata\\local\\programs\\python\\python38-32\\python38.zip\n",
      "c:\\users\\mohit\\appdata\\local\\programs\\python\\python38-32\\DLLs\n",
      "c:\\users\\mohit\\appdata\\local\\programs\\python\\python38-32\\lib\n",
      "c:\\users\\mohit\\appdata\\local\\programs\\python\\python38-32\n",
      "\n",
      "C:\\Users\\Mohit\\AppData\\Roaming\\Python\\Python38\\site-packages\n",
      "c:\\users\\mohit\\appdata\\local\\programs\\python\\python38-32\\lib\\site-packages\n",
      "c:\\users\\mohit\\appdata\\local\\programs\\python\\python38-32\\lib\\site-packages\\win32\n",
      "c:\\users\\mohit\\appdata\\local\\programs\\python\\python38-32\\lib\\site-packages\\win32\\lib\n",
      "c:\\users\\mohit\\appdata\\local\\programs\\python\\python38-32\\lib\\site-packages\\Pythonwin\n",
      "c:\\users\\mohit\\appdata\\local\\programs\\python\\python38-32\\lib\\site-packages\\IPython\\extensions\n",
      "C:\\Users\\Mohit\\.ipython\n"
     ]
    }
   ],
   "source": [
    "for i in sys.path:\n",
    "    print(i)"
   ]
  },
  {
   "cell_type": "code",
   "execution_count": 11,
   "metadata": {},
   "outputs": [
    {
     "name": "stdout",
     "output_type": "stream",
     "text": [
      "I am Vinay Duhan\n"
     ]
    }
   ],
   "source": [
    "fp = open('C:\\\\Users\\\\Mohit\\\\Desktop\\\\vinay_duhan.txt','r')\n",
    "x = fp.read()\n",
    "print(x)"
   ]
  },
  {
   "cell_type": "markdown",
   "metadata": {},
   "source": [
    "# Regular Expression"
   ]
  },
  {
   "cell_type": "code",
   "execution_count": null,
   "metadata": {},
   "outputs": [],
   "source": [
    "What is Regular Expression\n",
    "\n",
    "It is a String containing some rules to match or define particular pattern.\n",
    "Everything around Regular expression is put inside a module named as re in python."
   ]
  },
  {
   "cell_type": "code",
   "execution_count": null,
   "metadata": {},
   "outputs": [],
   "source": [
    "-> Pattern Validation\n",
    "-> Pattern Extraction\n",
    "-> String Matching and finding"
   ]
  },
  {
   "cell_type": "code",
   "execution_count": null,
   "metadata": {},
   "outputs": [],
   "source": [
    "## Metacharacters\n",
    "\n",
    ".(dot) => matches with all the char(alphabets,digits,special chars etc..)\n",
    "except the newline character.\n",
    ". single dot means single char and that char could be anything as mentioned above\n",
    "\n",
    "[] => Character Class. A set of chars\n",
    "[A-Z] => all the capital alphabets from A to Z (single occurence)\n",
    "[a-z] => all the small alpabets (single occurence)\n",
    "[0-9] => digits (single occurence)\n",
    "[$%atMNO123] => match occurence of one of these {'$','%','a','t','M','N','O',1,2,3}\n",
    "\n",
    "Quantifiers:\n",
    "    + => atleast 1 or more occurence (for example [0-9]+ means that a digit will appear atleast 1\n",
    "                                     or more no of times)\n",
    "    * => 0 or more occurence (for example [0-9]* means that a digit will appear 0 or more no of times)\n",
    "    \n",
    "    ? => Optional (once or not at all) (for example [0-9]? means that a digit will appear 0 or 1 times)\n",
    "    \n",
    "Anchors:\n",
    "    ^ => start of the string ('^CAT')\n",
    "\n",
    "    $ => end of the string\n",
    "    \n",
    "    \n",
    "{} -> counting stuff\n",
    "\n",
    "[a-z]{2} => small alphabet should occur exactly 2 times.\n",
    "[0-9]{3} => digits should appear exactly 3 times.\n",
    "[A-Z]{3,5} => should occur either 3,4, or 5 times\n",
    "\n",
    "^compliment (reversal)\n",
    "\n",
    "[^0-9] => everything is acceptable except the digits."
   ]
  },
  {
   "cell_type": "code",
   "execution_count": 13,
   "metadata": {},
   "outputs": [],
   "source": [
    "import re"
   ]
  },
  {
   "cell_type": "code",
   "execution_count": 14,
   "metadata": {},
   "outputs": [],
   "source": [
    "## re.search(REGX,STRING_in_which_you_want_to_search_the_REGX)\n",
    "\n",
    "## re.search matches the first pattern according to the regx inside the string and returns a match\n",
    "# object with info"
   ]
  },
  {
   "cell_type": "code",
   "execution_count": 17,
   "metadata": {},
   "outputs": [
    {
     "name": "stdout",
     "output_type": "stream",
     "text": [
      "<re.Match object; span=(1, 2), match='m'>\n"
     ]
    }
   ],
   "source": [
    "# .(dot) => matches with all the char(alphabets,digits,special chars etc..)\n",
    "# except the newline character.\n",
    "# . single dot means single char and that char could be anything as mentioned above\n",
    "\n",
    "regx = '.' # matches anything other than newline char.\n",
    "\n",
    "print(re.search('.','\\nmango'))"
   ]
  },
  {
   "cell_type": "code",
   "execution_count": 18,
   "metadata": {},
   "outputs": [
    {
     "name": "stdout",
     "output_type": "stream",
     "text": [
      "<re.Match object; span=(0, 1), match='1'>\n"
     ]
    }
   ],
   "source": [
    "print(re.search('.','12345mango'))"
   ]
  },
  {
   "cell_type": "code",
   "execution_count": 20,
   "metadata": {},
   "outputs": [
    {
     "name": "stdout",
     "output_type": "stream",
     "text": [
      "<re.Match object; span=(5, 8), match='man'>\n"
     ]
    }
   ],
   "source": [
    "print(re.search('man','12345mango'))"
   ]
  },
  {
   "cell_type": "code",
   "execution_count": 29,
   "metadata": {},
   "outputs": [
    {
     "name": "stdout",
     "output_type": "stream",
     "text": [
      "5\n",
      "8\n",
      "man\n"
     ]
    }
   ],
   "source": [
    "y = '12345mango'\n",
    "x = re.search('man','12345mango')\n",
    "print(x.span()[0])\n",
    "print(x.span()[1])\n",
    "print(y[x.span()[0]:x.span()[1]])"
   ]
  },
  {
   "cell_type": "code",
   "execution_count": null,
   "metadata": {},
   "outputs": [],
   "source": [
    "[] => Character Class. A set of chars\n",
    "[A-Z] => all the capital alphabets from A to Z (single occurence)\n",
    "[a-z] => all the small alpabets (single occurence)\n",
    "[0-9] => digits (single occurence)\n",
    "[$%atMNO123] => match occurence of one of these {'$','%','a','t','M','N','O',1,2,3}"
   ]
  },
  {
   "cell_type": "code",
   "execution_count": 30,
   "metadata": {},
   "outputs": [
    {
     "name": "stdout",
     "output_type": "stream",
     "text": [
      "<re.Match object; span=(2, 3), match='a'>\n"
     ]
    }
   ],
   "source": [
    "regx = '[m#a$]' # Match anything from m,#,a,$\n",
    "\n",
    "print(re.search(regx,'I am very happy with $ I am earning at the # moment'))"
   ]
  },
  {
   "cell_type": "code",
   "execution_count": 32,
   "metadata": {},
   "outputs": [
    {
     "name": "stdout",
     "output_type": "stream",
     "text": [
      "['a', 'm', 'a', '$', 'a', 'm', 'a', 'a', '#', 'm', 'm']\n"
     ]
    }
   ],
   "source": [
    "# findall(regx,STRING_in_which_you_want_to_search_the_REGX)\n",
    "# it returns all the matches in a list from the string.\n",
    "regx = '[m#a$]'\n",
    "print(re.findall(regx,'I am very happy with $ I am earning at the # moment'))"
   ]
  },
  {
   "cell_type": "code",
   "execution_count": 36,
   "metadata": {},
   "outputs": [
    {
     "name": "stdout",
     "output_type": "stream",
     "text": [
      "['a', 'b', 'c', 'd', 'e', 'f', 'z']\n"
     ]
    }
   ],
   "source": [
    "regx = '[a-z]' # shortcut for '[abcdefghijklmnopqrstuvwxyz]'\n",
    "print(re.findall(regx,'1234ab5678cd910efz@#$#$%#'))"
   ]
  },
  {
   "cell_type": "code",
   "execution_count": 39,
   "metadata": {},
   "outputs": [
    {
     "name": "stdout",
     "output_type": "stream",
     "text": [
      "['A', 'P', 'P', 'L', 'E', 'M', 'A', 'N', 'G', 'O']\n"
     ]
    }
   ],
   "source": [
    "regx = '[A-Z]'\n",
    "print(re.findall(regx,'1234ab5678APPLEcd910efz@#$#MANGO$%#'))"
   ]
  },
  {
   "cell_type": "code",
   "execution_count": 40,
   "metadata": {},
   "outputs": [
    {
     "name": "stdout",
     "output_type": "stream",
     "text": [
      "['a', 'b', 'A', 'P', 'P', 'L', 'E', 'c', 'd', 'e', 'f', 'z', 'M', 'A', 'N', 'G', 'O']\n"
     ]
    }
   ],
   "source": [
    "regx = '[a-zA-Z]'\n",
    "print(re.findall(regx,'1234ab5678APPLEcd910efz@#$#MANGO$%#'))"
   ]
  },
  {
   "cell_type": "code",
   "execution_count": 41,
   "metadata": {},
   "outputs": [
    {
     "name": "stdout",
     "output_type": "stream",
     "text": [
      "['1', '2', '3', '4', '5', '6', '7', '8', '9', '1', '0']\n"
     ]
    }
   ],
   "source": [
    "regx = '[0-9]'\n",
    "print(re.findall(regx,'1234ab5678APPLEcd910efz@#$#MANGO$%#'))"
   ]
  },
  {
   "cell_type": "code",
   "execution_count": 42,
   "metadata": {},
   "outputs": [
    {
     "name": "stdout",
     "output_type": "stream",
     "text": [
      "['5', '6', '7', '8', '9']\n"
     ]
    }
   ],
   "source": [
    "regx = '[5-9]'\n",
    "print(re.findall(regx,'1234ab5678APPLEcd910efz@#$#MANGO$%#'))"
   ]
  },
  {
   "cell_type": "code",
   "execution_count": 57,
   "metadata": {},
   "outputs": [
    {
     "name": "stdout",
     "output_type": "stream",
     "text": [
      "['#', '$', '%', '&', '#', '$', '#', '$', '%', '#']\n"
     ]
    }
   ],
   "source": [
    "regx = '[!-*]'\n",
    "print(re.findall(regx,'1234ab5678A#$%^&PPLEcd910efz@#$#MANGO$%#'))"
   ]
  },
  {
   "cell_type": "code",
   "execution_count": 55,
   "metadata": {},
   "outputs": [
    {
     "name": "stdout",
     "output_type": "stream",
     "text": [
      "!\n",
      "\"\n",
      "#\n",
      "$\n",
      "%\n",
      "&\n",
      "'\n",
      "(\n",
      ")\n",
      "*\n"
     ]
    }
   ],
   "source": [
    "for i in range(ord('!'),ord('!')+10):\n",
    "    print(chr(i))"
   ]
  },
  {
   "cell_type": "code",
   "execution_count": 58,
   "metadata": {},
   "outputs": [
    {
     "data": {
      "text/plain": [
       "94"
      ]
     },
     "execution_count": 58,
     "metadata": {},
     "output_type": "execute_result"
    }
   ],
   "source": [
    "ord('^')"
   ]
  },
  {
   "cell_type": "code",
   "execution_count": null,
   "metadata": {},
   "outputs": [],
   "source": [
    "Quantifiers:\n",
    "    + => atleast 1 or more occurence (for example [0-9]+ means that a digit will appear atleast 1\n",
    "                                     or more no of times)\n",
    "    * => 0 or more occurence (for example [0-9]* means that a digit will appear 0 or more no of times)\n",
    "    \n",
    "    ? => Optional (once or not at all) (for example [0-9]? means that a digit will appear 0 or 1 times)"
   ]
  },
  {
   "cell_type": "code",
   "execution_count": 63,
   "metadata": {},
   "outputs": [
    {
     "name": "stdout",
     "output_type": "stream",
     "text": [
      "['1234', '5678', '3', '910', '57', '77', '34545443']\n"
     ]
    }
   ],
   "source": [
    "regx = '[0-9]+'\n",
    "print(re.findall(regx,'1234ab5678A#$%^&PPL3Ecd910efz@#$57#MANGO$77%#34545443'))"
   ]
  },
  {
   "cell_type": "code",
   "execution_count": 66,
   "metadata": {},
   "outputs": [
    {
     "name": "stdout",
     "output_type": "stream",
     "text": [
      "<re.Match object; span=(0, 0), match=''>\n"
     ]
    }
   ],
   "source": [
    "regx = '[0-9]*'\n",
    "print(re.search(regx,'ab5678A#$%^&PPL3Ecd910efz@#$57#MANGO$77%#34545443'))"
   ]
  },
  {
   "cell_type": "code",
   "execution_count": 70,
   "metadata": {},
   "outputs": [
    {
     "name": "stdout",
     "output_type": "stream",
     "text": [
      "<re.Match object; span=(0, 0), match=''>\n",
      "<re.Match object; span=(0, 0), match=''>\n",
      "<re.Match object; span=(0, 1), match='1'>\n",
      "<re.Match object; span=(0, 0), match=''>\n"
     ]
    }
   ],
   "source": [
    "list_of_strings = ['apple','ABACUS','1234','!@#%']\n",
    "regx = '[0-9]?'\n",
    "for word in list_of_strings:\n",
    "    print(re.search(regx,word))"
   ]
  },
  {
   "cell_type": "code",
   "execution_count": 71,
   "metadata": {},
   "outputs": [
    {
     "name": "stdout",
     "output_type": "stream",
     "text": [
      "<re.Match object; span=(0, 0), match=''>\n",
      "<re.Match object; span=(0, 0), match=''>\n",
      "<re.Match object; span=(0, 4), match='1234'>\n",
      "<re.Match object; span=(0, 0), match=''>\n"
     ]
    }
   ],
   "source": [
    "list_of_strings = ['apple','ABACUS','1234','!@#%']\n",
    "regx = '[0-9]*'\n",
    "for word in list_of_strings:\n",
    "    print(re.search(regx,word))"
   ]
  },
  {
   "cell_type": "code",
   "execution_count": 73,
   "metadata": {},
   "outputs": [
    {
     "name": "stdout",
     "output_type": "stream",
     "text": [
      "None\n",
      "None\n",
      "<re.Match object; span=(0, 4), match='1234'>\n",
      "None\n",
      "<re.Match object; span=(0, 1), match='1'>\n",
      "<re.Match object; span=(0, 3), match='123'>\n"
     ]
    }
   ],
   "source": [
    "list_of_strings = ['apple','ABACUS','1234','!@#%','1','123$%%^']\n",
    "regx = '[0-9]+'\n",
    "for word in list_of_strings:\n",
    "    print(re.search(regx,word))"
   ]
  },
  {
   "cell_type": "code",
   "execution_count": 74,
   "metadata": {},
   "outputs": [
    {
     "name": "stdout",
     "output_type": "stream",
     "text": [
      "<re.Match object; span=(0, 1), match='a'>\n",
      "<re.Match object; span=(0, 0), match=''>\n",
      "<re.Match object; span=(0, 0), match=''>\n",
      "<re.Match object; span=(0, 0), match=''>\n"
     ]
    }
   ],
   "source": [
    "# '* means occurence of the previous thing 0 or more no of times.'\n",
    "\n",
    "list_of_strings = ['apple','ABACUS','1234','!@#%']\n",
    "regx = 'a*'\n",
    "for word in list_of_strings:\n",
    "    print(re.search(regx,word))"
   ]
  },
  {
   "cell_type": "code",
   "execution_count": 75,
   "metadata": {},
   "outputs": [
    {
     "name": "stdout",
     "output_type": "stream",
     "text": [
      "<re.Match object; span=(0, 0), match=''>\n",
      "<re.Match object; span=(0, 6), match='ABACUS'>\n",
      "<re.Match object; span=(0, 0), match=''>\n",
      "<re.Match object; span=(0, 0), match=''>\n"
     ]
    }
   ],
   "source": [
    "# '* means occurence of the previous thing 0 or more no of times.'\n",
    "\n",
    "list_of_strings = ['apple','ABACUS','1234','!@#%']\n",
    "regx = '[A-Z]*'\n",
    "for word in list_of_strings:\n",
    "    print(re.search(regx,word))"
   ]
  },
  {
   "cell_type": "code",
   "execution_count": 77,
   "metadata": {},
   "outputs": [
    {
     "name": "stdout",
     "output_type": "stream",
     "text": [
      "None\n",
      "<re.Match object; span=(0, 3), match='ABA'>\n",
      "None\n",
      "None\n"
     ]
    }
   ],
   "source": [
    "# '* means occurence of the previous thing 0 or more no of times.'\n",
    "\n",
    "list_of_strings = ['apple','ABACUS','1234','!@#%']\n",
    "regx = '[A-Z][A-Z][A-Z]'\n",
    "for word in list_of_strings:\n",
    "    print(re.search(regx,word))"
   ]
  },
  {
   "cell_type": "code",
   "execution_count": 79,
   "metadata": {},
   "outputs": [
    {
     "name": "stdout",
     "output_type": "stream",
     "text": [
      "None\n",
      "None\n",
      "None\n",
      "None\n",
      "<re.Match object; span=(0, 4), match='ABC7'>\n",
      "<re.Match object; span=(0, 4), match='DEF9'>\n"
     ]
    }
   ],
   "source": [
    "# '* means occurence of the previous thing 0 or more no of times.'\n",
    "\n",
    "list_of_strings = ['apple','ABACUS','1234','!@#%','ABC7','DEF9']\n",
    "regx = '[A-Z][A-Z][A-Z][0-9]'\n",
    "for word in list_of_strings:\n",
    "    print(re.search(regx,word))\n",
    "    \n",
    "# regx = '[A-Z][A-Z][A-Z][0-9]' MEANS 3 UPPERCASE ALPHABETS FOLLOWED BY 1 SINGLE DIGIT."
   ]
  },
  {
   "cell_type": "code",
   "execution_count": 81,
   "metadata": {},
   "outputs": [
    {
     "name": "stdout",
     "output_type": "stream",
     "text": [
      "<re.Match object; span=(0, 7), match='77apple'>\n",
      "<re.Match object; span=(0, 7), match='45apple'>\n",
      "None\n",
      "None\n",
      "None\n"
     ]
    }
   ],
   "source": [
    "# Question: Write a regX to find out all occurence of 2 digit no followed by apple.\n",
    "    \n",
    "list_of_words = ['77apple','45apple','apple34','33','apple']\n",
    "\n",
    "regx = '[0-9][0-9]apple'\n",
    "\n",
    "for word in list_of_words:\n",
    "    print(re.search(regx,word))"
   ]
  },
  {
   "cell_type": "code",
   "execution_count": null,
   "metadata": {},
   "outputs": [],
   "source": [
    "{} -> counting stuff\n",
    "\n",
    "[a-z]{2} => small alphabet should occur exactly 2 times.\n",
    "[0-9]{3} => digits should appear exactly 3 times.\n",
    "[A-Z]{3,5} => should occur either 3,4, or 5 times"
   ]
  },
  {
   "cell_type": "code",
   "execution_count": 83,
   "metadata": {},
   "outputs": [
    {
     "name": "stdout",
     "output_type": "stream",
     "text": [
      "None\n",
      "None\n",
      "None\n",
      "None\n",
      "None\n",
      "<re.Match object; span=(0, 6), match='123456'>\n",
      "<re.Match object; span=(0, 6), match='987654'>\n"
     ]
    }
   ],
   "source": [
    "# Question: finding exactly 6 digit no\n",
    "\n",
    "list_of_words = ['77apple','45apple','apple34','33','apple','123456','987654321']\n",
    "\n",
    "regx = '[0-9]{6}'\n",
    "\n",
    "for word in list_of_words:\n",
    "    print(re.search(regx,word))"
   ]
  },
  {
   "cell_type": "code",
   "execution_count": null,
   "metadata": {},
   "outputs": [],
   "source": [
    "Question: find out 3,4 and 5 digit numbers"
   ]
  },
  {
   "cell_type": "code",
   "execution_count": 84,
   "metadata": {},
   "outputs": [
    {
     "name": "stdout",
     "output_type": "stream",
     "text": [
      "None\n",
      "<re.Match object; span=(0, 3), match='455'>\n",
      "<re.Match object; span=(5, 9), match='3400'>\n",
      "None\n",
      "<re.Match object; span=(5, 10), match='55555'>\n",
      "<re.Match object; span=(0, 5), match='12345'>\n",
      "<re.Match object; span=(0, 5), match='98765'>\n"
     ]
    }
   ],
   "source": [
    "list_of_words = ['77apple','455apple','apple3400','33','apple55555','123456','987654321']\n",
    "\n",
    "regx = '[0-9]{3,5}'\n",
    "\n",
    "for word in list_of_words:\n",
    "    print(re.search(regx,word))"
   ]
  },
  {
   "cell_type": "code",
   "execution_count": 85,
   "metadata": {},
   "outputs": [
    {
     "name": "stdout",
     "output_type": "stream",
     "text": [
      "<re.Match object; span=(0, 5), match='123#z'>\n",
      "None\n",
      "<re.Match object; span=(0, 5), match='567#a'>\n",
      "None\n",
      "<re.Match object; span=(1, 6), match='234#z'>\n"
     ]
    }
   ],
   "source": [
    "# Question:Write a regx to find out 3 digit numbers followed by # and that followed by a lowercase \n",
    "#     alpbhabet\n",
    "    \n",
    "list_of_words = ['123#z','786$a','567#a','1234##aa','1234#zz']\n",
    "\n",
    "regx = '[0-9]{3}#[a-z]'\n",
    "\n",
    "for word in list_of_words:\n",
    "    print(re.search(regx,word))"
   ]
  },
  {
   "cell_type": "code",
   "execution_count": 86,
   "metadata": {},
   "outputs": [
    {
     "name": "stdout",
     "output_type": "stream",
     "text": [
      "['567#m']\n"
     ]
    }
   ],
   "source": [
    "regx='[0-9]{3}#[a-z]' # patterns means a 3digit number folllowed by # and than a single lowercase alp.\n",
    "print (re.findall(regx, '567#mubeen'))"
   ]
  },
  {
   "cell_type": "code",
   "execution_count": 94,
   "metadata": {},
   "outputs": [
    {
     "name": "stdout",
     "output_type": "stream",
     "text": [
      "['!', '@', '#', '$', 'a', 's', 'd', 'f', '%', '^', '*', '(', ')', ':', '\"', '{', '}', '>', '<', '?']\n"
     ]
    }
   ],
   "source": [
    "print(re.findall('[!-}]', '!@#$asdf%^*():\"{}><?'))"
   ]
  },
  {
   "cell_type": "code",
   "execution_count": null,
   "metadata": {},
   "outputs": [],
   "source": [
    "Question: Write a regx which contains 3 alphabets followed any number of integers"
   ]
  },
  {
   "cell_type": "code",
   "execution_count": 97,
   "metadata": {},
   "outputs": [
    {
     "name": "stdout",
     "output_type": "stream",
     "text": [
      "<re.Match object; span=(0, 3), match='Abc'>\n",
      "<re.Match object; span=(0, 6), match='ABC123'>\n",
      "None\n",
      "<re.Match object; span=(0, 3), match='zap'>\n",
      "<re.Match object; span=(0, 3), match='app'>\n",
      "<re.Match object; span=(1, 4), match='app'>\n",
      "<re.Match object; span=(0, 4), match='cak3'>\n"
     ]
    }
   ],
   "source": [
    "regx = '[a-zA-Z]{3}[0-9]*'\n",
    "\n",
    "list_of_words = ['Abc','ABC123','AZ4567','zappap','apple5','6apples','cak3']\n",
    "\n",
    "for word in list_of_words:\n",
    "    print(re.search(regx,word))"
   ]
  },
  {
   "cell_type": "code",
   "execution_count": null,
   "metadata": {},
   "outputs": [],
   "source": [
    "Question: Write a regx which contains 3 alphabets followed atleast 1 integers"
   ]
  },
  {
   "cell_type": "code",
   "execution_count": 98,
   "metadata": {},
   "outputs": [
    {
     "name": "stdout",
     "output_type": "stream",
     "text": [
      "None\n",
      "<re.Match object; span=(0, 6), match='ABC123'>\n",
      "None\n",
      "None\n",
      "<re.Match object; span=(2, 6), match='ple5'>\n",
      "None\n",
      "<re.Match object; span=(0, 4), match='cak3'>\n"
     ]
    }
   ],
   "source": [
    "regx = '[a-zA-Z]{3}[0-9]+'\n",
    "\n",
    "list_of_words = ['Abc','ABC123','AZ4567','zappap','apple5','6apples','cak3']\n",
    "\n",
    "for word in list_of_words:\n",
    "    print(re.search(regx,word))"
   ]
  },
  {
   "cell_type": "code",
   "execution_count": null,
   "metadata": {},
   "outputs": [],
   "source": [
    "Question 1: Write a regx to match 3 digits followed by atleast 3 special chars\n",
    "Question 2: Write a regular expression to match an email address.\n",
    "Question 3: Write a program to validate a password with these requirements:\n",
    "        total 8 digit\n",
    "        must include a uppercase letter\n",
    "        must include a lowercase letter\n",
    "        must include a special symbol"
   ]
  }
 ],
 "metadata": {
  "kernelspec": {
   "display_name": "Python 3",
   "language": "python",
   "name": "python3"
  },
  "language_info": {
   "codemirror_mode": {
    "name": "ipython",
    "version": 3
   },
   "file_extension": ".py",
   "mimetype": "text/x-python",
   "name": "python",
   "nbconvert_exporter": "python",
   "pygments_lexer": "ipython3",
   "version": "3.8.3"
  }
 },
 "nbformat": 4,
 "nbformat_minor": 4
}
