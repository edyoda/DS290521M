{
 "cells": [
  {
   "cell_type": "markdown",
   "metadata": {},
   "source": [
    "## Object Attributes"
   ]
  },
  {
   "cell_type": "code",
   "execution_count": 1,
   "metadata": {},
   "outputs": [
    {
     "name": "stdout",
     "output_type": "stream",
     "text": [
      "Happy Birthday Yuki\n",
      "Happy Birthday Yuki\n",
      "Happy Birthday Yuki\n"
     ]
    }
   ],
   "source": [
    "class dog:\n",
    "    def __init__(self, color,name, age,breed):\n",
    "        print(\"Happy Birthday Yuki\")\n",
    "        self.color_of_dog = color\n",
    "        self.NAME = name\n",
    "        self.AGE = age\n",
    "        self.BREED = breed\n",
    "\n",
    "yuki = dog('silver','Yuki','6 yr','labrador')\n",
    "dodo = dog(\"black & white\",\"dodo\",\"1 yr\",'Husky')\n",
    "tamtam = dog(\"Golden\",\"tamtam\",\"6 months\",'Golden Retriever')\n",
    "\n",
    "# COLOR,NAME,AGE,BREED are object attributes.\n",
    "\n",
    "# Whenever I use the self keyword, I either access the existing Object Attribute, or I create a new \n",
    "# one\n",
    "\n",
    "# Object Attributes are attributes which Every object have their own copy"
   ]
  },
  {
   "cell_type": "code",
   "execution_count": 2,
   "metadata": {},
   "outputs": [
    {
     "data": {
      "text/plain": [
       "'silver'"
      ]
     },
     "execution_count": 2,
     "metadata": {},
     "output_type": "execute_result"
    }
   ],
   "source": [
    "yuki.color_of_dog"
   ]
  },
  {
   "cell_type": "code",
   "execution_count": 3,
   "metadata": {},
   "outputs": [
    {
     "data": {
      "text/plain": [
       "'black & white'"
      ]
     },
     "execution_count": 3,
     "metadata": {},
     "output_type": "execute_result"
    }
   ],
   "source": [
    "dodo.color_of_dog"
   ]
  },
  {
   "cell_type": "markdown",
   "metadata": {},
   "source": [
    "## Object Methods\n",
    "\n",
    "These are generally those methods which access the Object Attribute and try to change them."
   ]
  },
  {
   "cell_type": "code",
   "execution_count": 5,
   "metadata": {},
   "outputs": [],
   "source": [
    "class Car:\n",
    "    def __init__(self,maxspeed):\n",
    "        self.maxspeed = maxspeed\n",
    "        self.fuel = 0\n",
    "        self.speed = 0\n",
    "    \n",
    "    def refuel(self):\n",
    "        self.fuel = 30\n",
    "    \n",
    "    def setSpeed(self,speed):\n",
    "        self.speed = speed\n",
    "        \n",
    "    def drive(self):\n",
    "        if self.fuel == 0:\n",
    "            print(\"No fuel, you can't drive\")\n",
    "        else:\n",
    "            self.setSpeed(10)\n",
    "            print('The Car is at Speed 10')\n",
    "            \n",
    "    def accelerate(self):\n",
    "        self.setSpeed(self.speed+10)"
   ]
  },
  {
   "cell_type": "markdown",
   "metadata": {},
   "source": [
    "## self keyword"
   ]
  },
  {
   "cell_type": "code",
   "execution_count": 8,
   "metadata": {},
   "outputs": [],
   "source": [
    "self keyword points to the current Object by which we are accessing any attribute or method.\n",
    "Initially when we create an object, self keyword points to that newly created object in memory\n",
    "\n",
    "The self keyword will be the first parameter in all Object methods."
   ]
  },
  {
   "cell_type": "code",
   "execution_count": 7,
   "metadata": {},
   "outputs": [],
   "source": [
    "alto = Car(200)"
   ]
  },
  {
   "cell_type": "code",
   "execution_count": 9,
   "metadata": {},
   "outputs": [
    {
     "name": "stdout",
     "output_type": "stream",
     "text": [
      "No fuel, you can't drive\n"
     ]
    }
   ],
   "source": [
    "alto.drive()"
   ]
  },
  {
   "cell_type": "code",
   "execution_count": 10,
   "metadata": {},
   "outputs": [
    {
     "data": {
      "text/plain": [
       "0"
      ]
     },
     "execution_count": 10,
     "metadata": {},
     "output_type": "execute_result"
    }
   ],
   "source": [
    "alto.fuel"
   ]
  },
  {
   "cell_type": "code",
   "execution_count": 11,
   "metadata": {},
   "outputs": [],
   "source": [
    "hector = Car(220)"
   ]
  },
  {
   "cell_type": "code",
   "execution_count": 12,
   "metadata": {},
   "outputs": [
    {
     "name": "stdout",
     "output_type": "stream",
     "text": [
      "No fuel, you can't drive\n"
     ]
    }
   ],
   "source": [
    "hector.drive()"
   ]
  },
  {
   "cell_type": "code",
   "execution_count": null,
   "metadata": {},
   "outputs": [],
   "source": [
    "class Car:\n",
    "    def __init__(self,maxspeed):\n",
    "        print('init is called')\n",
    "        self.maxspeed = maxspeed\n",
    "        self.fuel = 0\n",
    "        self.speed = 0\n",
    "\n",
    "    def refuel(self):\n",
    "        self.fuel = 30\n",
    "\n",
    "    def setSpeed(self,speed):\n",
    "        self.speed = speed\n",
    "        self.fuel -= 1\n",
    "\n",
    "    def drive(self):\n",
    "        if self.fuel == 0:\n",
    "            print(\"No fuel, you can't drive\")\n",
    "        else:\n",
    "            self.setSpeed(10)\n",
    "            print('The Car is at Speed 10')\n",
    "\n",
    "    def accelerate(self):\n",
    "        self.setSpeed(self.speed+10)\n",
    "    \n",
    "    def brake(self):\n",
    "        self.setSpeed(0)"
   ]
  },
  {
   "cell_type": "code",
   "execution_count": 13,
   "metadata": {},
   "outputs": [],
   "source": [
    "class Car:\n",
    "    def __init__(self,maxspeed):\n",
    "        print('init is called')\n",
    "        self.maxspeed = maxspeed\n",
    "        self.fuel = 0\n",
    "        self.speed = 0\n",
    "\n",
    "    def refuel(self):\n",
    "        self.fuel = 30\n",
    "\n",
    "    def setSpeed(self,speed):\n",
    "        self.speed = speed\n",
    "        self.fuel -= 1\n",
    "\n",
    "    def drive(self):\n",
    "        if self.fuel == 0:\n",
    "            print(\"No fuel, you can't drive\")\n",
    "        else:\n",
    "            self.setSpeed(10)\n",
    "            print('The Car is at Speed 10')\n",
    "\n",
    "    def accelerate(self):\n",
    "        self.setSpeed(self.speed+10)\n",
    "    \n",
    "    def brake(self):\n",
    "        self.setSpeed(0)\n",
    "    \n",
    "    def show_car_details(self):\n",
    "        print(\"I am a Car\")\n",
    "        print(\"maxspeed of Car is \", self.maxspeed)\n",
    "        print(\"Fuel available in this car is \", self.fuel)\n",
    "        print(\"Speed of this car is \", self.speed)"
   ]
  },
  {
   "cell_type": "code",
   "execution_count": 14,
   "metadata": {},
   "outputs": [
    {
     "name": "stdout",
     "output_type": "stream",
     "text": [
      "init is called\n"
     ]
    }
   ],
   "source": [
    "breeza = Car(220)"
   ]
  },
  {
   "cell_type": "code",
   "execution_count": 15,
   "metadata": {},
   "outputs": [
    {
     "name": "stdout",
     "output_type": "stream",
     "text": [
      "I am a Car\n",
      "maxspeed of Car is  220\n",
      "Fuel available in this car is  0\n",
      "Speed of this car is  0\n"
     ]
    }
   ],
   "source": [
    "breeza.show_car_details()"
   ]
  },
  {
   "cell_type": "code",
   "execution_count": 16,
   "metadata": {},
   "outputs": [
    {
     "name": "stdout",
     "output_type": "stream",
     "text": [
      "No fuel, you can't drive\n"
     ]
    }
   ],
   "source": [
    "breeza.drive()"
   ]
  },
  {
   "cell_type": "code",
   "execution_count": 17,
   "metadata": {},
   "outputs": [],
   "source": [
    "breeza.refuel()"
   ]
  },
  {
   "cell_type": "code",
   "execution_count": 18,
   "metadata": {},
   "outputs": [
    {
     "name": "stdout",
     "output_type": "stream",
     "text": [
      "The Car is at Speed 10\n"
     ]
    }
   ],
   "source": [
    "breeza.drive()"
   ]
  },
  {
   "cell_type": "code",
   "execution_count": 19,
   "metadata": {},
   "outputs": [
    {
     "name": "stdout",
     "output_type": "stream",
     "text": [
      "I am a Car\n",
      "maxspeed of Car is  220\n",
      "Fuel available in this car is  29\n",
      "Speed of this car is  10\n"
     ]
    }
   ],
   "source": [
    "breeza.show_car_details()"
   ]
  },
  {
   "cell_type": "code",
   "execution_count": 20,
   "metadata": {},
   "outputs": [],
   "source": [
    "breeza.accelerate()"
   ]
  },
  {
   "cell_type": "code",
   "execution_count": 21,
   "metadata": {},
   "outputs": [
    {
     "name": "stdout",
     "output_type": "stream",
     "text": [
      "I am a Car\n",
      "maxspeed of Car is  220\n",
      "Fuel available in this car is  28\n",
      "Speed of this car is  20\n"
     ]
    }
   ],
   "source": [
    "breeza.show_car_details()"
   ]
  },
  {
   "cell_type": "code",
   "execution_count": 22,
   "metadata": {},
   "outputs": [],
   "source": [
    "class Bike:\n",
    "    def __init__(self,brand,color,model,maxspeed):\n",
    "        print(\"Let's ride My Bike\")\n",
    "        self.Brand = brand\n",
    "        self.Color = color\n",
    "        self.Model = model\n",
    "        self.Maxspeed = maxspeed\n",
    "        self.Speed = 0\n",
    "        self.fuel = 0\n",
    "        \n",
    "    def setspeed(self,speed):\n",
    "        if self.Speed <= 220:\n",
    "            self.Speed = speed\n",
    "            if self.Speed > 120:\n",
    "                print(\"Overspeeding is dangerous\")\n",
    "            else:\n",
    "                print(\"Speed under control\")\n",
    "        else:\n",
    "            print(\"Speed limit exceeded\")\n",
    "    \n",
    "    def refuel(self):\n",
    "        self.fuel = 15\n",
    "        print(\"Tank is Full\")\n",
    "    \n",
    "    def ride(self):\n",
    "        if self.fuel >= 1:\n",
    "            self.setspeed(20)\n",
    "            self.fuel -=1\n",
    "            print(\"Speed is \",self.Speed)\n",
    "        else:\n",
    "            print(\"Oh Noo! Low fuel\")\n",
    "            \n",
    "    def accelerate(self):\n",
    "        if self.fuel >= 1:\n",
    "            self.setspeed(self.Speed + 20)\n",
    "            self.fuel -= 2\n",
    "        else:\n",
    "            print(\"Fuel running\")"
   ]
  },
  {
   "cell_type": "code",
   "execution_count": 30,
   "metadata": {},
   "outputs": [],
   "source": [
    "class Ac:\n",
    "    def __init__(self,brand,capacity):\n",
    "        print(\"It's too hot lets turn on the Ac\")\n",
    "        self.Brand = brand\n",
    "        self.Capacity = capacity\n",
    "        self.status = \"Off\"\n",
    "        \n",
    "        \n",
    "    def on(self):\n",
    "        if self.status == \"Off\":\n",
    "            self.status = \"On\"\n",
    "            print(\"Ac is On\")\n",
    "        else:\n",
    "            print(\"Ac is already On\")\n",
    "            \n",
    "    def Off(self):\n",
    "        if self.status == \"On\":\n",
    "            self.status = \"Off\"\n",
    "            print(\"Ac has been turned Off\")\n",
    "        else:\n",
    "            print(\"Ac is already Off\")\n",
    "        \n",
    "    def setmode(self,mode=\"Auto\"):\n",
    "        if self.status == \"On\":\n",
    "            if mode == \"Auto\":\n",
    "                self.temp = 25\n",
    "                print(\"Auto mode activated and temp is \", self.temp)\n",
    "            if mode == \"Cool\":\n",
    "                self.temp = 18\n",
    "                print(\"Cool mode activated and temp is \",self.temp)\n",
    "            elif mode == \"Heat\":\n",
    "                self.temp = 28\n",
    "                print(\"Heat mode activated and temp is \",self.temp)\n",
    "    def increase_temp(self):\n",
    "        self.temp += 1\n",
    "        print(\"Temp is \",self.temp)\n",
    "        \n",
    "    def decrease_temp(self):\n",
    "        self.temp -=1\n",
    "        print(\"Temp is \",self.temp)"
   ]
  },
  {
   "cell_type": "code",
   "execution_count": 31,
   "metadata": {},
   "outputs": [
    {
     "name": "stdout",
     "output_type": "stream",
     "text": [
      "It's too hot lets turn on the Ac\n"
     ]
    }
   ],
   "source": [
    "hitachiAc = Ac('Hitachi',15)"
   ]
  },
  {
   "cell_type": "code",
   "execution_count": 32,
   "metadata": {},
   "outputs": [
    {
     "name": "stdout",
     "output_type": "stream",
     "text": [
      "Ac is On\n"
     ]
    }
   ],
   "source": [
    "hitachiAc.on()"
   ]
  },
  {
   "cell_type": "code",
   "execution_count": 33,
   "metadata": {},
   "outputs": [
    {
     "name": "stdout",
     "output_type": "stream",
     "text": [
      "Ac is already On\n"
     ]
    }
   ],
   "source": [
    "hitachiAc.on()"
   ]
  },
  {
   "cell_type": "code",
   "execution_count": 34,
   "metadata": {},
   "outputs": [
    {
     "name": "stdout",
     "output_type": "stream",
     "text": [
      "Auto mode activated and temp is  25\n"
     ]
    }
   ],
   "source": [
    "hitachiAc.setmode()"
   ]
  },
  {
   "cell_type": "code",
   "execution_count": 35,
   "metadata": {},
   "outputs": [
    {
     "name": "stdout",
     "output_type": "stream",
     "text": [
      "Cool mode activated and temp is  18\n"
     ]
    }
   ],
   "source": [
    "hitachiAc.setmode('Cool')"
   ]
  },
  {
   "cell_type": "code",
   "execution_count": 36,
   "metadata": {},
   "outputs": [
    {
     "name": "stdout",
     "output_type": "stream",
     "text": [
      "Heat mode activated and temp is  28\n"
     ]
    }
   ],
   "source": [
    "hitachiAc.setmode('Heat')"
   ]
  },
  {
   "cell_type": "code",
   "execution_count": 37,
   "metadata": {},
   "outputs": [
    {
     "name": "stdout",
     "output_type": "stream",
     "text": [
      "Temp is  29\n"
     ]
    }
   ],
   "source": [
    "hitachiAc.increase_temp()"
   ]
  },
  {
   "cell_type": "code",
   "execution_count": 38,
   "metadata": {},
   "outputs": [
    {
     "name": "stdout",
     "output_type": "stream",
     "text": [
      "Temp is  30\n"
     ]
    }
   ],
   "source": [
    "hitachiAc.increase_temp()"
   ]
  },
  {
   "cell_type": "code",
   "execution_count": 39,
   "metadata": {},
   "outputs": [
    {
     "name": "stdout",
     "output_type": "stream",
     "text": [
      "Temp is  31\n"
     ]
    }
   ],
   "source": [
    "hitachiAc.increase_temp()"
   ]
  },
  {
   "cell_type": "code",
   "execution_count": 40,
   "metadata": {},
   "outputs": [
    {
     "name": "stdout",
     "output_type": "stream",
     "text": [
      "Temp is  32\n",
      "Temp is  33\n",
      "Temp is  34\n",
      "Temp is  35\n",
      "Temp is  36\n",
      "Temp is  37\n",
      "Temp is  38\n",
      "Temp is  39\n",
      "Temp is  40\n",
      "Temp is  41\n",
      "Temp is  42\n",
      "Temp is  43\n",
      "Temp is  44\n",
      "Temp is  45\n",
      "Temp is  46\n",
      "Temp is  47\n",
      "Temp is  48\n",
      "Temp is  49\n",
      "Temp is  50\n",
      "Temp is  51\n",
      "Temp is  52\n",
      "Temp is  53\n",
      "Temp is  54\n",
      "Temp is  55\n",
      "Temp is  56\n",
      "Temp is  57\n",
      "Temp is  58\n",
      "Temp is  59\n",
      "Temp is  60\n",
      "Temp is  61\n",
      "Temp is  62\n",
      "Temp is  63\n",
      "Temp is  64\n",
      "Temp is  65\n",
      "Temp is  66\n",
      "Temp is  67\n",
      "Temp is  68\n",
      "Temp is  69\n",
      "Temp is  70\n",
      "Temp is  71\n",
      "Temp is  72\n",
      "Temp is  73\n",
      "Temp is  74\n",
      "Temp is  75\n",
      "Temp is  76\n",
      "Temp is  77\n",
      "Temp is  78\n",
      "Temp is  79\n",
      "Temp is  80\n",
      "Temp is  81\n"
     ]
    }
   ],
   "source": [
    "for i in range(50):\n",
    "    hitachiAc.increase_temp()"
   ]
  },
  {
   "cell_type": "code",
   "execution_count": 42,
   "metadata": {},
   "outputs": [
    {
     "name": "stdout",
     "output_type": "stream",
     "text": [
      "Temp is  80\n",
      "Temp is  79\n",
      "Temp is  78\n",
      "Temp is  77\n",
      "Temp is  76\n",
      "Temp is  75\n",
      "Temp is  74\n",
      "Temp is  73\n",
      "Temp is  72\n",
      "Temp is  71\n",
      "Temp is  70\n",
      "Temp is  69\n",
      "Temp is  68\n",
      "Temp is  67\n",
      "Temp is  66\n",
      "Temp is  65\n",
      "Temp is  64\n",
      "Temp is  63\n",
      "Temp is  62\n",
      "Temp is  61\n",
      "Temp is  60\n",
      "Temp is  59\n",
      "Temp is  58\n",
      "Temp is  57\n",
      "Temp is  56\n",
      "Temp is  55\n",
      "Temp is  54\n",
      "Temp is  53\n",
      "Temp is  52\n",
      "Temp is  51\n",
      "Temp is  50\n",
      "Temp is  49\n",
      "Temp is  48\n",
      "Temp is  47\n",
      "Temp is  46\n",
      "Temp is  45\n",
      "Temp is  44\n",
      "Temp is  43\n",
      "Temp is  42\n",
      "Temp is  41\n",
      "Temp is  40\n",
      "Temp is  39\n",
      "Temp is  38\n",
      "Temp is  37\n",
      "Temp is  36\n",
      "Temp is  35\n",
      "Temp is  34\n",
      "Temp is  33\n",
      "Temp is  32\n",
      "Temp is  31\n",
      "Temp is  30\n",
      "Temp is  29\n",
      "Temp is  28\n",
      "Temp is  27\n",
      "Temp is  26\n",
      "Temp is  25\n",
      "Temp is  24\n",
      "Temp is  23\n",
      "Temp is  22\n",
      "Temp is  21\n",
      "Temp is  20\n",
      "Temp is  19\n",
      "Temp is  18\n",
      "Temp is  17\n",
      "Temp is  16\n",
      "Temp is  15\n",
      "Temp is  14\n",
      "Temp is  13\n",
      "Temp is  12\n",
      "Temp is  11\n",
      "Temp is  10\n",
      "Temp is  9\n",
      "Temp is  8\n",
      "Temp is  7\n",
      "Temp is  6\n",
      "Temp is  5\n",
      "Temp is  4\n",
      "Temp is  3\n",
      "Temp is  2\n",
      "Temp is  1\n",
      "Temp is  0\n",
      "Temp is  -1\n",
      "Temp is  -2\n",
      "Temp is  -3\n",
      "Temp is  -4\n",
      "Temp is  -5\n",
      "Temp is  -6\n",
      "Temp is  -7\n",
      "Temp is  -8\n",
      "Temp is  -9\n",
      "Temp is  -10\n",
      "Temp is  -11\n",
      "Temp is  -12\n",
      "Temp is  -13\n",
      "Temp is  -14\n",
      "Temp is  -15\n",
      "Temp is  -16\n",
      "Temp is  -17\n",
      "Temp is  -18\n",
      "Temp is  -19\n"
     ]
    }
   ],
   "source": [
    "for i in range(100):\n",
    "    hitachiAc.decrease_temp()"
   ]
  },
  {
   "cell_type": "code",
   "execution_count": 43,
   "metadata": {},
   "outputs": [
    {
     "name": "stdout",
     "output_type": "stream",
     "text": [
      "Making phone call\n",
      "Playing Game\n",
      "Color of phone is  blue\n",
      "The cost of phone is  30000\n",
      "Name of phone is  One Plus\n",
      "Cost of phone is  30000\n",
      "Color of phone is  blue\n"
     ]
    }
   ],
   "source": [
    "class Phone:\n",
    "    def __init__(self,name,color,cost):\n",
    "        self.name=name\n",
    "        self.color=color\n",
    "        self.cost=cost\n",
    "        \n",
    "    def set_color(self,color):\n",
    "        self.color=color\n",
    "\n",
    "    def set_cost(self,cost):\n",
    "        self.cost=cost\n",
    "\n",
    "    def show_color(self):\n",
    "        print('Color of phone is ',self.color)\n",
    "\n",
    "    def show_cost(self):\n",
    "        print('The cost of phone is ',self.cost)\n",
    "\n",
    "    def make_call(self):\n",
    "        print('Making phone call')\n",
    "\n",
    "    def play_game(self):\n",
    "        print('Playing Game')\n",
    "        \n",
    "    def show_phone_details(self):\n",
    "        print('Name of phone is ',self.name)\n",
    "        print('Cost of phone is ',self.cost)\n",
    "        print('Color of phone is ',self.color)\n",
    "p1=Phone('motorola','blue',32000)\n",
    "p1.make_call()\n",
    "p1.play_game()\n",
    "\n",
    "p2=Phone('One Plus','Gold',39000)\n",
    "p2.set_color('blue')\n",
    "p2.set_cost(30000)\n",
    "p2.show_color()\n",
    "p2.show_cost()\n",
    "p2.show_phone_details()"
   ]
  },
  {
   "cell_type": "code",
   "execution_count": 44,
   "metadata": {},
   "outputs": [
    {
     "name": "stdout",
     "output_type": "stream",
     "text": [
      "Name of employee is  Mohit\n",
      "Age of employee is  32\n",
      "Salary of employee is  95000\n",
      "Gender of employee is  Male\n"
     ]
    }
   ],
   "source": [
    "class Employee:\n",
    "    def __init__(self,name,age,salary,gender):\n",
    "        self.name = name\n",
    "        self.age = age\n",
    "        self.salary =  salary\n",
    "        self.gender = gender\n",
    "\n",
    "    def employee_details(self):\n",
    "        print('Name of employee is ',self.name)\n",
    "        print('Age of employee is ',self.age)\n",
    "        print('Salary of employee is ',self.salary)\n",
    "        print('Gender of employee is ',self.gender)\n",
    "        \n",
    "e1 = Employee('Mohit',32,95000,'Male')\n",
    "e1.employee_details()"
   ]
  },
  {
   "cell_type": "code",
   "execution_count": null,
   "metadata": {},
   "outputs": [],
   "source": [
    "Question: Implement Price for refuelling in car class"
   ]
  },
  {
   "cell_type": "markdown",
   "metadata": {},
   "source": [
    "# setters and getters\n",
    "\n",
    "**setter are object methods by which we set a object attribute  \n",
    "**getters are object mehods by which we can get a object attribute  "
   ]
  },
  {
   "cell_type": "code",
   "execution_count": 9,
   "metadata": {},
   "outputs": [],
   "source": [
    "class Car:\n",
    "    def __init__(self,maxspeed):\n",
    "        print('Congratulations on your new car')\n",
    "        self.maxspeed = maxspeed\n",
    "        self.fuel = 0\n",
    "        self.speed = 0\n",
    "\n",
    "    def refuel(self):\n",
    "        if self.fuel == 0:\n",
    "            self.fuel = 30\n",
    "            self.cost = 100*30\n",
    "            self.amount_pay()\n",
    "        else:\n",
    "            fuel_needed = 30-self.fuel\n",
    "            self.cost = 100*fuel_needed\n",
    "            self.fuel = 30\n",
    "            self.amount_pay()\n",
    "    \n",
    "    def amount_pay(self):\n",
    "        print('Please pay the amount',self.cost)\n",
    "        amount_paid = int(input())\n",
    "        print('Paid Successfully')\n",
    "        if amount_paid - self.cost > 0:\n",
    "            print('Returning you the change amount ',amount_paid - self.cost)\n",
    "\n",
    "    def setSpeed(self,speed):\n",
    "        self.speed = speed\n",
    "        self.fuel -= 1\n",
    "    \n",
    "    def getFuel(self):\n",
    "        return self.fuel\n",
    "\n",
    "    def drive(self):\n",
    "        if self.fuel == 0:\n",
    "            print(\"No fuel, you can't drive\")\n",
    "        else:\n",
    "            self.setSpeed(10)\n",
    "            print('The Car is at Speed 10')\n",
    "\n",
    "    def accelerate(self):\n",
    "        self.setSpeed(self.speed+10)\n",
    "    \n",
    "    def brake(self):\n",
    "        self.setSpeed(0)\n",
    "    \n",
    "    def show_car_details(self):\n",
    "        print(\"I am a Car\")\n",
    "        print(\"maxspeed of Car is \", self.maxspeed)\n",
    "        print(\"Fuel available in this car is \", self.fuel)\n",
    "        print(\"Speed of this car is \", self.speed)"
   ]
  },
  {
   "cell_type": "code",
   "execution_count": 10,
   "metadata": {},
   "outputs": [
    {
     "name": "stdout",
     "output_type": "stream",
     "text": [
      "Congratulations on your new car\n"
     ]
    }
   ],
   "source": [
    "i10 = Car(200)"
   ]
  },
  {
   "cell_type": "code",
   "execution_count": 11,
   "metadata": {},
   "outputs": [
    {
     "name": "stdout",
     "output_type": "stream",
     "text": [
      "No fuel, you can't drive\n"
     ]
    }
   ],
   "source": [
    "i10.drive()"
   ]
  },
  {
   "cell_type": "code",
   "execution_count": 12,
   "metadata": {},
   "outputs": [
    {
     "name": "stdout",
     "output_type": "stream",
     "text": [
      "Please pay the amount 3000\n",
      "3000\n",
      "Paid Successfully\n"
     ]
    }
   ],
   "source": [
    "i10.refuel()"
   ]
  },
  {
   "cell_type": "code",
   "execution_count": 13,
   "metadata": {},
   "outputs": [
    {
     "name": "stdout",
     "output_type": "stream",
     "text": [
      "The Car is at Speed 10\n"
     ]
    }
   ],
   "source": [
    "i10.drive()"
   ]
  },
  {
   "cell_type": "code",
   "execution_count": 14,
   "metadata": {},
   "outputs": [
    {
     "name": "stdout",
     "output_type": "stream",
     "text": [
      "Please pay the amount 100\n",
      "200\n",
      "Paid Successfully\n",
      "Returning you the change amount  100\n"
     ]
    }
   ],
   "source": [
    "i10.refuel()"
   ]
  },
  {
   "cell_type": "code",
   "execution_count": 15,
   "metadata": {},
   "outputs": [
    {
     "name": "stdout",
     "output_type": "stream",
     "text": [
      "I am a Car\n",
      "maxspeed of Car is  200\n",
      "Fuel available in this car is  30\n",
      "Speed of this car is  10\n"
     ]
    }
   ],
   "source": [
    "i10.show_car_details()"
   ]
  },
  {
   "cell_type": "code",
   "execution_count": 17,
   "metadata": {},
   "outputs": [
    {
     "data": {
      "text/plain": [
       "30"
      ]
     },
     "execution_count": 17,
     "metadata": {},
     "output_type": "execute_result"
    }
   ],
   "source": [
    "i10.getFuel()  ## getter method"
   ]
  },
  {
   "cell_type": "code",
   "execution_count": null,
   "metadata": {},
   "outputs": [],
   "source": [
    "Class Attributes: Those Attributes which remain common for all the objects"
   ]
  },
  {
   "cell_type": "code",
   "execution_count": 23,
   "metadata": {},
   "outputs": [],
   "source": [
    "class fan:\n",
    "    work = 'Blow Air'\n",
    "    No_of_blades = 3\n",
    "    def __init__(self,brand,rpm,warrantyperiod):\n",
    "        print('Hello I am a fan!!')\n",
    "        self.brand= brand\n",
    "        self.rpm = rpm\n",
    "        self.warrantyperiod = warrantyperiod\n",
    "        self.No_of_blades = 5"
   ]
  },
  {
   "cell_type": "code",
   "execution_count": 24,
   "metadata": {},
   "outputs": [
    {
     "name": "stdout",
     "output_type": "stream",
     "text": [
      "Hello I am a fan!!\n"
     ]
    }
   ],
   "source": [
    "orientFan = fan('Orient Electric',1500,2)"
   ]
  },
  {
   "cell_type": "code",
   "execution_count": 25,
   "metadata": {},
   "outputs": [
    {
     "name": "stdout",
     "output_type": "stream",
     "text": [
      "Hello I am a fan!!\n"
     ]
    }
   ],
   "source": [
    "UshaFan = fan('Usha Electric',1700,3)"
   ]
  },
  {
   "cell_type": "code",
   "execution_count": 26,
   "metadata": {},
   "outputs": [
    {
     "data": {
      "text/plain": [
       "'Blow Air'"
      ]
     },
     "execution_count": 26,
     "metadata": {},
     "output_type": "execute_result"
    }
   ],
   "source": [
    "orientFan.work"
   ]
  },
  {
   "cell_type": "code",
   "execution_count": 22,
   "metadata": {},
   "outputs": [
    {
     "data": {
      "text/plain": [
       "'Blow Air'"
      ]
     },
     "execution_count": 22,
     "metadata": {},
     "output_type": "execute_result"
    }
   ],
   "source": [
    "UshaFan.work"
   ]
  },
  {
   "cell_type": "code",
   "execution_count": 27,
   "metadata": {},
   "outputs": [
    {
     "data": {
      "text/plain": [
       "3"
      ]
     },
     "execution_count": 27,
     "metadata": {},
     "output_type": "execute_result"
    }
   ],
   "source": [
    "orientFan.No_of_blades"
   ]
  },
  {
   "cell_type": "code",
   "execution_count": 28,
   "metadata": {},
   "outputs": [
    {
     "data": {
      "text/plain": [
       "3"
      ]
     },
     "execution_count": 28,
     "metadata": {},
     "output_type": "execute_result"
    }
   ],
   "source": [
    "UshaFan.No_of_blades"
   ]
  },
  {
   "cell_type": "code",
   "execution_count": 29,
   "metadata": {},
   "outputs": [],
   "source": [
    "orientFan.No_of_blades = 5 # this line creates a object attribute for this object."
   ]
  },
  {
   "cell_type": "code",
   "execution_count": 30,
   "metadata": {},
   "outputs": [
    {
     "data": {
      "text/plain": [
       "3"
      ]
     },
     "execution_count": 30,
     "metadata": {},
     "output_type": "execute_result"
    }
   ],
   "source": [
    "UshaFan.No_of_blades"
   ]
  },
  {
   "cell_type": "code",
   "execution_count": 31,
   "metadata": {},
   "outputs": [
    {
     "data": {
      "text/plain": [
       "5"
      ]
     },
     "execution_count": 31,
     "metadata": {},
     "output_type": "execute_result"
    }
   ],
   "source": [
    "orientFan.No_of_blades"
   ]
  },
  {
   "cell_type": "code",
   "execution_count": 32,
   "metadata": {},
   "outputs": [],
   "source": [
    "fan.No_of_blades = 7"
   ]
  },
  {
   "cell_type": "code",
   "execution_count": 33,
   "metadata": {},
   "outputs": [
    {
     "data": {
      "text/plain": [
       "7"
      ]
     },
     "execution_count": 33,
     "metadata": {},
     "output_type": "execute_result"
    }
   ],
   "source": [
    "UshaFan.No_of_blades"
   ]
  },
  {
   "cell_type": "code",
   "execution_count": null,
   "metadata": {},
   "outputs": [],
   "source": [
    "Homework: Implement a class Amazon and do as much creativity as you can\n",
    "    Modify the Car class\n",
    "    Modify the fan class"
   ]
  }
 ],
 "metadata": {
  "kernelspec": {
   "display_name": "Python 3",
   "language": "python",
   "name": "python3"
  },
  "language_info": {
   "codemirror_mode": {
    "name": "ipython",
    "version": 3
   },
   "file_extension": ".py",
   "mimetype": "text/x-python",
   "name": "python",
   "nbconvert_exporter": "python",
   "pygments_lexer": "ipython3",
   "version": "3.8.3"
  }
 },
 "nbformat": 4,
 "nbformat_minor": 4
}
