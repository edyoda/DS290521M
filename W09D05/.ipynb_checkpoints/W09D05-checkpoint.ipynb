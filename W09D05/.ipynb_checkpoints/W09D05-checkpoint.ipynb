{
 "cells": [
  {
   "cell_type": "code",
   "execution_count": 8,
   "metadata": {},
   "outputs": [],
   "source": [
    "class bookMyMovie:\n",
    "    def __init__(self):\n",
    "        self.row = int(input('Enter the number of rows\\n'))\n",
    "        self.col = int(input('Enter the number of seats in each row\\n'))\n",
    "        self.no_of_seats = self.row * self.col\n",
    "        self.matrix = []\n",
    "        self.seat_count = 0 # no of purchased tickets\n",
    "        self.current_income = 0\n",
    "        self.total_income = 0\n",
    "        self.u_details = {}\n",
    "        \n",
    "        for i in range(self.row):\n",
    "            a = []\n",
    "            for j in range(self.col):\n",
    "                a.append('S')\n",
    "            self.matrix.append(a)\n",
    "    \n",
    "    def show_seats(self):\n",
    "        print('\\nCinema:')\n",
    "        print(end=\"  \")\n",
    "        for j in range(1, self.col+1):\n",
    "            print(j, end = \" \")\n",
    "        print()\n",
    "        a = 0\n",
    "        for i in self.matrix:\n",
    "            a = a+1\n",
    "            print(a,end=\" \")\n",
    "            print(\" \".join(i), sep=\",\")\n",
    "    \n",
    "    def buy(self):\n",
    "        a = int(input('Enter the row you want to book\\n'))\n",
    "        b = int(input('Enter the column you want to book\\n'))\n",
    "        if self.matrix[a-1][b-1] == 'B':\n",
    "            print('This seat is already booked')\n",
    "        elif self.no_of_seats < 60:\n",
    "            self.price = 10\n",
    "            print('Ticket per person is $10, do you want to proceed ahead? Press Y/y')\n",
    "        elif a < self.row//2:\n",
    "            self.price = 10\n",
    "            print('Ticket per person is $10, do you want to proceed ahead? Press Y/y')\n",
    "        elif a > self.row//2:\n",
    "            self.price = 8\n",
    "            print('Ticket per person is $8, do you want to proceed ahead? Press Y/y')\n",
    "            \n",
    "        self.pr = input()\n",
    "        \n",
    "        if self.pr == \"Y\" or self.pr == 'y':\n",
    "            u_dict = {}\n",
    "            Uname = input('For Booking, Enter your name\\n')\n",
    "            Ugen = input('Enter the gender\\n')\n",
    "            UAge = input('Enter your age\\n')\n",
    "            Ucn = input('Enter your contact Number\\n')\n",
    "            current_row = a-1\n",
    "            current_col = b-1\n",
    "            self.matrix[current_row][current_col] = \"B\"\n",
    "            self.seat_count += 1\n",
    "            self.current_income += self.price\n",
    "            u_dict[(self.)]"
   ]
  },
  {
   "cell_type": "code",
   "execution_count": 9,
   "metadata": {},
   "outputs": [],
   "source": [
    "x = [['S','S'],['S','S']]"
   ]
  },
  {
   "cell_type": "code",
   "execution_count": 10,
   "metadata": {},
   "outputs": [
    {
     "name": "stdout",
     "output_type": "stream",
     "text": [
      "Enter the number of rows\n",
      "5\n",
      "Enter the number of seats in each row\n",
      "6\n"
     ]
    }
   ],
   "source": [
    "obj = bookMyMovie()"
   ]
  },
  {
   "cell_type": "code",
   "execution_count": 11,
   "metadata": {},
   "outputs": [
    {
     "name": "stdout",
     "output_type": "stream",
     "text": [
      "\n",
      "Cinema:\n",
      "  1 2 3 4 5 6 \n",
      "1 S S S S S S\n",
      "2 S S S S S S\n",
      "3 S S S S S S\n",
      "4 S S S S S S\n",
      "5 S S S S S S\n"
     ]
    }
   ],
   "source": [
    "obj.show_seats()"
   ]
  },
  {
   "cell_type": "code",
   "execution_count": null,
   "metadata": {},
   "outputs": [],
   "source": []
  }
 ],
 "metadata": {
  "kernelspec": {
   "display_name": "Python 3",
   "language": "python",
   "name": "python3"
  },
  "language_info": {
   "codemirror_mode": {
    "name": "ipython",
    "version": 3
   },
   "file_extension": ".py",
   "mimetype": "text/x-python",
   "name": "python",
   "nbconvert_exporter": "python",
   "pygments_lexer": "ipython3",
   "version": "3.8.3"
  }
 },
 "nbformat": 4,
 "nbformat_minor": 4
}
