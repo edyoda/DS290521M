{
 "cells": [
  {
   "cell_type": "code",
   "execution_count": 1,
   "metadata": {},
   "outputs": [
    {
     "name": "stdout",
     "output_type": "stream",
     "text": [
      "the quick brown fox\n"
     ]
    }
   ],
   "source": [
    "x = input()"
   ]
  },
  {
   "cell_type": "code",
   "execution_count": 2,
   "metadata": {},
   "outputs": [
    {
     "name": "stdout",
     "output_type": "stream",
     "text": [
      "the quick brown fox\n"
     ]
    }
   ],
   "source": [
    "print(x)"
   ]
  },
  {
   "cell_type": "code",
   "execution_count": 3,
   "metadata": {},
   "outputs": [
    {
     "name": "stdout",
     "output_type": "stream",
     "text": [
      "<class 'str'>\n"
     ]
    }
   ],
   "source": [
    "print(type(x))"
   ]
  },
  {
   "cell_type": "code",
   "execution_count": 4,
   "metadata": {},
   "outputs": [
    {
     "name": "stdout",
     "output_type": "stream",
     "text": [
      "['the', 'quick', 'brown', 'fox']\n"
     ]
    }
   ],
   "source": [
    "x_collection = x.split()\n",
    "print(x_collection)"
   ]
  },
  {
   "cell_type": "code",
   "execution_count": 5,
   "metadata": {},
   "outputs": [
    {
     "name": "stdout",
     "output_type": "stream",
     "text": [
      "the quick brown fox jumps over a lazy dog\n"
     ]
    }
   ],
   "source": [
    "x_collection = input().split()"
   ]
  },
  {
   "cell_type": "code",
   "execution_count": 6,
   "metadata": {},
   "outputs": [
    {
     "data": {
      "text/plain": [
       "['the', 'quick', 'brown', 'fox', 'jumps', 'over', 'a', 'lazy', 'dog']"
      ]
     },
     "execution_count": 6,
     "metadata": {},
     "output_type": "execute_result"
    }
   ],
   "source": [
    "x_collection"
   ]
  },
  {
   "cell_type": "code",
   "execution_count": 7,
   "metadata": {},
   "outputs": [
    {
     "data": {
      "text/plain": [
       "False"
      ]
     },
     "execution_count": 7,
     "metadata": {},
     "output_type": "execute_result"
    }
   ],
   "source": [
    "'IBAD ALI'.istitle()"
   ]
  },
  {
   "cell_type": "markdown",
   "metadata": {},
   "source": [
    "# strip\n",
    "# lstrip\n",
    "# rstrip\n",
    "# center"
   ]
  },
  {
   "cell_type": "code",
   "execution_count": 10,
   "metadata": {},
   "outputs": [
    {
     "name": "stdout",
     "output_type": "stream",
     "text": [
      "Python\n"
     ]
    }
   ],
   "source": [
    "s = 'JavaPythonJava'\n",
    "x = s.strip('Java')\n",
    "print(x)"
   ]
  },
  {
   "cell_type": "code",
   "execution_count": 11,
   "metadata": {},
   "outputs": [
    {
     "name": "stdout",
     "output_type": "stream",
     "text": [
      "PythonJava\n"
     ]
    }
   ],
   "source": [
    "s = 'JavaPythonJava'\n",
    "x = s.lstrip('Java')\n",
    "print(x)"
   ]
  },
  {
   "cell_type": "code",
   "execution_count": 12,
   "metadata": {},
   "outputs": [
    {
     "name": "stdout",
     "output_type": "stream",
     "text": [
      "JavaPython\n"
     ]
    }
   ],
   "source": [
    "s = 'JavaPythonJava'\n",
    "x = s.rstrip('Java')\n",
    "print(x)"
   ]
  },
  {
   "cell_type": "code",
   "execution_count": 3,
   "metadata": {},
   "outputs": [
    {
     "name": "stdout",
     "output_type": "stream",
     "text": [
      "27\n",
      "****banana is better than mango****\n"
     ]
    }
   ],
   "source": [
    "s = 'banana is better than mango'\n",
    "print(len(s))\n",
    "\n",
    "s2 = s.center(35,'*')\n",
    "\n",
    "print(s2)"
   ]
  },
  {
   "cell_type": "markdown",
   "metadata": {},
   "source": [
    "## LISTS"
   ]
  },
  {
   "cell_type": "markdown",
   "metadata": {},
   "source": [
    "## Q1)find out the largest and smallest word in the string \"The Surprising Benefits of Sarcasm\".\n",
    "\n",
    "### Intuition: How can we split the words such that we can count their length and compare with each other?\n",
    "\n",
    "### Pseudocode:\n",
    "    1.)Take maxx as -inf, and minn as +inf\n",
    "    2.)convert the string into a list using split() function\n",
    "    3.)loop/iterate through the list and find the maximum length word by using len() function.\n",
    "    Similarly the minimum"
   ]
  },
  {
   "cell_type": "code",
   "execution_count": 28,
   "metadata": {},
   "outputs": [],
   "source": [
    "# How to find the largest number in a list?"
   ]
  },
  {
   "cell_type": "code",
   "execution_count": 33,
   "metadata": {},
   "outputs": [
    {
     "name": "stdout",
     "output_type": "stream",
     "text": [
      "3455\n"
     ]
    }
   ],
   "source": [
    "x = [-50000,-10000000,-100,3455]\n",
    "\n",
    "largest = x[0]\n",
    "for no in x:\n",
    "    if no>largest:\n",
    "        largest = no\n",
    "print(largest)"
   ]
  },
  {
   "cell_type": "code",
   "execution_count": 34,
   "metadata": {},
   "outputs": [],
   "source": [
    "# How to find the smallest number in a list?"
   ]
  },
  {
   "cell_type": "code",
   "execution_count": 36,
   "metadata": {},
   "outputs": [
    {
     "name": "stdout",
     "output_type": "stream",
     "text": [
      "-10000000\n"
     ]
    }
   ],
   "source": [
    "x = [-50000,-10000000,-100,3455]\n",
    "\n",
    "smallest = x[0]\n",
    "for no in x:\n",
    "    if no<smallest:\n",
    "        smallest = no\n",
    "print(largest)"
   ]
  },
  {
   "cell_type": "code",
   "execution_count": 44,
   "metadata": {},
   "outputs": [
    {
     "name": "stdout",
     "output_type": "stream",
     "text": [
      "[]\n",
      "largest and smallest can not be found as sentence does not contains any words\n"
     ]
    }
   ],
   "source": [
    "x = \"The Surprising Benefits of Sarcasm\"\n",
    "\n",
    "x_list = x.split()\n",
    "print(x_list)\n",
    "if len(x_list) == 0:\n",
    "    print('largest and smallest can not be found as sentence does not contains any words')\n",
    "else:\n",
    "    largest_length = len(x_list[0])\n",
    "    largest_word = x_list[0]\n",
    "    smallest_length = len(x_list[0])\n",
    "    smallest_word = x_list[0]\n",
    "    for word in x_list:\n",
    "        current_word_length = len(word)\n",
    "        if current_word_length > largest_length:\n",
    "            largest_length = current_word_length\n",
    "            largest_word = word\n",
    "        if current_word_length < smallest_length:\n",
    "            smallest_length = current_word_length\n",
    "            smallest_word = word\n",
    "    print('largest word is',largest_word)\n",
    "    print('smallest word is',smallest_word)"
   ]
  },
  {
   "cell_type": "code",
   "execution_count": 46,
   "metadata": {},
   "outputs": [
    {
     "name": "stdout",
     "output_type": "stream",
     "text": [
      "['The', 'Surprising', 'Benefits', 'of', 'Sarcasm']\n",
      "largest word is Surprising\n",
      "smallest word is of\n"
     ]
    }
   ],
   "source": [
    "x = \"The Surprising Benefits of Sarcasm\"\n",
    "\n",
    "x_list = x.split()\n",
    "print(x_list)\n",
    "largest_length = float('-inf')\n",
    "largest_word = None\n",
    "smallest_length = float('inf')\n",
    "smallest_word = None\n",
    "for word in x_list:\n",
    "    current_word_length = len(word)\n",
    "    if current_word_length > largest_length:\n",
    "        largest_length = current_word_length\n",
    "        largest_word = word\n",
    "    if current_word_length < smallest_length:\n",
    "        smallest_length = current_word_length\n",
    "        smallest_word = word\n",
    "print('largest word is',largest_word)\n",
    "print('smallest word is',smallest_word)"
   ]
  },
  {
   "cell_type": "code",
   "execution_count": null,
   "metadata": {},
   "outputs": [],
   "source": [
    "lists\n",
    "\n",
    "mutable => add,update, delte\n",
    "ordered => indexing and slicing\n",
    "heterogenous => you can store any data type into it.\n",
    "\n",
    "['apple',True,{'python':3,'java':8},{111,111,111},['apple','mango'],('kiwi',1,2,3),45,34.56]"
   ]
  },
  {
   "cell_type": "markdown",
   "metadata": {},
   "source": [
    "# add:\n",
    "#     append\n",
    "#     extend\n",
    "#     insert"
   ]
  },
  {
   "cell_type": "code",
   "execution_count": 47,
   "metadata": {},
   "outputs": [
    {
     "name": "stdout",
     "output_type": "stream",
     "text": [
      "['python', 'c', 'c++', 'java']\n"
     ]
    }
   ],
   "source": [
    "l = ['python','c','c++']\n",
    "\n",
    "# How to add 'java' at the end of this list?\n",
    "\n",
    "l.append('java')\n",
    "print(l)"
   ]
  },
  {
   "cell_type": "code",
   "execution_count": 5,
   "metadata": {},
   "outputs": [
    {
     "name": "stdout",
     "output_type": "stream",
     "text": [
      "['mohit', 'rahul', 'imtiyaz ali']\n"
     ]
    }
   ],
   "source": [
    "# l = ['duhan','anamika','mohamedbeemubeen']\n",
    "l = []\n",
    "\n",
    "l.append('mohit')\n",
    "l.append('rahul')\n",
    "l.append('imtiyaz ali')\n",
    "\n",
    "print(l)"
   ]
  },
  {
   "cell_type": "code",
   "execution_count": 6,
   "metadata": {},
   "outputs": [
    {
     "name": "stdout",
     "output_type": "stream",
     "text": [
      "[1, 2, 3, 100]\n"
     ]
    }
   ],
   "source": [
    "l = [1,2,3]\n",
    "l.append(100)\n",
    "print(l)"
   ]
  },
  {
   "cell_type": "code",
   "execution_count": 7,
   "metadata": {},
   "outputs": [
    {
     "name": "stdout",
     "output_type": "stream",
     "text": [
      "[1, 2, 3, 100, 'R', 'Jupyter Notebook', 'Apache Spark']\n"
     ]
    }
   ],
   "source": [
    "l2 = ['R','Jupyter Notebook','Apache Spark']\n",
    "\n",
    "l.extend(l2)\n",
    "print(l)"
   ]
  },
  {
   "cell_type": "code",
   "execution_count": 50,
   "metadata": {},
   "outputs": [
    {
     "name": "stdout",
     "output_type": "stream",
     "text": [
      "['apple', 'mango', 'banana', 'kiwi']\n"
     ]
    }
   ],
   "source": [
    "fruits = ['apple','mango']\n",
    "fruits2 = ['banana','kiwi']\n",
    "\n",
    "fruits.extend(fruits2)\n",
    "print(fruits)"
   ]
  },
  {
   "cell_type": "code",
   "execution_count": 51,
   "metadata": {},
   "outputs": [
    {
     "data": {
      "text/plain": [
       "97"
      ]
     },
     "execution_count": 51,
     "metadata": {},
     "output_type": "execute_result"
    }
   ],
   "source": [
    "ord('a')"
   ]
  },
  {
   "cell_type": "code",
   "execution_count": 52,
   "metadata": {},
   "outputs": [
    {
     "data": {
      "text/plain": [
       "'a'"
      ]
     },
     "execution_count": 52,
     "metadata": {},
     "output_type": "execute_result"
    }
   ],
   "source": [
    "chr(97)"
   ]
  },
  {
   "cell_type": "markdown",
   "metadata": {},
   "source": [
    "## Q2.) Make a list with alphabets from m to z\n",
    "\n",
    "### Intuition: Range function can create numbers and chr() can convert them to alphabets\n",
    "\n",
    "### Pseudocode:\n",
    "    1.) Create an empty list\n",
    "    2.) make 2 variables for start and end alphabets. convert them to numbers\n",
    "    3.) loop from start to end and convert each one of them to alphabet\n",
    "    4.) save each one of them to list."
   ]
  },
  {
   "cell_type": "code",
   "execution_count": 55,
   "metadata": {},
   "outputs": [
    {
     "name": "stdout",
     "output_type": "stream",
     "text": [
      "a\n",
      "m\n",
      "['a', 'b', 'c', 'd', 'e', 'f', 'g', 'h', 'i', 'j', 'k', 'l', 'm']\n"
     ]
    }
   ],
   "source": [
    "alphabets_m_to_z = []\n",
    "start = input()\n",
    "end = input()\n",
    "\n",
    "for value in range(ord(start),ord(end)+1):\n",
    "    alphabets_m_to_z.append(chr(value))\n",
    "    \n",
    "print(alphabets_m_to_z)"
   ]
  },
  {
   "cell_type": "code",
   "execution_count": 56,
   "metadata": {},
   "outputs": [
    {
     "name": "stdout",
     "output_type": "stream",
     "text": [
      "[1, 2, 3, 4, 5, 6, 7, 8, 9]\n"
     ]
    }
   ],
   "source": [
    "x = []\n",
    "\n",
    "for i in range(1,10):\n",
    "    x.append(i)\n",
    "\n",
    "print(x)"
   ]
  },
  {
   "cell_type": "code",
   "execution_count": null,
   "metadata": {},
   "outputs": [],
   "source": [
    "# Q\n",
    "l1 = [[1,2,3],[4,5,6],[7,8,9]]\n",
    "output = [1,2,3,4,5,6,7,8,9]\n",
    "\n",
    "# Do this using extend builtin funciton"
   ]
  },
  {
   "cell_type": "code",
   "execution_count": 62,
   "metadata": {},
   "outputs": [
    {
     "name": "stdout",
     "output_type": "stream",
     "text": [
      "[1, 2, 3, 4, 5, 6, 7, 8, 9]\n"
     ]
    }
   ],
   "source": [
    "l1 = [[1,2,3],[4,5,6],[7,8,9]]\n",
    "l2 = []\n",
    "\n",
    "for small_list in l1:\n",
    "    l2.extend(small_list)\n",
    "print(l2)"
   ]
  },
  {
   "cell_type": "markdown",
   "metadata": {},
   "source": [
    "## Q3.) Find the maximum appearing alphabet in the string \"apple is apple\"\n",
    "### Intuition: Use the learn count function learnt in the previous lesson\n",
    "\n",
    "### Pseudocode:\n",
    "    every char \n",
    "    check if already present in the list or not \n",
    "         if not present :\n",
    "            calculate count \n",
    "            check max count condition "
   ]
  },
  {
   "cell_type": "code",
   "execution_count": 70,
   "metadata": {},
   "outputs": [
    {
     "name": "stdout",
     "output_type": "stream",
     "text": [
      "p\n"
     ]
    }
   ],
   "source": [
    "given_string = \"apple is apple\"\n",
    "\n",
    "largest_count_letter = given_string[0]\n",
    "largest_count = given_string.count(largest_count_letter)\n",
    "\n",
    "for char in given_string:\n",
    "    count_of_current_char = given_string.count(char)\n",
    "    if count_of_current_char > largest_count:\n",
    "        largest_count = count_of_current_char\n",
    "        largest_count_letter = char\n",
    "print(largest_count_letter)"
   ]
  },
  {
   "cell_type": "code",
   "execution_count": 71,
   "metadata": {},
   "outputs": [
    {
     "name": "stdout",
     "output_type": "stream",
     "text": [
      "q\n"
     ]
    }
   ],
   "source": [
    "given_string = \"mnopqqqqqqqqqqqqqqqqqqqqqqqqqqqqqqqqppppppppp\"\n",
    "\n",
    "largest_count_letter = given_string[0]\n",
    "largest_count = given_string.count(largest_count_letter)\n",
    "\n",
    "for char in given_string:\n",
    "    count_of_current_char = given_string.count(char)\n",
    "    if count_of_current_char > largest_count:\n",
    "        largest_count = count_of_current_char\n",
    "        largest_count_letter = char\n",
    "print(largest_count_letter)"
   ]
  },
  {
   "cell_type": "code",
   "execution_count": 72,
   "metadata": {},
   "outputs": [
    {
     "name": "stdout",
     "output_type": "stream",
     "text": [
      "z\n"
     ]
    }
   ],
   "source": [
    "given_string = \"plzzzrepeat\"\n",
    "\n",
    "largest_count_letter = given_string[0]\n",
    "largest_count = given_string.count(largest_count_letter)\n",
    "\n",
    "for char in given_string:\n",
    "    count_of_current_char = given_string.count(char)\n",
    "    if count_of_current_char > largest_count:\n",
    "        largest_count = count_of_current_char\n",
    "        largest_count_letter = char\n",
    "print(largest_count_letter)"
   ]
  },
  {
   "cell_type": "code",
   "execution_count": null,
   "metadata": {},
   "outputs": [],
   "source": []
  }
 ],
 "metadata": {
  "kernelspec": {
   "display_name": "Python 3",
   "language": "python",
   "name": "python3"
  },
  "language_info": {
   "codemirror_mode": {
    "name": "ipython",
    "version": 3
   },
   "file_extension": ".py",
   "mimetype": "text/x-python",
   "name": "python",
   "nbconvert_exporter": "python",
   "pygments_lexer": "ipython3",
   "version": "3.8.3"
  }
 },
 "nbformat": 4,
 "nbformat_minor": 4
}
