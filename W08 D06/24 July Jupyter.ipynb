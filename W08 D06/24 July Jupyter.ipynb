{
 "cells": [
  {
   "cell_type": "code",
   "execution_count": null,
   "metadata": {},
   "outputs": [],
   "source": [
    "# collections--- in python\n",
    "\n",
    "#  deque ---is double ended queue\n",
    "# append, appendleft, extend, extendleft, pop , popleft,\n",
    "# FIFO : First in First out(queue)\n",
    "# LIFO : drque\n",
    "#  Counter -  Gives you a count of each items in the container with key value structure\n",
    "#  OrderedDict\n",
    "#  ChainMap\n",
    "\n",
    "\n",
    "\n",
    "\n",
    "#  datetime\n",
    "\n",
    "\n"
   ]
  },
  {
   "cell_type": "code",
   "execution_count": null,
   "metadata": {},
   "outputs": [],
   "source": [
    "import collections\n",
    "dq = collections.deque([4,5,6])\n",
    "print(dq)\n",
    "\n",
    "dq.append(7)\n",
    "print(dq)\n",
    "\n",
    "dq.appendleft(3)\n",
    "print(dq)\n",
    "\n",
    "dq.extend([8,9])\n",
    "print(dq)\n",
    "\n",
    "dq.extendleft([2,1,0])   #[1,0]\n",
    "print(dq)\n",
    "\n",
    "dq.insert(4,-10000)\n",
    "print(dq)\n",
    "\n",
    "dq.pop()\n",
    "print(dq)\n",
    "\n",
    "dq.popleft()\n",
    "print(dq)"
   ]
  },
  {
   "cell_type": "code",
   "execution_count": null,
   "metadata": {},
   "outputs": [],
   "source": [
    "a = [1,2,3,4]\n",
    "a = collections.deque(a)\n",
    "a.extendleft(['A','B'])\n",
    "print(a)"
   ]
  },
  {
   "cell_type": "code",
   "execution_count": null,
   "metadata": {
    "scrolled": true
   },
   "outputs": [],
   "source": [
    "L1 = ['x','y','z','z','z','z','x','z']\n",
    "\n",
    "print(collections.Counter(L1))\n",
    "\n",
    "S1 = @\n",
    "print(collections.Counter(S1))\n",
    "# most common\n",
    "#print(collections.Counter(L1).most_common(1))\n",
    "\n",
    "#elements---iterable object\n",
    "E = collections.Counter(L1)\n",
    "for i in E.elements():\n",
    "    print(i)\n"
   ]
  },
  {
   "cell_type": "code",
   "execution_count": null,
   "metadata": {},
   "outputs": [],
   "source": [
    "# OrderDict ----order of insertion in Dict Py 2.7 was not taken care of\n",
    "# but in 3 and above it there.\n",
    "\n",
    "a = {'apple':3,'mango':4}\n",
    "OD = OrderedDict(a)\n",
    "OD"
   ]
  },
  {
   "cell_type": "code",
   "execution_count": null,
   "metadata": {},
   "outputs": [],
   "source": [
    "OD.keys()\n",
    "OD.values()"
   ]
  },
  {
   "cell_type": "code",
   "execution_count": null,
   "metadata": {},
   "outputs": [],
   "source": [
    "from collections import OrderedDict\n",
    "OD = OrderedDict({ 'Randy Orton': 'Red', 'Dwayne Johnson' : 'Blue', 'Jhon Cena':'Red' })\n",
    "print(OD)\n",
    "OD.move_to_end('Dwayne Johnson')\n",
    "print(OD)"
   ]
  },
  {
   "cell_type": "code",
   "execution_count": null,
   "metadata": {},
   "outputs": [],
   "source": [
    "from collections import ChainMap\n",
    "\n",
    "d1 = {'a':1,'b':2}\n",
    "d2 = {'c':1,'d':2}\n",
    "d3 = {'e':1,'f':2}\n",
    "\n",
    "C = ChainMap(d1,d2,d3)\n",
    "C"
   ]
  },
  {
   "cell_type": "code",
   "execution_count": null,
   "metadata": {},
   "outputs": [],
   "source": [
    "FMCG = {'soap':3,'shampoo':4}\n",
    "PANTRY = {'floor':5,'lentils':6}\n",
    "OI = {'TV':1,'Batteries':2}\n",
    "\n",
    "\n",
    "C = collections.ChainMap(OI,FMCG,PANTRY)\n",
    "print(C)\n",
    "\n",
    "\n",
    "print(list(C.keys()))\n",
    "print(list(C.values()))\n",
    "\n",
    "\n",
    "# new_child\n",
    "c= {'zshoe':2,'socks':3}\n",
    "C = C.new_child(c)\n",
    "print(C)"
   ]
  },
  {
   "cell_type": "code",
   "execution_count": null,
   "metadata": {},
   "outputs": [],
   "source": [
    "# substring and string\n",
    "String = 'my name is bikash s'               \n",
    "String.count('s')\n",
    "\n",
    "\n",
    "\n",
    "\n"
   ]
  },
  {
   "cell_type": "code",
   "execution_count": null,
   "metadata": {},
   "outputs": [],
   "source": [
    "# datetime HH:MM:SS hh:mm:ss DD/MM/YY\n",
    "\n",
    "# inside datetime i have few important classes\n",
    "# time\n",
    "# date\n",
    "# datetime"
   ]
  },
  {
   "cell_type": "code",
   "execution_count": null,
   "metadata": {},
   "outputs": [],
   "source": [
    "import datetime as dt\n",
    "\n",
    "x = dt.datetime.now()\n",
    "x \n",
    "\n",
    "print(x.month)\n",
    "print(x.day)\n",
    "\n",
    "y = dt.date.today()\n",
    "print(y)\n",
    "\n",
    "from datetime import time\n",
    "\n",
    "\n",
    "z = time(hour = 8, minute = 51, second = 30)\n",
    "print(z)\n",
    "\n",
    "\n",
    "from datetime import datetime\n",
    "z1 = datetime(2021,7,24,8,54,30)\n",
    "print(z1)\n",
    "\n",
    "\n",
    "# date(y,m,d)\n",
    "# time(h,m,s,microseconds)\n",
    "# datetime(y,m,d,h,minute,s,microseconds)\n",
    "import datetime as dt"
   ]
  },
  {
   "cell_type": "code",
   "execution_count": null,
   "metadata": {},
   "outputs": [],
   "source": [
    "import datetime as dt\n",
    "\n",
    "# Write a Python script to display the various Date Time formats.\n",
    "# a) Current date and time\n",
    "# strftime is used to format our time into string format\n",
    "\n",
    "\n",
    "print(dt.datetime.now())\n",
    "\n",
    "# b) Current year\n",
    "\n",
    "D = dt.date.today()\n",
    "D.strftime(\"%Y\")\n",
    "#string format time\n",
    "\n",
    "# c) Month of year\n",
    "D.strftime(\"%m\")\n",
    "\n",
    "# d) Week number of the year\n",
    "D.strftime(\"%W\")\n",
    "\n",
    "# e) Weekday of the week\n",
    "print(D.strftime(\"%A\"))\n",
    "\n",
    "# f) Day of year\n",
    "\n",
    "D.strftime(\"%j\")\n",
    "# g) Day of the month\n",
    "D.strftime(\"%d\")\n",
    "\n",
    "\n",
    "# h) Day of week\n",
    "\n",
    "D.strftime(\"%w\")\n",
    "\n"
   ]
  },
  {
   "cell_type": "code",
   "execution_count": null,
   "metadata": {},
   "outputs": [],
   "source": [
    "from collections import ChainMap \n",
    " \n",
    "x = {'Age': 10, 'Name': 'Vinii'} \n",
    "y = {'Gender': 'Female'} \n",
    "\n",
    "X = ChainMap(x, y)\n",
    "print (\"Values associated with the keys of Chainmap: \") \n",
    "print (list(X.maps)) \n",
    "\n",
    "X"
   ]
  },
  {
   "cell_type": "code",
   "execution_count": null,
   "metadata": {},
   "outputs": [],
   "source": [
    "contestants = { 'Randy Orton': 'Red', 'Dwayne Johnson' : 'Blue' }\n",
    "contestants['Jhon Cena'] = 'Red'\n",
    "contestants"
   ]
  },
  {
   "cell_type": "code",
   "execution_count": null,
   "metadata": {},
   "outputs": [],
   "source": [
    "from collections import OrderedDict\n",
    "OD = OrderedDict({ 'Randy Orton': 'Red', 'Dwayne Johnson' : 'Blue', 'Jhon Cena':'Red' })\n",
    "print(OD)\n",
    "OD.move_to_end('Dwayne Johnson')\n",
    "print(OD)\n",
    "\n",
    "OrderedDict(reversed(list(OD.items())))"
   ]
  },
  {
   "cell_type": "code",
   "execution_count": null,
   "metadata": {},
   "outputs": [],
   "source": [
    "Write a Python script to display the various Date Time formats.\n",
    "a) Current date and time\n",
    "b) Current year\n",
    "c) Month of year\n",
    "d) Week number of the year\n",
    "e) Weekday of the week\n",
    "f) Day of year\n",
    "g) Day of the month\n",
    "h) Day of week\n"
   ]
  },
  {
   "cell_type": "code",
   "execution_count": null,
   "metadata": {},
   "outputs": [],
   "source": [
    "#There is a difference between datetime.strp[arse]time() and datetime.strf[ormat]time().\n",
    "\n",
    "#The first one, strptime() allows you to create a date object from a string source, \n",
    "#provided you can tell it what format to expect:\n",
    "\n",
    "strDate = \"11-Apr-2019_09:15:42\"\n",
    "dateObj = datetime.strptime(strDate, \"%d-%b-%Y_%H:%M%S\")\n",
    "\n",
    "print(dateObj)\n",
    "\n",
    "\n",
    "#The second one, strftime() allows you to export your date object to a string in the format \n",
    "#of your choosing:\n",
    "\n",
    "\n",
    "dateObj = datetime(2019, 4, 11, 9, 19, 25)\n",
    "strDate = dateObj.strftime(\"%m/%d/%y %H:%M:%S\")\n",
    "\n",
    "print(strDate)\n",
    "\n",
    "\n"
   ]
  },
  {
   "cell_type": "code",
   "execution_count": null,
   "metadata": {},
   "outputs": [],
   "source": [
    "from datetime import datetime\n",
    "date_object = datetime.strptime('July 1 2014 2:43PM', '%B %d %Y %I:%M%p')\n",
    "print(date_object)\n"
   ]
  },
  {
   "cell_type": "code",
   "execution_count": null,
   "metadata": {},
   "outputs": [],
   "source": [
    "OI = {'TV':1,'Batteries':2}\n",
    "FMCG = {'soap':3,'shampoo':4}\n",
    "PANTRY = {'floor':5,'lentils':6}\n",
    "\n",
    "C = collections.ChainMap(OI,FMCG,PANTRY)\n",
    "print(C)\n",
    "\n",
    "\n",
    "print(list(C.keys()))\n",
    "list(C.values())"
   ]
  }
 ],
 "metadata": {
  "kernelspec": {
   "display_name": "Python 3",
   "language": "python",
   "name": "python3"
  },
  "language_info": {
   "codemirror_mode": {
    "name": "ipython",
    "version": 3
   },
   "file_extension": ".py",
   "mimetype": "text/x-python",
   "name": "python",
   "nbconvert_exporter": "python",
   "pygments_lexer": "ipython3",
   "version": "3.6.4"
  }
 },
 "nbformat": 4,
 "nbformat_minor": 2
}
