{
 "cells": [
  {
   "cell_type": "code",
   "execution_count": 1,
   "metadata": {},
   "outputs": [
    {
     "name": "stdout",
     "output_type": "stream",
     "text": [
      "1\n",
      "2\n",
      "3\n",
      "4\n",
      "5\n",
      "6\n",
      "7\n",
      "8\n",
      "9\n",
      "10\n"
     ]
    }
   ],
   "source": [
    "for i in range(1,11):\n",
    "    print(i)"
   ]
  },
  {
   "cell_type": "code",
   "execution_count": null,
   "metadata": {},
   "outputs": [],
   "source": [
    "Immutable Data Types:(which we can't edit)\n",
    "                      int\n",
    "                      float\n",
    "                      str\n",
    "                      None\n",
    "                      tuple\n",
    "                      bool\n",
    "Mutable Data Types:\n",
    "                      list\n",
    "                      dict\n",
    "                      set"
   ]
  },
  {
   "cell_type": "code",
   "execution_count": null,
   "metadata": {},
   "outputs": [],
   "source": [
    "Operators:\n",
    "    Membership Operators(in, not in)\n",
    "    Assignment Operators (=,+=,-=)\n",
    "    Logical Operators (and,or,not)\n",
    "    Arithmetic Operators (+,-,%,/,//,**)\n",
    "    Identity Operators (is, is not)\n",
    "    Comparison Operators (==,<,>,<=,>=,!=)"
   ]
  },
  {
   "cell_type": "markdown",
   "metadata": {},
   "source": [
    "## Q3: In the following list of Person Informations.\n",
    " persons = [{'Name':'Mohit','Gender':'M','Profession':'teacher'},{'Name':\n",
    ",'Kunal','Gender':'M','Profession':'engineer'},\n",
    "{'Name':'Rashmi','Gender':'F','Profession':'doctor'}]\n",
    "\n",
    "## if the profession is doctor check if the name starts with M print 'doctor M' else print 'doctor' \n",
    "## if the professtion is engineer, check if the gender is M, if yes print 'engineer bhaiyya' else print 'engineer didi' \n",
    "\n",
    "## if the profeesion is actor , check if the last char of name is h, if yes print 'actor' or print 'lier' \n",
    "\n",
    "## if the profession is none of the above print('Wow what do you actually do??')"
   ]
  },
  {
   "cell_type": "code",
   "execution_count": 16,
   "metadata": {},
   "outputs": [],
   "source": [
    "persons = [{'Name':'Mohit','Gender':'M','Profession':'teacher'},\n",
    "           {'Name':'Kunal','Gender':'M','Profession':'engineer'},\n",
    "            {'Name':'Rashmi','Gender':'F','Profession':'doctor'},\n",
    "           {'Name': 'Meghna','Gender':'F','Profession':'doctor'},\n",
    "          {'Name': 'Dulhaniya','Gender':'F','Profession':'engineer'},\n",
    "          {'Name': 'Nilesh','Gender':'M','Profession':'actor'},\n",
    "          {'Name':'Vinay Soni','Gender':'M','Profession':'Data Scientist'}]"
   ]
  },
  {
   "cell_type": "code",
   "execution_count": 17,
   "metadata": {},
   "outputs": [
    {
     "name": "stdout",
     "output_type": "stream",
     "text": [
      "Mohit is a  Wow What do you actually do?\n",
      "Kunal is a  engineer bhaiyya\n",
      "Rashmi is a  doctor\n",
      "Meghna is a  doctor M\n",
      "Dulhaniya is a  engineer didi\n",
      "Nilesh is a  actor\n",
      "Vinay Soni is a  Wow What do you actually do?\n"
     ]
    }
   ],
   "source": [
    "for p in persons:\n",
    "    print(p['Name'],'is a ',end=' ')\n",
    "    if p['Profession'] == 'doctor':\n",
    "        if p['Name'][0] == 'M':\n",
    "            print('doctor M')\n",
    "        else:\n",
    "            print('doctor')\n",
    "    elif p['Profession'] == 'engineer':\n",
    "        if p['Gender'] == \"M\":\n",
    "            print('engineer bhaiyya')\n",
    "        else:\n",
    "            print('engineer didi')\n",
    "    elif p['Profession'] == 'actor':\n",
    "        if p['Name'][-1] == 'h':\n",
    "            print('actor')\n",
    "        else:\n",
    "            print('lier')\n",
    "    else:\n",
    "        print('Wow What do you actually do?')"
   ]
  },
  {
   "cell_type": "code",
   "execution_count": null,
   "metadata": {},
   "outputs": [],
   "source": [
    "ord function:\n",
    "    it gives the corresponding ascii value of that character.\n",
    "chr function:\n",
    "    it gives the corresponding character of a ascii value."
   ]
  },
  {
   "cell_type": "code",
   "execution_count": 19,
   "metadata": {},
   "outputs": [
    {
     "data": {
      "text/plain": [
       "97"
      ]
     },
     "execution_count": 19,
     "metadata": {},
     "output_type": "execute_result"
    }
   ],
   "source": [
    "ord('a')"
   ]
  },
  {
   "cell_type": "code",
   "execution_count": 20,
   "metadata": {},
   "outputs": [
    {
     "data": {
      "text/plain": [
       "43"
      ]
     },
     "execution_count": 20,
     "metadata": {},
     "output_type": "execute_result"
    }
   ],
   "source": [
    "ord('+')"
   ]
  },
  {
   "cell_type": "code",
   "execution_count": 21,
   "metadata": {},
   "outputs": [
    {
     "data": {
      "text/plain": [
       "56"
      ]
     },
     "execution_count": 21,
     "metadata": {},
     "output_type": "execute_result"
    }
   ],
   "source": [
    "ord('8')"
   ]
  },
  {
   "cell_type": "code",
   "execution_count": 22,
   "metadata": {},
   "outputs": [
    {
     "data": {
      "text/plain": [
       "65"
      ]
     },
     "execution_count": 22,
     "metadata": {},
     "output_type": "execute_result"
    }
   ],
   "source": [
    "ord('A')"
   ]
  },
  {
   "cell_type": "code",
   "execution_count": 23,
   "metadata": {},
   "outputs": [
    {
     "data": {
      "text/plain": [
       "'A'"
      ]
     },
     "execution_count": 23,
     "metadata": {},
     "output_type": "execute_result"
    }
   ],
   "source": [
    "chr(65)"
   ]
  },
  {
   "cell_type": "code",
   "execution_count": 24,
   "metadata": {},
   "outputs": [
    {
     "data": {
      "text/plain": [
       "'8'"
      ]
     },
     "execution_count": 24,
     "metadata": {},
     "output_type": "execute_result"
    }
   ],
   "source": [
    "chr(56)"
   ]
  },
  {
   "cell_type": "code",
   "execution_count": 26,
   "metadata": {},
   "outputs": [
    {
     "data": {
      "text/plain": [
       "'a'"
      ]
     },
     "execution_count": 26,
     "metadata": {},
     "output_type": "execute_result"
    }
   ],
   "source": [
    "chr(97)"
   ]
  },
  {
   "cell_type": "code",
   "execution_count": null,
   "metadata": {},
   "outputs": [],
   "source": [
    "Q1) \n",
    "test_list = ['apple','mango','banana','pineapple','lassi','rythm','sky','hymm','rndm']\n",
    "\n",
    "Print only those words which does contain exactly 2 vowels in them\n",
    "\n",
    "Expected Output\n",
    "apple\n",
    "mango\n",
    "lassi"
   ]
  },
  {
   "cell_type": "code",
   "execution_count": 28,
   "metadata": {},
   "outputs": [
    {
     "name": "stdout",
     "output_type": "stream",
     "text": [
      "['apple', 'mango', 'lassi']\n"
     ]
    }
   ],
   "source": [
    "list_main=['apple','mango','banana','pineapple','lassi','rythm','sky','hymm','rndm']\n",
    "list_vowel=['a','e','i','o','u']\n",
    "result_list=[]\n",
    "for fruit in list_main:\n",
    "    vowel_count=0\n",
    "    for alpha in fruit:\n",
    "        if alpha in list_vowel:\n",
    "            vowel_count +=1\n",
    "    if vowel_count==2:\n",
    "        result_list.append(fruit)\n",
    "print(result_list)"
   ]
  },
  {
   "cell_type": "code",
   "execution_count": 29,
   "metadata": {},
   "outputs": [
    {
     "name": "stdout",
     "output_type": "stream",
     "text": [
      "apple\n",
      "mango\n",
      "lassi\n"
     ]
    }
   ],
   "source": [
    "test_list=['apple','mango','banana','pineapple','lassi','rythm','sky','hymm','rndm']\n",
    "for item in test_list:\n",
    "    count=0\n",
    "    for c in item:\n",
    "        if(c in ['a','e','i','o','u']):\n",
    "            count+=1\n",
    "    if(count==2):\n",
    "        print(item)"
   ]
  },
  {
   "cell_type": "code",
   "execution_count": 31,
   "metadata": {},
   "outputs": [
    {
     "name": "stdout",
     "output_type": "stream",
     "text": [
      "apple\n",
      "mango\n",
      "lassi\n"
     ]
    }
   ],
   "source": [
    "fruits=['apple','mango','banana','pineapple','lassi','rythm','sky','hymm','rndm']\n",
    "for i in fruits:\n",
    "    count=0\n",
    "    for j in i:\n",
    "        if j in ['a','e','i','o','u']:\n",
    "            count+=1\n",
    "    if count== 2:\n",
    "            print(i)"
   ]
  },
  {
   "cell_type": "code",
   "execution_count": 44,
   "metadata": {},
   "outputs": [
    {
     "name": "stdout",
     "output_type": "stream",
     "text": [
      "apple\n",
      "mango\n",
      "lassi\n"
     ]
    }
   ],
   "source": [
    "test_list = ['apple','mango','banana','pineapple','lassi','rythm','sky','hymm','rndm']\n",
    "vowel=['a','e','i','o','u']\n",
    "for word in test_list:\n",
    "    count_of_vowel = 0\n",
    "    for char in word:\n",
    "        if char in vowel:\n",
    "            count_of_vowel += 1\n",
    "    if count_of_vowel == 2:\n",
    "        print(word)"
   ]
  },
  {
   "cell_type": "code",
   "execution_count": 46,
   "metadata": {},
   "outputs": [
    {
     "data": {
      "text/plain": [
       "'a'"
      ]
     },
     "execution_count": 46,
     "metadata": {},
     "output_type": "execute_result"
    }
   ],
   "source": [
    "chr(97)"
   ]
  },
  {
   "cell_type": "code",
   "execution_count": 47,
   "metadata": {},
   "outputs": [
    {
     "data": {
      "text/plain": [
       "97"
      ]
     },
     "execution_count": 47,
     "metadata": {},
     "output_type": "execute_result"
    }
   ],
   "source": [
    "ord('a')"
   ]
  },
  {
   "cell_type": "code",
   "execution_count": 49,
   "metadata": {},
   "outputs": [
    {
     "data": {
      "text/plain": [
       "122"
      ]
     },
     "execution_count": 49,
     "metadata": {},
     "output_type": "execute_result"
    }
   ],
   "source": [
    "ord('z')"
   ]
  },
  {
   "cell_type": "code",
   "execution_count": 50,
   "metadata": {},
   "outputs": [
    {
     "data": {
      "text/plain": [
       "'z'"
      ]
     },
     "execution_count": 50,
     "metadata": {},
     "output_type": "execute_result"
    }
   ],
   "source": [
    "chr(122)"
   ]
  },
  {
   "cell_type": "code",
   "execution_count": null,
   "metadata": {},
   "outputs": [],
   "source": [
    "Question: Write all the small alphabets using a for loop,range,chr,ord function.\n",
    "    \n",
    "5 min\n",
    "8:42"
   ]
  },
  {
   "cell_type": "code",
   "execution_count": 56,
   "metadata": {},
   "outputs": [
    {
     "name": "stdout",
     "output_type": "stream",
     "text": [
      "a\n",
      "b\n",
      "c\n",
      "d\n",
      "e\n",
      "f\n",
      "g\n",
      "h\n",
      "i\n",
      "j\n",
      "k\n",
      "l\n",
      "m\n",
      "n\n",
      "o\n",
      "p\n",
      "q\n",
      "r\n",
      "s\n",
      "t\n",
      "u\n",
      "v\n",
      "w\n",
      "x\n",
      "y\n",
      "z\n"
     ]
    }
   ],
   "source": [
    "for ascii_value in range(ord('a'),ord('z')+1):\n",
    "    print(chr(ascii_value))"
   ]
  },
  {
   "cell_type": "code",
   "execution_count": null,
   "metadata": {},
   "outputs": [],
   "source": [
    "Question: \n",
    "    string1 = 'the quick brown fox jumps over a lazy dog' True\n",
    "    string2 = 'the quick blue fox jumps over a lazy dog'  False\n",
    "    string3 = 'happy' False\n",
    "    string4 = 'ttrrww' True\n",
    "    string5 = 'tomorrow' True\n",
    "    \n",
    "We need to test if the string contains t,r and w"
   ]
  },
  {
   "cell_type": "code",
   "execution_count": 59,
   "metadata": {},
   "outputs": [
    {
     "name": "stdout",
     "output_type": "stream",
     "text": [
      "True\n",
      "False\n",
      "False\n"
     ]
    }
   ],
   "source": [
    "string1=\"the quick brown fox jumps over the lazy dog\"\n",
    "string2=\"the quick blue fox jumps over the lazy dog\"\n",
    "string3 = 'w'\n",
    "\n",
    "for i in [string1,string2,string3]:\n",
    "    \n",
    "    if \"t\" in i and \"r\" in i and \"w\" in i:\n",
    "        print(\"True\")\n",
    "    else:\n",
    "        print(\"False\")"
   ]
  },
  {
   "cell_type": "code",
   "execution_count": 62,
   "metadata": {},
   "outputs": [
    {
     "name": "stdout",
     "output_type": "stream",
     "text": [
      "happy\n",
      "Invalid string\n"
     ]
    }
   ],
   "source": [
    "input_string=input()\n",
    "t_counter=0\n",
    "r_counter=0\n",
    "w_counter=0\n",
    "for char in input_string:\n",
    "    if char=='t':\n",
    "        t_counter=1\n",
    "    elif char=='r':\n",
    "        r_counter=1\n",
    "    elif char=='w':\n",
    "        w_counter=1\n",
    "if t_counter !=0 and r_counter !=0 and w_counter !=0:\n",
    "    print(input_string)\n",
    "else:\n",
    "    print('Invalid string')"
   ]
  },
  {
   "cell_type": "code",
   "execution_count": 66,
   "metadata": {},
   "outputs": [
    {
     "name": "stdout",
     "output_type": "stream",
     "text": [
      "True\n"
     ]
    }
   ],
   "source": [
    "string1='tomorrow'\n",
    "t = 0\n",
    "r = 0\n",
    "w = 0\n",
    "\n",
    "for char in string1:\n",
    "    if char == 't':\n",
    "        t = 1\n",
    "    elif char == 'r':\n",
    "        r = 1\n",
    "    elif char == 'w':\n",
    "        w = 1\n",
    "if t+r+w == 3:\n",
    "    print('True')\n",
    "else:\n",
    "    print('False')"
   ]
  },
  {
   "cell_type": "code",
   "execution_count": null,
   "metadata": {},
   "outputs": [],
   "source": [
    "Question: \n",
    "    string1 = 'the quick brown fox jumps over a lazy dog' True\n",
    "    string2 = 'the quick blue fox jumps over a lazy dog'  False\n",
    "    string3 = 'happy' False\n",
    "    string4 = 'ttrrww' False\n",
    "    string5 = 'tomorrow' False\n",
    "    string6 = 'aabbcdefghijklmnoooooooopppppppqrstuvvvvvwwwxyzzzz' True\n",
    "    \n",
    "Check if all the alphabets are present in the string.\n",
    "I want you guys to use ord,chr in the solution."
   ]
  },
  {
   "cell_type": "code",
   "execution_count": null,
   "metadata": {},
   "outputs": [],
   "source": [
    "10 minutes\n",
    "9:15 AM"
   ]
  },
  {
   "cell_type": "code",
   "execution_count": 69,
   "metadata": {},
   "outputs": [
    {
     "name": "stdout",
     "output_type": "stream",
     "text": [
      "True\n"
     ]
    }
   ],
   "source": [
    "string1='ttr'\n",
    "c=0\n",
    "for ch in string1:\n",
    "    if ch=='t' or ch=='r' or ch=='w':\n",
    "        c+=1\n",
    "if c==3:\n",
    "    print('True')\n",
    "else:\n",
    "    print('False')"
   ]
  },
  {
   "cell_type": "code",
   "execution_count": 70,
   "metadata": {},
   "outputs": [
    {
     "name": "stdout",
     "output_type": "stream",
     "text": [
      "True\n"
     ]
    }
   ],
   "source": [
    "list_alpha=[]\n",
    "for i in range(ord('a'),ord('z')+1):\n",
    "    list_alpha.append(chr(i))\n",
    "#print(list_alpha)\n",
    "\n",
    "input_string='the quick brown fox jumps over a lazy dog'\n",
    "for char in input_string:\n",
    "    if char in list_alpha:\n",
    "        list_alpha.remove(char)\n",
    "        \n",
    "if list_alpha==[]:\n",
    "    print('True')\n",
    "else:\n",
    "    print('False')"
   ]
  },
  {
   "cell_type": "code",
   "execution_count": 6,
   "metadata": {},
   "outputs": [
    {
     "name": "stdout",
     "output_type": "stream",
     "text": [
      "26\n",
      "the quick brown fox jumps over a lazy dog True\n",
      "24\n",
      "the quick blue fox jumps over a lazy dog False\n",
      "4\n",
      "happy False\n",
      "3\n",
      "ttrrww False\n",
      "5\n",
      "tomorrow False\n",
      "26\n",
      "aabbcdefghijklmnoooooooopppppppqrstuvvvvvwwwxyzzzz12323 True\n"
     ]
    }
   ],
   "source": [
    "string1 = 'the quick brown fox jumps over a lazy dog'\n",
    "string2 = 'the quick blue fox jumps over a lazy dog'\n",
    "string3 = 'happy'\n",
    "string4 = 'ttrrww'\n",
    "string5 = 'tomorrow'\n",
    "string6 = 'aabbcdefghijklmnoooooooopppppppqrstuvvvvvwwwxyzzzz12323'\n",
    "strings=[string1,string2,string3,string4,string5,string6]\n",
    "\n",
    "for i in strings:\n",
    "    count=0\n",
    "    for ascii_value in range(ord('a'),ord('z')+1):\n",
    "        char = chr(ascii_value)\n",
    "        if char in i:\n",
    "            count+=1\n",
    "    print(count)\n",
    "    if count==26:\n",
    "        print(i,True)\n",
    "    else:\n",
    "        print(i,False)"
   ]
  },
  {
   "cell_type": "code",
   "execution_count": 7,
   "metadata": {},
   "outputs": [
    {
     "name": "stdout",
     "output_type": "stream",
     "text": [
      "[0, 0, 0, 0, 0, 0, 0, 0, 0, 0, 0, 0, 0, 0, 0, 0, 0, 0, 0, 0, 0, 0, 0, 0, 0, 0]\n"
     ]
    }
   ],
   "source": [
    "attendance_register = [0]*26\n",
    "print(attendance_register)"
   ]
  },
  {
   "cell_type": "code",
   "execution_count": 8,
   "metadata": {},
   "outputs": [
    {
     "name": "stdout",
     "output_type": "stream",
     "text": [
      "[1, 0, 0, 0, 0, 0, 0, 0, 0, 0, 0, 0, 0, 0, 0, 0, 0, 0, 0, 0, 0, 0, 0, 0, 0, 0]\n"
     ]
    }
   ],
   "source": [
    "attendance_register[0] =1 # a is present\n",
    "print(attendance_register)"
   ]
  },
  {
   "cell_type": "code",
   "execution_count": 10,
   "metadata": {},
   "outputs": [
    {
     "name": "stdout",
     "output_type": "stream",
     "text": [
      "[1, 0, 0, 0, 0, 0, 0, 0, 0, 0, 0, 0, 0, 0, 0, 0, 0, 0, 0, 0, 0, 0, 0, 0, 0, 1]\n"
     ]
    }
   ],
   "source": [
    "attendance_register[25] =1 # z is present\n",
    "print(attendance_register)"
   ]
  },
  {
   "cell_type": "code",
   "execution_count": 20,
   "metadata": {
    "scrolled": true
   },
   "outputs": [
    {
     "name": "stdout",
     "output_type": "stream",
     "text": [
      "True\n",
      "False\n",
      "False\n",
      "False\n",
      "False\n",
      "True\n"
     ]
    }
   ],
   "source": [
    "string1 = 'the quick brown fox jumps over a lazy dog'\n",
    "string2 = 'the quick blue fox jumps over a lazy dog'\n",
    "string3 = 'happy'\n",
    "string4 = 'ttrrww'\n",
    "string5 = 'tomorrow'\n",
    "string6 = 'aabbcdefghijklmnoooooooopppppppqrstuvvvvvwwwxyzzzz12323'\n",
    "strings=[string1,string2,string3,string4,string5,string6]\n",
    "for string in strings:\n",
    "    attendance_register = [0]*26\n",
    "    for i in string:\n",
    "        index = ord(i)-97\n",
    "        if index>=0 and index<=25:\n",
    "            attendance_register[ord(i)-97] = 1\n",
    "    if sum(attendance_register) == 26:\n",
    "        print('True')\n",
    "    else:\n",
    "        print('False')"
   ]
  },
  {
   "cell_type": "code",
   "execution_count": null,
   "metadata": {},
   "outputs": [],
   "source": [
    "HOMEWORK: USE DICT TO SOLVE THIS QUESTION AND MARKING A ALPHABET AS ABSENT OR PRESENT.\n",
    "    Question: \n",
    "    string1 = 'the quick brown fox jumps over a lazy dog' True\n",
    "    string2 = 'the quick blue fox jumps over a lazy dog'  False\n",
    "    string3 = 'happy' False\n",
    "    string4 = 'ttrrww' False\n",
    "    string5 = 'tomorrow' False\n",
    "    string6 = 'aabbcdefghijklmnoooooooopppppppqrstuvvvvvwwwxyzzzz' True\n",
    "    \n",
    "Check if all the alphabets are present in the string.\n",
    "I want you guys to use ord,chr in the solution."
   ]
  },
  {
   "cell_type": "code",
   "execution_count": 12,
   "metadata": {},
   "outputs": [
    {
     "data": {
      "text/plain": [
       "97"
      ]
     },
     "execution_count": 12,
     "metadata": {},
     "output_type": "execute_result"
    }
   ],
   "source": [
    "ord('a')"
   ]
  },
  {
   "cell_type": "code",
   "execution_count": 11,
   "metadata": {},
   "outputs": [
    {
     "name": "stdout",
     "output_type": "stream",
     "text": [
      "0\n",
      "1\n",
      "2\n",
      "3\n",
      "4\n",
      "5\n",
      "6\n",
      "7\n",
      "8\n",
      "9\n",
      "10\n",
      "11\n",
      "12\n",
      "13\n",
      "14\n",
      "15\n",
      "16\n",
      "17\n",
      "18\n",
      "19\n",
      "20\n",
      "21\n",
      "22\n",
      "23\n",
      "24\n",
      "25\n"
     ]
    }
   ],
   "source": [
    "for i in range(97,123):\n",
    "    print(i-97)"
   ]
  },
  {
   "cell_type": "code",
   "execution_count": null,
   "metadata": {},
   "outputs": [],
   "source": []
  }
 ],
 "metadata": {
  "kernelspec": {
   "display_name": "Python 3",
   "language": "python",
   "name": "python3"
  },
  "language_info": {
   "codemirror_mode": {
    "name": "ipython",
    "version": 3
   },
   "file_extension": ".py",
   "mimetype": "text/x-python",
   "name": "python",
   "nbconvert_exporter": "python",
   "pygments_lexer": "ipython3",
   "version": "3.8.3"
  }
 },
 "nbformat": 4,
 "nbformat_minor": 4
}
