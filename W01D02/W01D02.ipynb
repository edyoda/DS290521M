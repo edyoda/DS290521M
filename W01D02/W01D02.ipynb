{
 "cells": [
  {
   "cell_type": "code",
   "execution_count": 2,
   "metadata": {},
   "outputs": [],
   "source": [
    "I want you guys to be ready with 2 things in this week:\n",
    "    1) Python installation\n",
    "    2) Jupyter Notebook Installation\n",
    "    \n",
    "How to Resolve Installation Problems:\n",
    "1) Try to redo all the steps that I did in the session.\n",
    "2) Try Googling your error and try to resolve it on your own.\n",
    "3) Comment on teams Post like Python,Jupyter or Both if you still have issues.\n",
    "\n",
    "ALTERNATIVES( ONLY 1ST WEEK )\n",
    "1) Try Jupyter Notebook online\n",
    "2) Google Colab"
   ]
  },
  {
   "cell_type": "code",
   "execution_count": 4,
   "metadata": {},
   "outputs": [
    {
     "name": "stdout",
     "output_type": "stream",
     "text": [
      "15\n"
     ]
    }
   ],
   "source": [
    "a = 5\n",
    "b = 10\n",
    "print(a+b)"
   ]
  },
  {
   "cell_type": "code",
   "execution_count": null,
   "metadata": {},
   "outputs": [],
   "source": [
    "In[3] what is this In?\n",
    "In[4]\n",
    "\n",
    "4 mentions the Order of time we are executing that Particular cell."
   ]
  },
  {
   "cell_type": "code",
   "execution_count": 3,
   "metadata": {},
   "outputs": [
    {
     "name": "stdout",
     "output_type": "stream",
     "text": [
      "Hello World\n"
     ]
    }
   ],
   "source": [
    "print('Hello World')"
   ]
  },
  {
   "cell_type": "code",
   "execution_count": 2,
   "metadata": {},
   "outputs": [
    {
     "name": "stdout",
     "output_type": "stream",
     "text": [
      "15\n"
     ]
    }
   ],
   "source": [
    "a = 5\n",
    "b = 10\n",
    "print(a+b)"
   ]
  },
  {
   "cell_type": "code",
   "execution_count": null,
   "metadata": {},
   "outputs": [],
   "source": [
    "What is a Cell: Rectangular Brackets for writing codes or texts(markdown)"
   ]
  },
  {
   "cell_type": "code",
   "execution_count": null,
   "metadata": {},
   "outputs": [],
   "source": [
    "How to run a cell? (Executing Python code present inside the cell)\n",
    "\n",
    "By pressing SHIFT+ENTER => IT AUTOMATICALLY ADDS ONE MORE CELL AFTER EXECUTING"
   ]
  },
  {
   "cell_type": "code",
   "execution_count": 4,
   "metadata": {},
   "outputs": [
    {
     "name": "stdout",
     "output_type": "stream",
     "text": [
      "Magic Happens in Python\n"
     ]
    }
   ],
   "source": [
    "print('Magic Happens in Python')"
   ]
  },
  {
   "cell_type": "code",
   "execution_count": null,
   "metadata": {},
   "outputs": [],
   "source": [
    "Outline Color of a Cell\n",
    "Green => Typing Mode (code or markdown)\n",
    "Blue => CMD Mode ( You can not type code or text...)\n",
    "\n",
    "How to get into a CMD mode?\n",
    "By pressing ESC\n",
    "\n",
    "CMD mode can be used to:\n",
    "1) Delete a cell by going into cmd mode and pressing dd (d twice)\n",
    "2) Converting the cell into markdown by going into cmd mode and pressing m.\n",
    "\n",
    "How to get back from cmd mode to type mode?\n",
    "By clicking on the cell.\n",
    "\n",
    "How to get back to code from markdown mode in a cell?\n",
    "We can do that by selecting code in the above toolbar where markdown is written."
   ]
  },
  {
   "cell_type": "markdown",
   "metadata": {},
   "source": [
    "## How to find a max no?\n",
    "#### It is mostly used to write Notes related to the code that we are writing.\n",
    "\n",
    "# HEADING\n",
    "## SUB HEADING\n",
    "### SUB SUB HEADING\n",
    "#### SUB SUB SUB HEADING\n",
    "\n",
    "We can insert links,text,images, bold text,italics , bullet points, and a \n",
    "lot more things\n",
    "\n",
    "Markdown cell does not contain the In[] thing"
   ]
  },
  {
   "cell_type": "code",
   "execution_count": 7,
   "metadata": {},
   "outputs": [
    {
     "name": "stdout",
     "output_type": "stream",
     "text": [
      "500\n"
     ]
    }
   ],
   "source": [
    "numbers = [1,2,50,-10,-90,500]\n",
    "max_no = max(numbers)\n",
    "print(max_no)"
   ]
  },
  {
   "cell_type": "code",
   "execution_count": null,
   "metadata": {},
   "outputs": [],
   "source": [
    "What is Data?\n",
    "\n",
    "Collection of Information\n",
    "For example:\n",
    "    My Phone No\n",
    "    Your Roll NO\n",
    "    Your name,city,etc\n",
    "    Your shopping list\n",
    "    Your mutual friends on facebook\n",
    "    Your followers on Instagram\n",
    "    Your image is a data\n",
    "    Your dp on whatsapp is a data\n",
    "    Session recording which will be generated after the session is a data\n",
    "    Whatever we upload on the github repo: https://github.com/edyoda/DS290521M\n",
    "    is a data."
   ]
  },
  {
   "cell_type": "code",
   "execution_count": null,
   "metadata": {},
   "outputs": [],
   "source": [
    "We need to Store data?\n",
    "\n",
    "We need data types for storing data in a Programming Language\n",
    "\n",
    "-> Data Types helps us store data efficiently\n",
    "-> Different Sorts of data need different sorts of data types for storing them\n",
    "efficiently.\n",
    "\n",
    "One data could be stored better in one data type, and other could be stored \n",
    "better in another one."
   ]
  },
  {
   "cell_type": "code",
   "execution_count": null,
   "metadata": {},
   "outputs": [],
   "source": [
    "Data Types in Python\n",
    "\n",
    "1) int => Integers (-100,-20,0,30,70)\n",
    "2) float => Decimal Numbers (-18.5,3.1457,0.05,9.5,6.77)\n",
    "\n",
    "Numbers(int and float)\n",
    "\n",
    "3) str (String) \"Python\",'Java',\"\"\"A string in triple quotes\"\"\""
   ]
  }
 ],
 "metadata": {
  "kernelspec": {
   "display_name": "Python 3",
   "language": "python",
   "name": "python3"
  },
  "language_info": {
   "codemirror_mode": {
    "name": "ipython",
    "version": 3
   },
   "file_extension": ".py",
   "mimetype": "text/x-python",
   "name": "python",
   "nbconvert_exporter": "python",
   "pygments_lexer": "ipython3",
   "version": "3.8.3"
  }
 },
 "nbformat": 4,
 "nbformat_minor": 4
}
