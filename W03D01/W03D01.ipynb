{
 "cells": [
  {
   "cell_type": "code",
   "execution_count": null,
   "metadata": {},
   "outputs": [],
   "source": [
    "Data Types:\n",
    "    Iterables:\n",
    "        list\n",
    "        dict\n",
    "        str\n",
    "        tuple\n",
    "        set\n",
    "        range() function\n",
    "        \n",
    "        \n",
    "    Non Iterables:\n",
    "        int\n",
    "        float\n",
    "        bool\n",
    "        None"
   ]
  },
  {
   "cell_type": "code",
   "execution_count": null,
   "metadata": {},
   "outputs": [],
   "source": [
    "Operators:\n",
    "    Arithmetic Operators\n",
    "    Logical Operators\n",
    "    membership Operators\n",
    "    Identity Operators\n",
    "    Assignment\n",
    "    Comparison Operator"
   ]
  },
  {
   "cell_type": "code",
   "execution_count": null,
   "metadata": {},
   "outputs": [],
   "source": [
    "if bool_equivalent:\n",
    "    print('This line will run if bool_equivalent is True')\n",
    "elif bool_equivalent_2:\n",
    "    print('This line will run if the bool_equivalent is False and bool_euivalent_2 is True')\n",
    "else:\n",
    "    print('if of the above are false than this will run')"
   ]
  },
  {
   "cell_type": "code",
   "execution_count": 1,
   "metadata": {},
   "outputs": [
    {
     "name": "stdout",
     "output_type": "stream",
     "text": [
      "apple\n",
      "mango\n",
      "kiwi\n",
      "banana\n"
     ]
    }
   ],
   "source": [
    "list_of_fruits = ['apple','mango','kiwi','banana']\n",
    "\n",
    "for fruit in list_of_fruits:\n",
    "    print(fruit)"
   ]
  },
  {
   "cell_type": "code",
   "execution_count": 2,
   "metadata": {},
   "outputs": [
    {
     "name": "stdout",
     "output_type": "stream",
     "text": [
      "0\n",
      "1\n",
      "2\n",
      "3\n"
     ]
    }
   ],
   "source": [
    "for i in range(0,4):\n",
    "    print(i)"
   ]
  },
  {
   "cell_type": "code",
   "execution_count": 6,
   "metadata": {},
   "outputs": [
    {
     "name": "stdout",
     "output_type": "stream",
     "text": [
      "0\n",
      "2\n",
      "4\n",
      "6\n",
      "8\n"
     ]
    }
   ],
   "source": [
    "for i in range(0,8+1,2):\n",
    "    print(i)"
   ]
  },
  {
   "cell_type": "code",
   "execution_count": 5,
   "metadata": {},
   "outputs": [
    {
     "name": "stdout",
     "output_type": "stream",
     "text": [
      "apple\n",
      "mango\n",
      "kiwi\n",
      "banana\n"
     ]
    }
   ],
   "source": [
    "list_of_fruits = ['apple','mango','kiwi','banana']\n",
    "\n",
    "for i in range(len(list_of_fruits)):\n",
    "    print(list_of_fruits[i])"
   ]
  },
  {
   "cell_type": "code",
   "execution_count": 17,
   "metadata": {},
   "outputs": [
    {
     "name": "stdout",
     "output_type": "stream",
     "text": [
      "True [1, 1, 1, 1, 1, 1, 1, 1, 1, 1, 1, 1, 1, 1, 1, 1, 1, 1, 1, 1, 1, 1, 1, 1, 1, 1]\n",
      "False [1, 1, 1, 1, 1, 1, 1, 1, 1, 1, 1, 1, 1, 0, 1, 1, 1, 1, 1, 1, 1, 1, 0, 1, 1, 1]\n",
      "False [1, 0, 0, 0, 0, 0, 0, 1, 0, 0, 0, 0, 0, 0, 0, 1, 0, 0, 0, 0, 0, 0, 0, 0, 1, 0]\n",
      "False [0, 0, 0, 0, 0, 0, 0, 0, 0, 0, 0, 0, 0, 0, 0, 0, 0, 1, 0, 1, 0, 0, 1, 0, 0, 0]\n",
      "False [0, 0, 0, 0, 0, 0, 0, 0, 0, 0, 0, 0, 1, 0, 1, 0, 0, 1, 0, 1, 0, 0, 1, 0, 0, 0]\n",
      "True [1, 1, 1, 1, 1, 1, 1, 1, 1, 1, 1, 1, 1, 1, 1, 1, 1, 1, 1, 1, 1, 1, 1, 1, 1, 1]\n"
     ]
    }
   ],
   "source": [
    "string1 = 'the quick brown fox jumps over a lazy dog'\n",
    "string2 = 'the quick blue fox jumps over a lazy dog'\n",
    "string3 = 'happy'\n",
    "string4 = 'ttrrww'\n",
    "string5 = 'tomorrow'\n",
    "string6 = 'aabbcdefghijklmnoooooooopppppppqrstuvvvvvwwwxyzzzz12323'\n",
    "strings=[string1,string2,string3,string4,string5,string6]\n",
    "for string in strings:\n",
    "    attendance_register = [0]*26\n",
    "    for i in string:\n",
    "        index = ord(i)-97\n",
    "        if index>=0 and index<=25:\n",
    "            attendance_register[ord(i)-97] = 1\n",
    "    if sum(attendance_register) == 26:\n",
    "        print('True',attendance_register)\n",
    "    else:\n",
    "        print('False',attendance_register)"
   ]
  },
  {
   "cell_type": "code",
   "execution_count": 15,
   "metadata": {},
   "outputs": [
    {
     "data": {
      "text/plain": [
       "-32"
      ]
     },
     "execution_count": 15,
     "metadata": {},
     "output_type": "execute_result"
    }
   ],
   "source": [
    "ord('A') - 97"
   ]
  },
  {
   "cell_type": "code",
   "execution_count": 9,
   "metadata": {},
   "outputs": [
    {
     "data": {
      "text/plain": [
       "[0, 0, 0, 0, 0, 0, 0, 0, 0, 0, 0, 0, 0, 0, 0, 0, 0, 0, 0, 0, 0, 0, 0, 0, 0, 0]"
      ]
     },
     "execution_count": 9,
     "metadata": {},
     "output_type": "execute_result"
    }
   ],
   "source": [
    "[0]*26"
   ]
  },
  {
   "cell_type": "code",
   "execution_count": 7,
   "metadata": {},
   "outputs": [
    {
     "data": {
      "text/plain": [
       "4"
      ]
     },
     "execution_count": 7,
     "metadata": {},
     "output_type": "execute_result"
    }
   ],
   "source": [
    "100//25"
   ]
  },
  {
   "cell_type": "code",
   "execution_count": 8,
   "metadata": {},
   "outputs": [
    {
     "data": {
      "text/plain": [
       "4.0"
      ]
     },
     "execution_count": 8,
     "metadata": {},
     "output_type": "execute_result"
    }
   ],
   "source": [
    "100/25"
   ]
  },
  {
   "cell_type": "code",
   "execution_count": 13,
   "metadata": {},
   "outputs": [
    {
     "name": "stdout",
     "output_type": "stream",
     "text": [
      "a 0 97\n",
      "b 1 98\n",
      "c 2 99\n",
      "d 3 100\n",
      "e 4 101\n",
      "f 5 102\n",
      "g 6 103\n",
      "h 7 104\n",
      "i 8 105\n",
      "j 9 106\n",
      "k 10 107\n",
      "l 11 108\n",
      "m 12 109\n",
      "n 13 110\n",
      "o 14 111\n",
      "p 15 112\n",
      "q 16 113\n",
      "r 17 114\n",
      "s 18 115\n",
      "t 19 116\n",
      "u 20 117\n",
      "v 21 118\n",
      "w 22 119\n",
      "x 23 120\n",
      "y 24 121\n",
      "z 25 122\n"
     ]
    }
   ],
   "source": [
    "for i in range(ord('a'),ord('z')+1):\n",
    "    print(chr(i),i-97,i)"
   ]
  },
  {
   "cell_type": "code",
   "execution_count": 23,
   "metadata": {},
   "outputs": [
    {
     "name": "stdout",
     "output_type": "stream",
     "text": [
      "True\n"
     ]
    }
   ],
   "source": [
    "# string1='abccccdefghijklmnopqrstuvwxyz'\n",
    "string1 = 'the quick brown fox jumps over a lazy dog'\n",
    "# string1='anamikA'\n",
    "dict1={}\n",
    "for i in range(ord('a'),ord('z')+1):\n",
    "    dict1[chr(i)]=0\n",
    "for ch in string1:\n",
    "    index=ord(ch)-97\n",
    "    if index>=0 and index<=25:\n",
    "        dict1[ch]=1\n",
    "if sum(dict1.values())==26:\n",
    "    print('True')\n",
    "else:\n",
    "    print('False')"
   ]
  },
  {
   "cell_type": "markdown",
   "metadata": {},
   "source": [
    "## NESTED FOR LOOPS"
   ]
  },
  {
   "cell_type": "code",
   "execution_count": 30,
   "metadata": {
    "scrolled": true
   },
   "outputs": [
    {
     "name": "stdout",
     "output_type": "stream",
     "text": [
      "pineapple 4\n",
      "apple 2\n",
      "mango 2\n"
     ]
    }
   ],
   "source": [
    "fruits = ['pineapple','apple','mango']\n",
    "\n",
    "vowels = 'aeiou'\n",
    "\n",
    "for fruit in fruits:\n",
    "    count = 0\n",
    "    for char in fruit:\n",
    "        if char in vowels:\n",
    "            count += 1\n",
    "    print(fruit,count)"
   ]
  },
  {
   "cell_type": "code",
   "execution_count": null,
   "metadata": {},
   "outputs": [],
   "source": [
    "Question:\n",
    "    Write multiplication table of 2,3,5 one by one using nested for loop."
   ]
  },
  {
   "cell_type": "code",
   "execution_count": 36,
   "metadata": {},
   "outputs": [
    {
     "name": "stdout",
     "output_type": "stream",
     "text": [
      "2\n",
      "4\n",
      "6\n",
      "8\n",
      "10\n",
      "12\n",
      "14\n",
      "16\n",
      "18\n",
      "20\n",
      "\n",
      "\n",
      "3\n",
      "6\n",
      "9\n",
      "12\n",
      "15\n",
      "18\n",
      "21\n",
      "24\n",
      "27\n",
      "30\n",
      "\n",
      "\n",
      "5\n",
      "10\n",
      "15\n",
      "20\n",
      "25\n",
      "30\n",
      "35\n",
      "40\n",
      "45\n",
      "50\n",
      "\n",
      "\n"
     ]
    }
   ],
   "source": [
    "list_of_numbers = [2,3,5]\n",
    "for no in list_of_numbers:\n",
    "    for i in range(1,11):\n",
    "        print(no*i)\n",
    "    print('\\n')"
   ]
  },
  {
   "cell_type": "code",
   "execution_count": 37,
   "metadata": {},
   "outputs": [
    {
     "name": "stdout",
     "output_type": "stream",
     "text": [
      "Table of 2\n",
      "2 * 1 = 2\n",
      "2 * 2 = 4\n",
      "2 * 3 = 6\n",
      "2 * 4 = 8\n",
      "2 * 5 = 10\n",
      "2 * 6 = 12\n",
      "2 * 7 = 14\n",
      "2 * 8 = 16\n",
      "2 * 9 = 18\n",
      "2 * 10 = 20\n",
      "\n",
      "\n",
      "Table of 3\n",
      "3 * 1 = 3\n",
      "3 * 2 = 6\n",
      "3 * 3 = 9\n",
      "3 * 4 = 12\n",
      "3 * 5 = 15\n",
      "3 * 6 = 18\n",
      "3 * 7 = 21\n",
      "3 * 8 = 24\n",
      "3 * 9 = 27\n",
      "3 * 10 = 30\n",
      "\n",
      "\n",
      "Table of 5\n",
      "5 * 1 = 5\n",
      "5 * 2 = 10\n",
      "5 * 3 = 15\n",
      "5 * 4 = 20\n",
      "5 * 5 = 25\n",
      "5 * 6 = 30\n",
      "5 * 7 = 35\n",
      "5 * 8 = 40\n",
      "5 * 9 = 45\n",
      "5 * 10 = 50\n",
      "\n",
      "\n"
     ]
    }
   ],
   "source": [
    "for no in [2,3,5]:\n",
    "    print('Table of {}'.format(no))\n",
    "    for i in range(1,11):\n",
    "        print('{} * {} = {}'.format(no,i,no*i))\n",
    "    print('\\n')"
   ]
  },
  {
   "cell_type": "code",
   "execution_count": 38,
   "metadata": {},
   "outputs": [
    {
     "name": "stdout",
     "output_type": "stream",
     "text": [
      "1\n",
      "2\n"
     ]
    }
   ],
   "source": [
    "a = 1\n",
    "while a<3:\n",
    "    print(a)\n",
    "    a = a + 1"
   ]
  },
  {
   "cell_type": "code",
   "execution_count": null,
   "metadata": {},
   "outputs": [],
   "source": [
    "syntax of while loop\n",
    "\n",
    "while bool_equivalent:\n",
    "    code block\n",
    "the code block will run again and again untill bool_equivalent becomes False."
   ]
  },
  {
   "cell_type": "code",
   "execution_count": 40,
   "metadata": {},
   "outputs": [],
   "source": [
    "while True:\n",
    "    print('happy coding')\n",
    "# it will run an infinite loop, this kind of loop does not stop on it's own."
   ]
  },
  {
   "cell_type": "code",
   "execution_count": 44,
   "metadata": {},
   "outputs": [
    {
     "name": "stdout",
     "output_type": "stream",
     "text": [
      "1\n",
      "2\n",
      "3\n",
      "4\n"
     ]
    }
   ],
   "source": [
    "numbers = [1,2,3,4,5]\n",
    "index = 0\n",
    "a = numbers[index]\n",
    "\n",
    "while a<5:\n",
    "    print(a)\n",
    "    index += 1\n",
    "    a = numbers[index]"
   ]
  },
  {
   "cell_type": "code",
   "execution_count": 45,
   "metadata": {},
   "outputs": [
    {
     "name": "stdout",
     "output_type": "stream",
     "text": [
      "trying to reconnect.....\n",
      "trying to reconnect.....\n",
      "trying to reconnect.....\n",
      "trying to reconnect.....\n",
      "trying to reconnect.....\n",
      "trying to reconnect.....\n",
      "trying to reconnect.....\n",
      "trying to reconnect.....\n",
      "trying to reconnect.....\n",
      "trying to reconnect.....\n",
      "trying to reconnect.....\n",
      "trying to reconnect.....\n",
      "trying to reconnect.....\n",
      "trying to reconnect.....\n",
      "trying to reconnect.....\n",
      "trying to reconnect.....\n",
      "trying to reconnect.....\n",
      "trying to reconnect.....\n",
      "trying to reconnect.....\n",
      "trying to reconnect.....\n",
      "trying to reconnect.....\n",
      "trying to reconnect.....\n",
      "trying to reconnect.....\n",
      "trying to reconnect.....\n",
      "trying to reconnect.....\n",
      "trying to reconnect.....\n",
      "trying to reconnect.....\n",
      "trying to reconnect.....\n",
      "trying to reconnect.....\n",
      "trying to reconnect.....\n",
      "trying to reconnect.....\n",
      "trying to reconnect.....\n",
      "trying to reconnect.....\n",
      "trying to reconnect.....\n",
      "trying to reconnect.....\n",
      "trying to reconnect.....\n",
      "trying to reconnect.....\n",
      "trying to reconnect.....\n",
      "trying to reconnect.....\n",
      "trying to reconnect.....\n",
      "trying to reconnect.....\n",
      "trying to reconnect.....\n",
      "trying to reconnect.....\n",
      "trying to reconnect.....\n",
      "trying to reconnect.....\n",
      "trying to reconnect.....\n",
      "trying to reconnect.....\n",
      "trying to reconnect.....\n",
      "trying to reconnect.....\n",
      "trying to reconnect.....\n"
     ]
    }
   ],
   "source": [
    "internet_is_not_working = True\n",
    "count = 0\n",
    "\n",
    "while internet_is_not_working:\n",
    "    print('trying to reconnect.....')\n",
    "    count += 1\n",
    "    if count == 50:\n",
    "        internet_is_not_working = False"
   ]
  },
  {
   "cell_type": "code",
   "execution_count": 46,
   "metadata": {},
   "outputs": [
    {
     "name": "stdout",
     "output_type": "stream",
     "text": [
      "covid-\n",
      "covid-\n",
      "covid-\n"
     ]
    }
   ],
   "source": [
    "list_of_covid_reports = ['covid-','covid-','covid-','covid+','covid-','covid-']\n",
    "index = 0\n",
    "person = list_of_covid_reports[index]\n",
    "\n",
    "while person!= 'covid+':\n",
    "    print(person)\n",
    "    index += 1\n",
    "    person = list_of_covid_reports[index]"
   ]
  },
  {
   "cell_type": "markdown",
   "metadata": {},
   "source": [
    "# pass"
   ]
  },
  {
   "cell_type": "code",
   "execution_count": null,
   "metadata": {},
   "outputs": [],
   "source": [
    "pass is a keyword which is used as an placeholder for future code.\n",
    "\n",
    "Empty code is not allowed at certain places, so we have to keep pass there to not get an error\n",
    "and also signify that we have to complete this part later on."
   ]
  },
  {
   "cell_type": "code",
   "execution_count": 47,
   "metadata": {},
   "outputs": [
    {
     "name": "stdout",
     "output_type": "stream",
     "text": [
      "24\n",
      "4\n",
      "5\n"
     ]
    }
   ],
   "source": [
    "list1 = [24,4,5,-89,-100,0]\n",
    "\n",
    "for i in list1:\n",
    "    if i>0:\n",
    "        print(i)\n",
    "    else:\n",
    "        pass"
   ]
  },
  {
   "cell_type": "markdown",
   "metadata": {},
   "source": [
    "# break"
   ]
  },
  {
   "cell_type": "code",
   "execution_count": 48,
   "metadata": {},
   "outputs": [
    {
     "name": "stdout",
     "output_type": "stream",
     "text": [
      "trying to reconnect with setting no 1\n",
      "trying to reconnect with setting no 3\n",
      "trying to reconnect with setting no 5\n",
      "trying to reconnect with setting no 7\n",
      "trying to reconnect with setting no 8\n"
     ]
    }
   ],
   "source": [
    "internet_is_not_working = True\n",
    "list_of_settings = [1,3,5,7,8,9,10]\n",
    "\n",
    "for setting in list_of_settings:\n",
    "    print('trying to reconnect with setting no',setting)\n",
    "    if setting%2 == 0:\n",
    "        break\n",
    "        \n",
    "# NOTE: break terminates the loop with force in which it is present."
   ]
  },
  {
   "cell_type": "code",
   "execution_count": 54,
   "metadata": {},
   "outputs": [
    {
     "name": "stdout",
     "output_type": "stream",
     "text": [
      "covid-\n",
      "covid-\n",
      "covid-\n",
      "covid+\n"
     ]
    }
   ],
   "source": [
    "list_of_covid_reports = ['covid-','covid-','covid-','covid+','covid-','covid-']\n",
    "\n",
    "for person in list_of_covid_reports:\n",
    "    print(person)\n",
    "    if person == 'covid+':\n",
    "        break"
   ]
  },
  {
   "cell_type": "code",
   "execution_count": 53,
   "metadata": {},
   "outputs": [
    {
     "name": "stdout",
     "output_type": "stream",
     "text": [
      "happy coding\n",
      "happy coding\n",
      "happy coding\n",
      "happy coding\n"
     ]
    }
   ],
   "source": [
    "a = 0\n",
    "\n",
    "while True:\n",
    "    a += 1\n",
    "    print('happy coding')\n",
    "    if a == 4:\n",
    "        break"
   ]
  },
  {
   "cell_type": "markdown",
   "metadata": {},
   "source": [
    "# continue"
   ]
  },
  {
   "cell_type": "code",
   "execution_count": 55,
   "metadata": {},
   "outputs": [
    {
     "name": "stdout",
     "output_type": "stream",
     "text": [
      "covid-\n",
      "covid-\n",
      "covid-\n",
      "covid-\n",
      "covid-\n"
     ]
    }
   ],
   "source": [
    "list_of_covid_reports = ['covid-','covid-','covid-','covid+','covid-','covid-']\n",
    "\n",
    "for person in list_of_covid_reports:\n",
    "    if person == 'covid+':\n",
    "        continue\n",
    "    print(person)"
   ]
  },
  {
   "cell_type": "code",
   "execution_count": 57,
   "metadata": {},
   "outputs": [
    {
     "name": "stdout",
     "output_type": "stream",
     "text": [
      "inside with setting 1\n",
      "trying to reconnect with setting no 1\n",
      "inside with setting 3\n",
      "trying to reconnect with setting no 3\n",
      "inside with setting 5\n",
      "trying to reconnect with setting no 5\n",
      "inside with setting 7\n",
      "trying to reconnect with setting no 7\n",
      "inside with setting 8\n",
      "inside with setting 9\n",
      "trying to reconnect with setting no 9\n",
      "inside with setting 10\n"
     ]
    }
   ],
   "source": [
    "internet_is_not_working = True\n",
    "list_of_settings = [1,3,5,7,8,9,10]\n",
    "\n",
    "for setting in list_of_settings:\n",
    "    print('inside with setting',setting)\n",
    "    if setting%2 == 0:\n",
    "        continue\n",
    "    print('trying to reconnect with setting no',setting)"
   ]
  },
  {
   "cell_type": "code",
   "execution_count": null,
   "metadata": {},
   "outputs": [],
   "source": [
    "NOTE: continue basically means skip rest of the lines which are present."
   ]
  },
  {
   "cell_type": "code",
   "execution_count": null,
   "metadata": {},
   "outputs": [],
   "source": [
    "Question:\n",
    "    Find a element if it is present in the list, if not present print not found.\n",
    "    \n",
    "xlist = [10,20,30,40,50]\n",
    "element = 60\n",
    "ans = Not found\n",
    "\n",
    "element = 40\n",
    "ans = found\n",
    "\n",
    "NOTE: USE BREAK IN THE SOLUTION."
   ]
  },
  {
   "cell_type": "code",
   "execution_count": 61,
   "metadata": {},
   "outputs": [
    {
     "name": "stdout",
     "output_type": "stream",
     "text": [
      "not found\n"
     ]
    }
   ],
   "source": [
    "xlist = [10,20,30,40,50]\n",
    "element = 60\n",
    "\n",
    "did_we_found_the_element = False\n",
    "\n",
    "for item in xlist:\n",
    "    if item == element:\n",
    "        print('found')\n",
    "        did_we_found_the_element = True\n",
    "        break\n",
    "        \n",
    "if did_we_found_the_element == False:\n",
    "    print('not found')"
   ]
  },
  {
   "cell_type": "markdown",
   "metadata": {},
   "source": [
    "## for-else loop"
   ]
  },
  {
   "cell_type": "code",
   "execution_count": null,
   "metadata": {},
   "outputs": [],
   "source": [
    "else part contains the code which runs when the for loop terminates without any break condition."
   ]
  },
  {
   "cell_type": "code",
   "execution_count": 63,
   "metadata": {},
   "outputs": [
    {
     "name": "stdout",
     "output_type": "stream",
     "text": [
      "found\n"
     ]
    }
   ],
   "source": [
    "xlist = [10,20,30,40,50]\n",
    "element = 40\n",
    "\n",
    "for item in xlist:\n",
    "    if item == element:\n",
    "        print('found')\n",
    "        break\n",
    "else:\n",
    "    print('not found')"
   ]
  },
  {
   "cell_type": "code",
   "execution_count": 70,
   "metadata": {},
   "outputs": [
    {
     "name": "stdout",
     "output_type": "stream",
     "text": [
      "found\n",
      "not found\n"
     ]
    }
   ],
   "source": [
    "## What will happen if we don't keep break\n",
    "xlist = [10,20,30,40,50]\n",
    "element = 40\n",
    "\n",
    "for item in xlist:\n",
    "    if item == element:\n",
    "        print('found')\n",
    "else:\n",
    "    print('not found')"
   ]
  },
  {
   "cell_type": "code",
   "execution_count": null,
   "metadata": {},
   "outputs": [],
   "source": [
    "NOTE: break terminates the current loop only it does not terminate the outer loop,\n",
    "      ->break only loop not any if condition etc."
   ]
  },
  {
   "cell_type": "code",
   "execution_count": 67,
   "metadata": {},
   "outputs": [
    {
     "name": "stdout",
     "output_type": "stream",
     "text": [
      "\n",
      "\n",
      "3\n",
      "6\n",
      "9\n",
      "12\n",
      "15\n",
      "18\n",
      "21\n",
      "24\n",
      "27\n",
      "30\n",
      "\n",
      "\n",
      "5\n",
      "10\n",
      "15\n",
      "20\n",
      "25\n",
      "30\n",
      "35\n",
      "40\n",
      "45\n",
      "50\n",
      "\n",
      "\n"
     ]
    }
   ],
   "source": [
    "list_of_numbers = [2,3,5]\n",
    "for no in list_of_numbers:\n",
    "    for i in range(1,11):\n",
    "        if no == 2:\n",
    "            break\n",
    "        print(no*i)\n",
    "    print('\\n')"
   ]
  },
  {
   "cell_type": "code",
   "execution_count": null,
   "metadata": {},
   "outputs": [],
   "source": []
  }
 ],
 "metadata": {
  "kernelspec": {
   "display_name": "Python 3",
   "language": "python",
   "name": "python3"
  },
  "language_info": {
   "codemirror_mode": {
    "name": "ipython",
    "version": 3
   },
   "file_extension": ".py",
   "mimetype": "text/x-python",
   "name": "python",
   "nbconvert_exporter": "python",
   "pygments_lexer": "ipython3",
   "version": "3.8.3"
  }
 },
 "nbformat": 4,
 "nbformat_minor": 4
}
