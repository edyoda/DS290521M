{
 "cells": [
  {
   "cell_type": "code",
   "execution_count": null,
   "metadata": {},
   "outputs": [],
   "source": [
    "Revision\n",
    "Strings:\n",
    "    - Immutable.\n",
    "    - Contains collection of characters.\n",
    "    - Indexing and slicing\n",
    "    \n",
    "    Builtin functions of strings:-\n",
    "    format()\n",
    "    split and join\n",
    "    isalpha()\n",
    "    isalnum()\n",
    "    lstrip()\n",
    "    rstip()\n",
    "    strip()\n",
    "    find()\n",
    "    rfind()\n",
    "    replace()\n",
    "    count()\n",
    "    center()\n",
    "    index()\n",
    "    lower()\n",
    "    upper()\n",
    "    islower()\n",
    "    isupper()\n",
    "    title()\n",
    "    istitle()\n",
    "    capitalize()"
   ]
  },
  {
   "cell_type": "code",
   "execution_count": 1,
   "metadata": {},
   "outputs": [
    {
     "data": {
      "text/plain": [
       "'apple is No 1 fruit in the world'"
      ]
     },
     "execution_count": 1,
     "metadata": {},
     "output_type": "execute_result"
    }
   ],
   "source": [
    "'apple is No {0} fruit in the world'.format(1)"
   ]
  },
  {
   "cell_type": "code",
   "execution_count": 2,
   "metadata": {},
   "outputs": [
    {
     "data": {
      "text/plain": [
       "'apple is No 1 fruit in the world'"
      ]
     },
     "execution_count": 2,
     "metadata": {},
     "output_type": "execute_result"
    }
   ],
   "source": [
    "'apple is No {number} fruit in the world'.format(number=1)"
   ]
  },
  {
   "cell_type": "code",
   "execution_count": 3,
   "metadata": {},
   "outputs": [
    {
     "data": {
      "text/plain": [
       "['apple', 'is', 'No', '1', 'fruit', 'in', 'the', 'world']"
      ]
     },
     "execution_count": 3,
     "metadata": {},
     "output_type": "execute_result"
    }
   ],
   "source": [
    "'apple is No 1 fruit in the world'.split()"
   ]
  },
  {
   "cell_type": "code",
   "execution_count": 5,
   "metadata": {},
   "outputs": [
    {
     "data": {
      "text/plain": [
       "'apple is No 1 fruit in the world'"
      ]
     },
     "execution_count": 5,
     "metadata": {},
     "output_type": "execute_result"
    }
   ],
   "source": [
    "(' ').join(['apple', 'is', 'No', '1', 'fruit', 'in', 'the', 'world'])"
   ]
  },
  {
   "cell_type": "code",
   "execution_count": null,
   "metadata": {},
   "outputs": [],
   "source": [
    "Lists:\n",
    "    -Indexing and Slicing\n",
    "    -Mutable\n",
    "    -collection of any kind of data type (heterogenous)\n",
    "    \n",
    "    Builtins:\n",
    "        append()? adds at the end of the list.\n",
    "        del? deletes the reference as well the object\n",
    "        extend(): adds all the elements of one list into another \n",
    "        insert(): inserts an element at a certain index position\n",
    "        count(): counts the occurence of an element.\n",
    "        index(): tell the index position of an element.\n",
    "        sort()\n",
    "        sorted()\n",
    "        remove()\n",
    "        clear()\n",
    "        pop()\n",
    "        reverse()\n",
    "            \n",
    "            \n",
    "Tuples are similar just don't follow Editable Operations like append,extend,insert,del,remove"
   ]
  },
  {
   "cell_type": "code",
   "execution_count": 6,
   "metadata": {},
   "outputs": [
    {
     "name": "stdout",
     "output_type": "stream",
     "text": [
      "['apple', 'banana', 'mango']\n"
     ]
    }
   ],
   "source": [
    "a = ['apple','mango']\n",
    "\n",
    "a.insert(1,'banana')\n",
    "print(a)"
   ]
  },
  {
   "cell_type": "markdown",
   "metadata": {},
   "source": [
    "## DICT"
   ]
  },
  {
   "cell_type": "code",
   "execution_count": null,
   "metadata": {},
   "outputs": [],
   "source": [
    "-> Mutable\n",
    "-> Unordered: do not support indexing and slicing.\n",
    "    (From Python 3.5+ onwards dict are insertion ordered.)\n",
    "-> key:value pair\n",
    "-> {key1:value1,key2:value2}\n",
    "-> 2 most important things about keys:\n",
    "    1) Immutable\n",
    "    2) Unique"
   ]
  },
  {
   "cell_type": "code",
   "execution_count": 7,
   "metadata": {},
   "outputs": [
    {
     "name": "stdout",
     "output_type": "stream",
     "text": [
      "{'Python': 3}\n"
     ]
    }
   ],
   "source": [
    "## How to insert a key value pair in a dict?\n",
    "\n",
    "test_dict = {}\n",
    "\n",
    "test_dict['Python'] = 3\n",
    "\n",
    "print(test_dict)"
   ]
  },
  {
   "cell_type": "code",
   "execution_count": 8,
   "metadata": {},
   "outputs": [
    {
     "name": "stdout",
     "output_type": "stream",
     "text": [
      "{'Python': [1, 2, 3]}\n"
     ]
    }
   ],
   "source": [
    "\n",
    "test_dict = {}\n",
    "\n",
    "test_dict['Python'] = [1,2,3]\n",
    "\n",
    "print(test_dict)"
   ]
  },
  {
   "cell_type": "code",
   "execution_count": 9,
   "metadata": {},
   "outputs": [
    {
     "name": "stdout",
     "output_type": "stream",
     "text": [
      "{'Are We Studying Python': True}\n"
     ]
    }
   ],
   "source": [
    "\n",
    "test_dict = {}\n",
    "\n",
    "test_dict['Are We Studying Python'] = True\n",
    "\n",
    "print(test_dict)"
   ]
  },
  {
   "cell_type": "code",
   "execution_count": 10,
   "metadata": {},
   "outputs": [
    {
     "ename": "TypeError",
     "evalue": "unhashable type: 'list'",
     "output_type": "error",
     "traceback": [
      "\u001b[1;31m---------------------------------------------------------------------------\u001b[0m",
      "\u001b[1;31mTypeError\u001b[0m                                 Traceback (most recent call last)",
      "\u001b[1;32m<ipython-input-10-5e52665cd8fd>\u001b[0m in \u001b[0;36m<module>\u001b[1;34m\u001b[0m\n\u001b[0;32m      1\u001b[0m \u001b[0mtest_dict\u001b[0m \u001b[1;33m=\u001b[0m \u001b[1;33m{\u001b[0m\u001b[1;33m}\u001b[0m\u001b[1;33m\u001b[0m\u001b[1;33m\u001b[0m\u001b[0m\n\u001b[0;32m      2\u001b[0m \u001b[1;33m\u001b[0m\u001b[0m\n\u001b[1;32m----> 3\u001b[1;33m \u001b[0mtest_dict\u001b[0m\u001b[1;33m[\u001b[0m\u001b[1;33m[\u001b[0m\u001b[1;36m1\u001b[0m\u001b[1;33m,\u001b[0m\u001b[1;36m2\u001b[0m\u001b[1;33m,\u001b[0m\u001b[1;36m3\u001b[0m\u001b[1;33m]\u001b[0m\u001b[1;33m]\u001b[0m \u001b[1;33m=\u001b[0m \u001b[1;32mTrue\u001b[0m\u001b[1;33m\u001b[0m\u001b[1;33m\u001b[0m\u001b[0m\n\u001b[0m\u001b[0;32m      4\u001b[0m \u001b[1;33m\u001b[0m\u001b[0m\n\u001b[0;32m      5\u001b[0m \u001b[0mprint\u001b[0m\u001b[1;33m(\u001b[0m\u001b[0mtest_dict\u001b[0m\u001b[1;33m)\u001b[0m\u001b[1;33m\u001b[0m\u001b[1;33m\u001b[0m\u001b[0m\n",
      "\u001b[1;31mTypeError\u001b[0m: unhashable type: 'list'"
     ]
    }
   ],
   "source": [
    "test_dict = {}\n",
    "\n",
    "test_dict[[1,2,3]] = True\n",
    "\n",
    "print(test_dict)"
   ]
  },
  {
   "cell_type": "code",
   "execution_count": null,
   "metadata": {},
   "outputs": [],
   "source": [
    "keys can be:\n",
    "    int\n",
    "    float\n",
    "    Boolean\n",
    "    tuple\n",
    "    String\n",
    "    None\n",
    "    \n",
    "keys can not be:\n",
    "    list\n",
    "    dict\n",
    "    set"
   ]
  },
  {
   "cell_type": "code",
   "execution_count": 11,
   "metadata": {},
   "outputs": [
    {
     "name": "stdout",
     "output_type": "stream",
     "text": [
      "{None: True}\n"
     ]
    }
   ],
   "source": [
    "test_dict = {}\n",
    "\n",
    "test_dict[None] = True\n",
    "\n",
    "print(test_dict)"
   ]
  },
  {
   "cell_type": "markdown",
   "metadata": {},
   "source": [
    "## Q1) Store Alphabets as \"keys\" and their ASCII values as \"values\" to those keys.\n",
    "\n",
    "### Intuition: Use \"ord\" and \"chr\"\n",
    "\n",
    "### Pseudocode:\n",
    "    1.) Loop from a to z.\n",
    "    2.) store them as keys and find their ascii to store them as values."
   ]
  },
  {
   "cell_type": "code",
   "execution_count": 12,
   "metadata": {},
   "outputs": [
    {
     "name": "stdout",
     "output_type": "stream",
     "text": [
      "{'a': 97, 'b': 98, 'c': 99, 'd': 100, 'e': 101, 'f': 102, 'g': 103, 'h': 104, 'i': 105, 'j': 106, 'k': 107, 'l': 108, 'm': 109, 'n': 110, 'o': 111, 'p': 112, 'q': 113, 'r': 114, 's': 115, 't': 116, 'u': 117, 'v': 118, 'w': 119, 'x': 120, 'y': 121, 'z': 122}\n"
     ]
    }
   ],
   "source": [
    "alpha_dict = {}\n",
    "for ascii_value in range(ord('a'),ord('z')+1):\n",
    "    alpha_dict[chr(ascii_value)] = ascii_value\n",
    "    \n",
    "print(alpha_dict)"
   ]
  },
  {
   "cell_type": "markdown",
   "metadata": {},
   "source": [
    "## get"
   ]
  },
  {
   "cell_type": "code",
   "execution_count": 14,
   "metadata": {},
   "outputs": [
    {
     "name": "stdout",
     "output_type": "stream",
     "text": [
      "3\n"
     ]
    }
   ],
   "source": [
    "d = {'python':3,'java':8,'django':2,'roll_noList':[1,2,3,4]}\n",
    "\n",
    "print(d.get('python'))"
   ]
  },
  {
   "cell_type": "code",
   "execution_count": 19,
   "metadata": {},
   "outputs": [
    {
     "name": "stdout",
     "output_type": "stream",
     "text": [
      "2\n"
     ]
    }
   ],
   "source": [
    "print(d.get('django'))"
   ]
  },
  {
   "cell_type": "code",
   "execution_count": 20,
   "metadata": {},
   "outputs": [
    {
     "name": "stdout",
     "output_type": "stream",
     "text": [
      "[1, 2, 3, 4]\n"
     ]
    }
   ],
   "source": [
    "print(d.get('roll_noList'))"
   ]
  },
  {
   "cell_type": "code",
   "execution_count": 17,
   "metadata": {},
   "outputs": [
    {
     "name": "stdout",
     "output_type": "stream",
     "text": [
      "We did not find what you were looking for\n"
     ]
    }
   ],
   "source": [
    "print(d.get('maggi','We did not find what you were looking for'))"
   ]
  },
  {
   "cell_type": "code",
   "execution_count": 18,
   "metadata": {},
   "outputs": [
    {
     "name": "stdout",
     "output_type": "stream",
     "text": [
      "8\n"
     ]
    }
   ],
   "source": [
    "print(d.get('java','We did not find what you were looking for'))"
   ]
  },
  {
   "cell_type": "code",
   "execution_count": null,
   "metadata": {},
   "outputs": [],
   "source": [
    "if key exist: returns the value\n",
    "else: returns None or specified return value."
   ]
  },
  {
   "cell_type": "markdown",
   "metadata": {},
   "source": [
    "## setdefault"
   ]
  },
  {
   "cell_type": "code",
   "execution_count": 21,
   "metadata": {},
   "outputs": [
    {
     "name": "stdout",
     "output_type": "stream",
     "text": [
      "3\n",
      "{'python': 3, 'java': 8, 'django': 2, 'roll_noList': [1, 2, 3, 4]}\n"
     ]
    }
   ],
   "source": [
    "d = {'python':3,'java':8,'django':2,'roll_noList':[1,2,3,4]}\n",
    "\n",
    "x = d.setdefault('python',48)\n",
    "\n",
    "print(x)\n",
    "print(d)"
   ]
  },
  {
   "cell_type": "code",
   "execution_count": 22,
   "metadata": {},
   "outputs": [
    {
     "name": "stdout",
     "output_type": "stream",
     "text": [
      "48\n",
      "{'python': 3, 'java': 8, 'django': 2, 'roll_noList': [1, 2, 3, 4], 'maggi': 48}\n"
     ]
    }
   ],
   "source": [
    "d = {'python':3,'java':8,'django':2,'roll_noList':[1,2,3,4]}\n",
    "\n",
    "x = d.setdefault('maggi',48)\n",
    "\n",
    "print(x)\n",
    "print(d)"
   ]
  },
  {
   "cell_type": "code",
   "execution_count": 24,
   "metadata": {},
   "outputs": [
    {
     "name": "stdout",
     "output_type": "stream",
     "text": [
      "8\n",
      "{'python': 3, 'java': 8, 'django': 2, 'roll_noList': [1, 2, 3, 4]}\n"
     ]
    }
   ],
   "source": [
    "d = {'python':3,'java':8,'django':2,'roll_noList':[1,2,3,4]}\n",
    "\n",
    "x = d.setdefault('java',48)\n",
    "\n",
    "print(x)\n",
    "print(d)"
   ]
  },
  {
   "cell_type": "code",
   "execution_count": null,
   "metadata": {},
   "outputs": [],
   "source": [
    "if key exists: returns the value\n",
    "else:\n",
    "    Add to the dict the key value pair. and returns the value."
   ]
  },
  {
   "cell_type": "code",
   "execution_count": null,
   "metadata": {},
   "outputs": [],
   "source": [
    "## We have a dict, with few alphabets and some nos corresponding to them.\n",
    "\n",
    "## Objective: We have to add alphabets which are not present in the dict already, with their ascii values.\n",
    "\n",
    "d = {'a':1000,'m':5000,'p':786}\n",
    "\n",
    "Use setdefault to do this quesiton. Meaning fully."
   ]
  },
  {
   "cell_type": "code",
   "execution_count": 26,
   "metadata": {},
   "outputs": [
    {
     "name": "stdout",
     "output_type": "stream",
     "text": [
      "{'a': 1000, 'm': 5000, 'p': 786, 'b': 98, 'c': 99, 'd': 100, 'e': 101, 'f': 102, 'g': 103, 'h': 104, 'i': 105, 'j': 106, 'k': 107, 'l': 108, 'n': 110, 'o': 111, 'q': 113, 'r': 114, 's': 115, 't': 116, 'u': 117, 'v': 118, 'w': 119, 'x': 120, 'y': 121, 'z': 122}\n"
     ]
    }
   ],
   "source": [
    "d = {'a':1000,'m':5000,'p':786}\n",
    "\n",
    "for ascii_value in range(ord('a'),ord('z')+1):\n",
    "    d.setdefault(chr(ascii_value),ascii_value)\n",
    "    \n",
    "print(d)"
   ]
  },
  {
   "cell_type": "code",
   "execution_count": 28,
   "metadata": {},
   "outputs": [
    {
     "name": "stdout",
     "output_type": "stream",
     "text": [
      "True\n"
     ]
    }
   ],
   "source": [
    "# Membership Operator in , not in\n",
    "## In Operator in Dict only serach for keys, and not values.\n",
    "\n",
    "d = {'python':3,'java':8,'django':2,'roll_noList':[1,2,3,4]}\n",
    "\n",
    "print('python' in d)"
   ]
  },
  {
   "cell_type": "code",
   "execution_count": 29,
   "metadata": {},
   "outputs": [
    {
     "name": "stdout",
     "output_type": "stream",
     "text": [
      "False\n"
     ]
    }
   ],
   "source": [
    "d = {'python':3,'java':8,'django':2,'roll_noList':[1,2,3,4]}\n",
    "\n",
    "print(3 in d)"
   ]
  },
  {
   "cell_type": "markdown",
   "metadata": {},
   "source": [
    "## Q2) Count the number of occurrence of each letter in word \"apple\". Store count of every letter with the letter in a dictionary.\n",
    "\n",
    "### Intuition: Use in operator to check if it already exist.\n",
    "\n",
    "### Pseudocode:\n",
    "    1.)loop over all the chars in \"apple\".\n",
    "    2.)if char already exist, increase it's count, else give it count = 1"
   ]
  },
  {
   "cell_type": "code",
   "execution_count": null,
   "metadata": {},
   "outputs": [],
   "source": [
    "'apple'\n",
    "\n",
    "ans => {'a':1,'p':2,'l':1,'e':1}\n",
    "\n",
    "'pineapple'\n",
    "\n",
    "ans => {'p':3,'i':1,'n':1,'e':2,'a':1,'l':1}"
   ]
  },
  {
   "cell_type": "code",
   "execution_count": 32,
   "metadata": {},
   "outputs": [
    {
     "name": "stdout",
     "output_type": "stream",
     "text": [
      "{'a': 1, 'p': 2, 'l': 1, 'e': 1}\n"
     ]
    }
   ],
   "source": [
    "ans = {}\n",
    "for char in 'apple':\n",
    "    if char in ans:\n",
    "        ans[char] = ans[char] + 1\n",
    "    else:\n",
    "        ans[char] = 1\n",
    "print(ans)"
   ]
  },
  {
   "cell_type": "code",
   "execution_count": 33,
   "metadata": {},
   "outputs": [
    {
     "name": "stdout",
     "output_type": "stream",
     "text": [
      "{'p': 3, 'i': 1, 'n': 1, 'e': 2, 'a': 1, 'l': 1}\n"
     ]
    }
   ],
   "source": [
    "ans = {}\n",
    "for char in 'pineapple':\n",
    "    if char in ans:\n",
    "        ans[char] = ans[char] + 1\n",
    "    else:\n",
    "        ans[char] = 1\n",
    "print(ans)"
   ]
  },
  {
   "cell_type": "code",
   "execution_count": 34,
   "metadata": {},
   "outputs": [
    {
     "name": "stdout",
     "output_type": "stream",
     "text": [
      "{'z': 1, 'o': 2, 'm': 1, 'a': 1, 't': 1}\n"
     ]
    }
   ],
   "source": [
    "ans = {}\n",
    "for char in 'zomato':\n",
    "    if char in ans:\n",
    "        ans[char] = ans[char] + 1\n",
    "    else:\n",
    "        ans[char] = 1\n",
    "print(ans)"
   ]
  },
  {
   "cell_type": "code",
   "execution_count": 35,
   "metadata": {},
   "outputs": [
    {
     "name": "stdout",
     "output_type": "stream",
     "text": [
      "{'s': 1, 'w': 1, 'i': 1, 'g': 2, 'y': 1}\n"
     ]
    }
   ],
   "source": [
    "ans = {}\n",
    "for char in 'swiggy':\n",
    "    if char in ans:\n",
    "        ans[char] = ans[char] + 1\n",
    "    else:\n",
    "        ans[char] = 1\n",
    "print(ans)"
   ]
  },
  {
   "cell_type": "code",
   "execution_count": 38,
   "metadata": {},
   "outputs": [
    {
     "name": "stdout",
     "output_type": "stream",
     "text": [
      "{'s': 1, 'w': 1, 'i': 1, 'g': 2, 'y': 1}\n"
     ]
    }
   ],
   "source": [
    "ans = {}\n",
    "for char in 'swiggy':\n",
    "    ans[char] = 'swiggy'.count(char)\n",
    "print(ans)"
   ]
  },
  {
   "cell_type": "code",
   "execution_count": 41,
   "metadata": {},
   "outputs": [
    {
     "name": "stdout",
     "output_type": "stream",
     "text": [
      "{'a': 1, 'p': 2, 'l': 1, 'e': 1}\n"
     ]
    }
   ],
   "source": [
    "d = {}\n",
    "a  = 'apple'\n",
    "for char in a:\n",
    "    if char in a:\n",
    "        d[char]=a.count(char)\n",
    "print(d)"
   ]
  },
  {
   "cell_type": "code",
   "execution_count": 42,
   "metadata": {},
   "outputs": [
    {
     "name": "stdout",
     "output_type": "stream",
     "text": [
      "{'a': 1, 'p': 2, 'l': 1, 'e': 1}\n"
     ]
    }
   ],
   "source": [
    "ans = {}\n",
    "for char in 'apple':\n",
    "    ans[char] = 'apple'.count(char)\n",
    "print(ans)"
   ]
  },
  {
   "cell_type": "code",
   "execution_count": null,
   "metadata": {},
   "outputs": [],
   "source": [
    ".keys(), .values(), .items()"
   ]
  },
  {
   "cell_type": "code",
   "execution_count": 43,
   "metadata": {},
   "outputs": [
    {
     "name": "stdout",
     "output_type": "stream",
     "text": [
      "python\n",
      "java\n",
      "django\n",
      "roll_noList\n"
     ]
    }
   ],
   "source": [
    "d = {'python':3,'java':8,'django':2,'roll_noList':[1,2,3,4]}\n",
    "\n",
    "for key in d.keys():\n",
    "    print(key)"
   ]
  },
  {
   "cell_type": "code",
   "execution_count": 44,
   "metadata": {},
   "outputs": [
    {
     "name": "stdout",
     "output_type": "stream",
     "text": [
      "3\n",
      "8\n",
      "2\n",
      "[1, 2, 3, 4]\n"
     ]
    }
   ],
   "source": [
    "d = {'python':3,'java':8,'django':2,'roll_noList':[1,2,3,4]}\n",
    "\n",
    "for value in d.values():\n",
    "    print(value)"
   ]
  },
  {
   "cell_type": "code",
   "execution_count": 45,
   "metadata": {},
   "outputs": [
    {
     "name": "stdout",
     "output_type": "stream",
     "text": [
      "('python', 3)\n",
      "('java', 8)\n",
      "('django', 2)\n",
      "('roll_noList', [1, 2, 3, 4])\n"
     ]
    }
   ],
   "source": [
    "d = {'python':3,'java':8,'django':2,'roll_noList':[1,2,3,4]}\n",
    "\n",
    "for item in d.items():\n",
    "    print(item)"
   ]
  },
  {
   "cell_type": "code",
   "execution_count": null,
   "metadata": {},
   "outputs": [],
   "source": [
    "## deletion in dict\n",
    "pop => key, removed the key-value pair and returns the value\n",
    "popitem() => Python 3.6 onwards.. it removes the last added key value pair, returns the key value pair\n",
    "clear() => empty the dict, returns None\n",
    "del => deltes the reference as well as the object"
   ]
  },
  {
   "cell_type": "code",
   "execution_count": 46,
   "metadata": {},
   "outputs": [
    {
     "name": "stdout",
     "output_type": "stream",
     "text": [
      "{'java': 8, 'django': 2, 'roll_noList': [1, 2, 3, 4]}\n"
     ]
    }
   ],
   "source": [
    "d = {'python':3,'java':8,'django':2,'roll_noList':[1,2,3,4]}\n",
    "\n",
    "return_value = d.pop('python')\n",
    "print(d)"
   ]
  },
  {
   "cell_type": "code",
   "execution_count": 48,
   "metadata": {},
   "outputs": [
    {
     "name": "stdout",
     "output_type": "stream",
     "text": [
      "3\n"
     ]
    }
   ],
   "source": [
    "print(return_value)"
   ]
  },
  {
   "cell_type": "code",
   "execution_count": 49,
   "metadata": {},
   "outputs": [
    {
     "name": "stdout",
     "output_type": "stream",
     "text": [
      "{'python': 3, 'java': 8, 'django': 2}\n"
     ]
    }
   ],
   "source": [
    "d = {'python':3,'java':8,'django':2,'roll_noList':[1,2,3,4]}\n",
    "\n",
    "return_value = d.popitem()\n",
    "print(d)"
   ]
  },
  {
   "cell_type": "code",
   "execution_count": 50,
   "metadata": {},
   "outputs": [
    {
     "name": "stdout",
     "output_type": "stream",
     "text": [
      "('roll_noList', [1, 2, 3, 4])\n"
     ]
    }
   ],
   "source": [
    "print(return_value)"
   ]
  },
  {
   "cell_type": "code",
   "execution_count": 51,
   "metadata": {},
   "outputs": [
    {
     "name": "stdout",
     "output_type": "stream",
     "text": [
      "{}\n",
      "None\n"
     ]
    }
   ],
   "source": [
    "d = {'python':3,'java':8,'django':2,'roll_noList':[1,2,3,4]}\n",
    "\n",
    "return_value = d.clear()\n",
    "print(d)\n",
    "print(return_value)"
   ]
  },
  {
   "cell_type": "code",
   "execution_count": 52,
   "metadata": {},
   "outputs": [
    {
     "ename": "NameError",
     "evalue": "name 'd' is not defined",
     "output_type": "error",
     "traceback": [
      "\u001b[1;31m---------------------------------------------------------------------------\u001b[0m",
      "\u001b[1;31mNameError\u001b[0m                                 Traceback (most recent call last)",
      "\u001b[1;32m<ipython-input-52-d20bbe1a105c>\u001b[0m in \u001b[0;36m<module>\u001b[1;34m\u001b[0m\n\u001b[0;32m      2\u001b[0m \u001b[1;33m\u001b[0m\u001b[0m\n\u001b[0;32m      3\u001b[0m \u001b[1;32mdel\u001b[0m \u001b[0md\u001b[0m\u001b[1;33m\u001b[0m\u001b[1;33m\u001b[0m\u001b[0m\n\u001b[1;32m----> 4\u001b[1;33m \u001b[0mprint\u001b[0m\u001b[1;33m(\u001b[0m\u001b[0md\u001b[0m\u001b[1;33m)\u001b[0m\u001b[1;33m\u001b[0m\u001b[1;33m\u001b[0m\u001b[0m\n\u001b[0m",
      "\u001b[1;31mNameError\u001b[0m: name 'd' is not defined"
     ]
    }
   ],
   "source": [
    "d = {'python':3,'java':8,'django':2,'roll_noList':[1,2,3,4]}\n",
    "\n",
    "del d\n",
    "print(d)"
   ]
  },
  {
   "cell_type": "markdown",
   "metadata": {},
   "source": [
    "# sets"
   ]
  },
  {
   "cell_type": "code",
   "execution_count": null,
   "metadata": {},
   "outputs": [],
   "source": [
    "=> Unique elements only {1,1,1,1,1} will become {1}\n",
    "\n",
    "=> Mutable\n",
    "=> Unordered: Does not support indexing and slicing\n",
    "\n",
    "2 most important things about keys in sets:\n",
    "    1) Unique\n",
    "    2) Immutable"
   ]
  },
  {
   "cell_type": "code",
   "execution_count": 53,
   "metadata": {},
   "outputs": [
    {
     "ename": "TypeError",
     "evalue": "unhashable type: 'list'",
     "output_type": "error",
     "traceback": [
      "\u001b[1;31m---------------------------------------------------------------------------\u001b[0m",
      "\u001b[1;31mTypeError\u001b[0m                                 Traceback (most recent call last)",
      "\u001b[1;32m<ipython-input-53-4207528bdbe1>\u001b[0m in \u001b[0;36m<module>\u001b[1;34m\u001b[0m\n\u001b[1;32m----> 1\u001b[1;33m \u001b[0ms1\u001b[0m \u001b[1;33m=\u001b[0m \u001b[1;33m{\u001b[0m\u001b[1;33m[\u001b[0m\u001b[1;36m1\u001b[0m\u001b[1;33m,\u001b[0m\u001b[1;36m2\u001b[0m\u001b[1;33m,\u001b[0m\u001b[1;36m3\u001b[0m\u001b[1;33m]\u001b[0m\u001b[1;33m}\u001b[0m\u001b[1;33m\u001b[0m\u001b[1;33m\u001b[0m\u001b[0m\n\u001b[0m",
      "\u001b[1;31mTypeError\u001b[0m: unhashable type: 'list'"
     ]
    }
   ],
   "source": [
    "s1 = {[1,2,3]}"
   ]
  },
  {
   "cell_type": "code",
   "execution_count": 54,
   "metadata": {},
   "outputs": [
    {
     "name": "stdout",
     "output_type": "stream",
     "text": [
      "{1, 2}\n"
     ]
    }
   ],
   "source": [
    "s2 = {1,1,1,1,1,1,2,2,2,2,2}\n",
    "print(s2)"
   ]
  },
  {
   "cell_type": "markdown",
   "metadata": {},
   "source": [
    "## LIMITATION OF SETS"
   ]
  },
  {
   "cell_type": "code",
   "execution_count": 58,
   "metadata": {},
   "outputs": [],
   "source": [
    "list1 = [34,29,122,-90,29,600,3,70,29,70]\n",
    "\n",
    "ans = [34,29,122,-90,600,3,70]\n",
    "\n",
    "# you want to remove duplicates and keep the order same"
   ]
  },
  {
   "cell_type": "code",
   "execution_count": 59,
   "metadata": {},
   "outputs": [
    {
     "name": "stdout",
     "output_type": "stream",
     "text": [
      "[34, 3, -90, 70, 600, 122, 29]\n"
     ]
    }
   ],
   "source": [
    "s1 = set(list1)\n",
    "\n",
    "list2 = list(s1)\n",
    "\n",
    "print(list2)"
   ]
  },
  {
   "cell_type": "code",
   "execution_count": 60,
   "metadata": {},
   "outputs": [
    {
     "name": "stdout",
     "output_type": "stream",
     "text": [
      "[34, 29, 122, -90, 600, 3, 70]\n"
     ]
    }
   ],
   "source": [
    "ans = []\n",
    "\n",
    "list1 = [34,29,122,-90,29,600,3,70,29,70]\n",
    "\n",
    "for no in list1:\n",
    "    if no not in ans:\n",
    "        ans.append(no)\n",
    "        \n",
    "print(ans)"
   ]
  },
  {
   "cell_type": "code",
   "execution_count": 65,
   "metadata": {},
   "outputs": [
    {
     "name": "stdout",
     "output_type": "stream",
     "text": [
      "{'python': 3, 'java': 8}\n"
     ]
    }
   ],
   "source": [
    "x = [('python',3),('java',8)]\n",
    "print(dict(x))"
   ]
  },
  {
   "cell_type": "code",
   "execution_count": 69,
   "metadata": {},
   "outputs": [
    {
     "name": "stdout",
     "output_type": "stream",
     "text": [
      "{70: None, 34: None, 29: None, 122: None, -90: None, 600: None, 3: None}\n",
      "[70, 34, 29, 122, -90, 600, 3]\n"
     ]
    }
   ],
   "source": [
    "l = [70,34,29,122,-90,29,600,3,70,29,70]\n",
    "d = dict.fromkeys(l)\n",
    "print(d)\n",
    "\n",
    "list1 = list(d)\n",
    "\n",
    "print(list1)"
   ]
  },
  {
   "cell_type": "markdown",
   "metadata": {},
   "source": [
    "# set operations"
   ]
  },
  {
   "cell_type": "code",
   "execution_count": 61,
   "metadata": {},
   "outputs": [
    {
     "name": "stdout",
     "output_type": "stream",
     "text": [
      "{70, 40, 10, 80, 50, 20, 90, 60, 30}\n"
     ]
    }
   ],
   "source": [
    "s1 = {10,20,30,40,50,60}\n",
    "s2 = {40,50,60,70,80,90}\n",
    "\n",
    "s3 = s1.union(s2)\n",
    "\n",
    "print(s3)"
   ]
  },
  {
   "cell_type": "code",
   "execution_count": 70,
   "metadata": {},
   "outputs": [
    {
     "name": "stdout",
     "output_type": "stream",
     "text": [
      "{40, 50, 60}\n"
     ]
    }
   ],
   "source": [
    "s1 = {10,20,30,40,50,60}\n",
    "s2 = {40,50,60,70,80,90}\n",
    "\n",
    "s3 = s1.intersection(s2)\n",
    "\n",
    "print(s3)"
   ]
  },
  {
   "cell_type": "code",
   "execution_count": 71,
   "metadata": {},
   "outputs": [
    {
     "name": "stdout",
     "output_type": "stream",
     "text": [
      "s3 =  {10, 20, 30}\n",
      "s4 =  {80, 90, 70}\n"
     ]
    }
   ],
   "source": [
    "s1 = {10,20,30,40,50,60}\n",
    "s2 = {40,50,60,70,80,90}\n",
    "\n",
    "s3 = s1.difference(s2) # s1 - s2\n",
    "\n",
    "s4 = s2.difference(s1) # s2 - s1\n",
    "\n",
    "print('s3 = ',s3)\n",
    "print('s4 = ',s4)"
   ]
  },
  {
   "cell_type": "code",
   "execution_count": 72,
   "metadata": {},
   "outputs": [
    {
     "name": "stdout",
     "output_type": "stream",
     "text": [
      "s3 =  {70, 10, 80, 20, 90, 30}\n"
     ]
    }
   ],
   "source": [
    "s1 = {10,20,30,40,50,60}\n",
    "s2 = {40,50,60,70,80,90}\n",
    "\n",
    "s3 = s1.symmetric_difference(s2) # s1.difference(s2) + s2.difference(s1) = (s1-s2) + (s2-s1)\n",
    "\n",
    "print('s3 = ',s3)"
   ]
  },
  {
   "cell_type": "code",
   "execution_count": 73,
   "metadata": {},
   "outputs": [
    {
     "name": "stdout",
     "output_type": "stream",
     "text": [
      "22389224\n",
      "22389224\n",
      "{70, 40, 10, 80, 50, 20, 90, 60, 30}\n"
     ]
    }
   ],
   "source": [
    "s1 = {10,20,30,40,50,60}\n",
    "print(id(s1))\n",
    "s2 = {40,50,60,70,80,90}\n",
    "\n",
    "s1.update(s2)\n",
    "print(id(s1))\n",
    "\n",
    "print(s1)"
   ]
  },
  {
   "cell_type": "code",
   "execution_count": null,
   "metadata": {},
   "outputs": [],
   "source": [
    "sets are mutable."
   ]
  },
  {
   "cell_type": "code",
   "execution_count": 74,
   "metadata": {},
   "outputs": [],
   "source": [
    "s1 = {10,20,30,40,50,60}\n",
    "\n",
    "s1.add(3000)"
   ]
  },
  {
   "cell_type": "code",
   "execution_count": 75,
   "metadata": {},
   "outputs": [
    {
     "name": "stdout",
     "output_type": "stream",
     "text": [
      "{40, 10, 50, 20, 3000, 60, 30}\n"
     ]
    }
   ],
   "source": [
    "print(s1)"
   ]
  },
  {
   "cell_type": "code",
   "execution_count": null,
   "metadata": {},
   "outputs": [],
   "source": [
    "Deletion:\n",
    "    pop\n",
    "    remove\n",
    "    discard\n",
    "    clear\n",
    "    del"
   ]
  },
  {
   "cell_type": "code",
   "execution_count": 76,
   "metadata": {},
   "outputs": [
    {
     "ename": "NameError",
     "evalue": "name 's1' is not defined",
     "output_type": "error",
     "traceback": [
      "\u001b[1;31m---------------------------------------------------------------------------\u001b[0m",
      "\u001b[1;31mNameError\u001b[0m                                 Traceback (most recent call last)",
      "\u001b[1;32m<ipython-input-76-93abbce4f538>\u001b[0m in \u001b[0;36m<module>\u001b[1;34m\u001b[0m\n\u001b[0;32m      2\u001b[0m \u001b[1;32mdel\u001b[0m \u001b[0ms1\u001b[0m\u001b[1;33m\u001b[0m\u001b[1;33m\u001b[0m\u001b[0m\n\u001b[0;32m      3\u001b[0m \u001b[1;33m\u001b[0m\u001b[0m\n\u001b[1;32m----> 4\u001b[1;33m \u001b[0mprint\u001b[0m\u001b[1;33m(\u001b[0m\u001b[0ms1\u001b[0m\u001b[1;33m)\u001b[0m\u001b[1;33m\u001b[0m\u001b[1;33m\u001b[0m\u001b[0m\n\u001b[0m",
      "\u001b[1;31mNameError\u001b[0m: name 's1' is not defined"
     ]
    }
   ],
   "source": [
    "s1 = {10,20,30,40,50,60}\n",
    "del s1\n",
    "\n",
    "print(s1)"
   ]
  },
  {
   "cell_type": "code",
   "execution_count": 77,
   "metadata": {},
   "outputs": [
    {
     "name": "stdout",
     "output_type": "stream",
     "text": [
      "set()\n"
     ]
    }
   ],
   "source": [
    "s1 = {10,20,30,40,50,60}\n",
    "s1.clear()\n",
    "\n",
    "print(s1)"
   ]
  },
  {
   "cell_type": "code",
   "execution_count": 83,
   "metadata": {},
   "outputs": [
    {
     "name": "stdout",
     "output_type": "stream",
     "text": [
      "{10, 50, 20, 60, 30}\n",
      "40\n"
     ]
    }
   ],
   "source": [
    "s1 = {10,20,30,40,50,60}\n",
    "\n",
    "return_value = s1.pop()\n",
    "print(s1)\n",
    "print(return_value)"
   ]
  },
  {
   "cell_type": "code",
   "execution_count": 84,
   "metadata": {},
   "outputs": [
    {
     "name": "stdout",
     "output_type": "stream",
     "text": [
      "{50, 20, 60, 30}\n",
      "10\n"
     ]
    }
   ],
   "source": [
    "return_value = s1.pop()\n",
    "print(s1)\n",
    "print(return_value)"
   ]
  },
  {
   "cell_type": "code",
   "execution_count": 85,
   "metadata": {},
   "outputs": [
    {
     "name": "stdout",
     "output_type": "stream",
     "text": [
      "{40, 10, 20, 60, 30}\n",
      "None\n"
     ]
    }
   ],
   "source": [
    "s1 = {10,20,30,40,50,60}\n",
    "\n",
    "return_value = s1.remove(50)\n",
    "print(s1)\n",
    "print(return_value)"
   ]
  },
  {
   "cell_type": "code",
   "execution_count": 86,
   "metadata": {},
   "outputs": [
    {
     "ename": "KeyError",
     "evalue": "100",
     "output_type": "error",
     "traceback": [
      "\u001b[1;31m---------------------------------------------------------------------------\u001b[0m",
      "\u001b[1;31mKeyError\u001b[0m                                  Traceback (most recent call last)",
      "\u001b[1;32m<ipython-input-86-657b80ecdeba>\u001b[0m in \u001b[0;36m<module>\u001b[1;34m\u001b[0m\n\u001b[0;32m      1\u001b[0m \u001b[0ms1\u001b[0m \u001b[1;33m=\u001b[0m \u001b[1;33m{\u001b[0m\u001b[1;36m10\u001b[0m\u001b[1;33m,\u001b[0m\u001b[1;36m20\u001b[0m\u001b[1;33m,\u001b[0m\u001b[1;36m30\u001b[0m\u001b[1;33m,\u001b[0m\u001b[1;36m40\u001b[0m\u001b[1;33m,\u001b[0m\u001b[1;36m50\u001b[0m\u001b[1;33m,\u001b[0m\u001b[1;36m60\u001b[0m\u001b[1;33m}\u001b[0m\u001b[1;33m\u001b[0m\u001b[1;33m\u001b[0m\u001b[0m\n\u001b[0;32m      2\u001b[0m \u001b[1;33m\u001b[0m\u001b[0m\n\u001b[1;32m----> 3\u001b[1;33m \u001b[0mreturn_value\u001b[0m \u001b[1;33m=\u001b[0m \u001b[0ms1\u001b[0m\u001b[1;33m.\u001b[0m\u001b[0mremove\u001b[0m\u001b[1;33m(\u001b[0m\u001b[1;36m100\u001b[0m\u001b[1;33m)\u001b[0m\u001b[1;33m\u001b[0m\u001b[1;33m\u001b[0m\u001b[0m\n\u001b[0m\u001b[0;32m      4\u001b[0m \u001b[0mprint\u001b[0m\u001b[1;33m(\u001b[0m\u001b[0ms1\u001b[0m\u001b[1;33m)\u001b[0m\u001b[1;33m\u001b[0m\u001b[1;33m\u001b[0m\u001b[0m\n\u001b[0;32m      5\u001b[0m \u001b[0mprint\u001b[0m\u001b[1;33m(\u001b[0m\u001b[0mreturn_value\u001b[0m\u001b[1;33m)\u001b[0m\u001b[1;33m\u001b[0m\u001b[1;33m\u001b[0m\u001b[0m\n",
      "\u001b[1;31mKeyError\u001b[0m: 100"
     ]
    }
   ],
   "source": [
    "s1 = {10,20,30,40,50,60}\n",
    "\n",
    "return_value = s1.remove(100)\n",
    "print(s1)\n",
    "print(return_value)"
   ]
  },
  {
   "cell_type": "code",
   "execution_count": 87,
   "metadata": {},
   "outputs": [
    {
     "name": "stdout",
     "output_type": "stream",
     "text": [
      "{40, 10, 20, 60, 30}\n",
      "None\n"
     ]
    }
   ],
   "source": [
    "s1 = {10,20,30,40,50,60}\n",
    "\n",
    "return_value = s1.discard(50)\n",
    "print(s1)\n",
    "print(return_value)"
   ]
  },
  {
   "cell_type": "code",
   "execution_count": 88,
   "metadata": {},
   "outputs": [
    {
     "name": "stdout",
     "output_type": "stream",
     "text": [
      "{40, 10, 50, 20, 60, 30}\n",
      "None\n"
     ]
    }
   ],
   "source": [
    "s1 = {10,20,30,40,50,60}\n",
    "\n",
    "return_value = s1.discard(150)\n",
    "print(s1)\n",
    "print(return_value)"
   ]
  },
  {
   "cell_type": "code",
   "execution_count": 90,
   "metadata": {},
   "outputs": [
    {
     "name": "stdout",
     "output_type": "stream",
     "text": [
      "{10, 50, 20, 60, 30}\n",
      "40\n"
     ]
    }
   ],
   "source": [
    "s1 = {10,20,30,40,50,60}\n",
    "\n",
    "return_value = s1.pop()\n",
    "print(s1)\n",
    "print(return_value)"
   ]
  },
  {
   "cell_type": "markdown",
   "metadata": {},
   "source": [
    "## Q3) From the below data\n",
    "students = {\"a\",\"b\",\"c\",\"d\",\"e\",\"f\",\"g\",\"h\"}\n",
    "dance = {\"a\",\"b\",\"c\",\"d\"}\n",
    "music = {\"e\",\"f\",\"b\",\"c\"}\n",
    "\n",
    "## USE SET to solve:\n",
    "### a) which love both music and dance?\n",
    "### b) which love nothing?\n",
    "\n",
    "### Intuition: Use builtin set functions"
   ]
  },
  {
   "cell_type": "markdown",
   "metadata": {},
   "source": [
    "## Q4) Find the max appearing char by using sets.\n",
    "s = \"arrcaaaaccffffqqqqqqqqqqqqqqqqqqqqq\"\n",
    "\n",
    "### Pseudocode:\n",
    "    1.)Make a copy of unique elements from the string.\n",
    "    2.)Iterate over those and count the occurence in the string."
   ]
  },
  {
   "cell_type": "code",
   "execution_count": null,
   "metadata": {},
   "outputs": [],
   "source": []
  }
 ],
 "metadata": {
  "kernelspec": {
   "display_name": "Python 3",
   "language": "python",
   "name": "python3"
  },
  "language_info": {
   "codemirror_mode": {
    "name": "ipython",
    "version": 3
   },
   "file_extension": ".py",
   "mimetype": "text/x-python",
   "name": "python",
   "nbconvert_exporter": "python",
   "pygments_lexer": "ipython3",
   "version": "3.8.3"
  }
 },
 "nbformat": 4,
 "nbformat_minor": 4
}
