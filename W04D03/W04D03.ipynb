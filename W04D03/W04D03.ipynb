{
 "cells": [
  {
   "cell_type": "code",
   "execution_count": null,
   "metadata": {},
   "outputs": [],
   "source": [
    "Question: Mimic count function.\n",
    "Create a function which will find the no of appearance of any character in a given string.\n",
    "\n",
    "def count(char,string):\n",
    "    ....\n",
    "    ....\n",
    "    ....\n",
    "    return count_of_char_in_that_string."
   ]
  },
  {
   "cell_type": "code",
   "execution_count": 5,
   "metadata": {},
   "outputs": [
    {
     "name": "stdout",
     "output_type": "stream",
     "text": [
      "kiwi\n",
      "11\n"
     ]
    },
    {
     "ename": "NameError",
     "evalue": "name 'y' is not defined",
     "output_type": "error",
     "traceback": [
      "\u001b[1;31m---------------------------------------------------------------------------\u001b[0m",
      "\u001b[1;31mNameError\u001b[0m                                 Traceback (most recent call last)",
      "\u001b[1;32m<ipython-input-5-0b1da85c86ff>\u001b[0m in \u001b[0;36m<module>\u001b[1;34m\u001b[0m\n\u001b[0;32m      6\u001b[0m \u001b[0msad\u001b[0m\u001b[1;33m(\u001b[0m\u001b[1;36m5\u001b[0m\u001b[1;33m,\u001b[0m\u001b[1;36m6\u001b[0m\u001b[1;33m)\u001b[0m\u001b[1;33m\u001b[0m\u001b[1;33m\u001b[0m\u001b[0m\n\u001b[0;32m      7\u001b[0m \u001b[1;33m\u001b[0m\u001b[0m\n\u001b[1;32m----> 8\u001b[1;33m \u001b[0mprint\u001b[0m\u001b[1;33m(\u001b[0m\u001b[0my\u001b[0m\u001b[1;33m)\u001b[0m\u001b[1;33m\u001b[0m\u001b[1;33m\u001b[0m\u001b[0m\n\u001b[0m",
      "\u001b[1;31mNameError\u001b[0m: name 'y' is not defined"
     ]
    }
   ],
   "source": [
    "def sad(a,b):\n",
    "    y = 'kiwi'\n",
    "    print(y)\n",
    "    print(a+b)\n",
    "    \n",
    "sad(5,6)\n",
    "\n",
    "print(y)"
   ]
  },
  {
   "cell_type": "code",
   "execution_count": 7,
   "metadata": {},
   "outputs": [
    {
     "name": "stdout",
     "output_type": "stream",
     "text": [
      "mango\n",
      "11\n",
      "mango\n"
     ]
    }
   ],
   "source": [
    "y = 'mango'\n",
    "def sad(a,b):\n",
    "    print(y)\n",
    "    print(a+b)\n",
    "    \n",
    "sad(5,6)\n",
    "\n",
    "print(y)"
   ]
  },
  {
   "cell_type": "code",
   "execution_count": null,
   "metadata": {},
   "outputs": [],
   "source": [
    "Question:\n",
    "    Make a function for making tea.\n",
    "    Do whatever you learned uptill now inside that function \n",
    "    what you feel right.\n",
    "    \n",
    "Do it within 5 minutes.\n",
    "Let's see who have the most interesting code."
   ]
  },
  {
   "cell_type": "code",
   "execution_count": null,
   "metadata": {},
   "outputs": [],
   "source": [
    "8:30"
   ]
  },
  {
   "cell_type": "code",
   "execution_count": 8,
   "metadata": {},
   "outputs": [
    {
     "name": "stdout",
     "output_type": "stream",
     "text": [
      "Boil water add tea and sugar then add milk\n",
      "Yeah!! Tea is ready\n"
     ]
    }
   ],
   "source": [
    "def tea():\n",
    "    print(\"Boil water add tea and sugar then add milk\")\n",
    "    print('Yeah!! Tea is ready')\n",
    "tea()"
   ]
  },
  {
   "cell_type": "code",
   "execution_count": 10,
   "metadata": {},
   "outputs": [
    {
     "name": "stdout",
     "output_type": "stream",
     "text": [
      "Put the teabag in a cup.\n",
      "Fill the kettle with water.\n",
      "Boil the water in the kettle.\n",
      "Pour some of the boiled water into the cup.\n",
      "Add milk to the cup.\n",
      "Enter No of Sugar Cubes2\n",
      "Add sugar to the cup 2\n",
      "Stir the tea.\n",
      "Your tea is ready!!!\n"
     ]
    }
   ],
   "source": [
    "def making_tea(tea_type,issugar):\n",
    "    print('Put the teabag in a cup.')\n",
    "    print('Fill the kettle with water.')\n",
    "    print('Boil the water in the kettle.')\n",
    "    print('Pour some of the boiled water into the cup.')\n",
    "    if tea_type=='milk':\n",
    "        print('Add milk to the cup.')\n",
    "    if issugar:\n",
    "        sugar=int(input('Enter No of Sugar Cubes'))\n",
    "        print('Add sugar to the cup',sugar)\n",
    "    print('Stir the tea.')\n",
    "    print('Your tea is ready!!!')\n",
    "making_tea('milk',1)"
   ]
  },
  {
   "cell_type": "code",
   "execution_count": 18,
   "metadata": {},
   "outputs": [
    {
     "name": "stdout",
     "output_type": "stream",
     "text": [
      "1)Boil 100ml of water \n",
      "2) Add half spoon sugar and some ginger \n",
      "3) Add 50 ml of milk and boil for 5 min\n",
      "None\n"
     ]
    }
   ],
   "source": [
    "def tea(cups):\n",
    "    if cups == 1:\n",
    "        print(\"1)Boil 100ml of water \\n2) Add half spoon sugar and some ginger \\n3) Add 50 ml of milk and boil for 5 min\")\n",
    "    elif cups == 2:\n",
    "        print(\"1)Boil 250ml of water \\n2) Add one spoon sugar and some ginger \\n3) Add 100 ml of milk and boil for 5 min\")\n",
    "    elif cups == 3:\n",
    "        print(\"1)Boil 450ml of water \\n2) Add 1 and half spoon sugar and some ginger \\n3) Add 200 ml of milk and boil for 5 min\")\n",
    "\n",
    "\n",
    "print(tea(1))"
   ]
  },
  {
   "cell_type": "markdown",
   "metadata": {},
   "source": [
    "## Parameter Passing Techniques"
   ]
  },
  {
   "cell_type": "markdown",
   "metadata": {},
   "source": [
    "1) Default Arguments"
   ]
  },
  {
   "cell_type": "code",
   "execution_count": 15,
   "metadata": {},
   "outputs": [
    {
     "name": "stdout",
     "output_type": "stream",
     "text": [
      "15\n"
     ]
    }
   ],
   "source": [
    "def happy(a,b=10):\n",
    "    print(a+b)\n",
    "    \n",
    "happy(5)"
   ]
  },
  {
   "cell_type": "code",
   "execution_count": 20,
   "metadata": {},
   "outputs": [],
   "source": [
    "present_today = []\n",
    "absenties = []\n",
    "\n",
    "def rollcall(name,attendance='Absent'):\n",
    "    if attendance == 'Present':\n",
    "        present_today.append(name)\n",
    "    else:\n",
    "        absenties.append(name)"
   ]
  },
  {
   "cell_type": "code",
   "execution_count": 21,
   "metadata": {},
   "outputs": [],
   "source": [
    "rollcall('ibad')"
   ]
  },
  {
   "cell_type": "code",
   "execution_count": 22,
   "metadata": {},
   "outputs": [],
   "source": [
    "rollcall('kumar anamika')"
   ]
  },
  {
   "cell_type": "code",
   "execution_count": 23,
   "metadata": {},
   "outputs": [],
   "source": [
    "rollcall('vinay soni','Present')"
   ]
  },
  {
   "cell_type": "code",
   "execution_count": 24,
   "metadata": {},
   "outputs": [],
   "source": [
    "rollcall('bikash mandal','Present')"
   ]
  },
  {
   "cell_type": "code",
   "execution_count": 25,
   "metadata": {},
   "outputs": [
    {
     "data": {
      "text/plain": [
       "['vinay soni', 'bikash mandal']"
      ]
     },
     "execution_count": 25,
     "metadata": {},
     "output_type": "execute_result"
    }
   ],
   "source": [
    "present_today"
   ]
  },
  {
   "cell_type": "code",
   "execution_count": 26,
   "metadata": {},
   "outputs": [
    {
     "data": {
      "text/plain": [
       "['ibad', 'kumar anamika']"
      ]
     },
     "execution_count": 26,
     "metadata": {},
     "output_type": "execute_result"
    }
   ],
   "source": [
    "absenties"
   ]
  },
  {
   "cell_type": "markdown",
   "metadata": {},
   "source": [
    "2) Named Arguments"
   ]
  },
  {
   "cell_type": "markdown",
   "metadata": {},
   "source": [
    "if you don't know the order of parameters in a function while calling,but you know the name of the parameters."
   ]
  },
  {
   "cell_type": "code",
   "execution_count": 27,
   "metadata": {},
   "outputs": [
    {
     "name": "stdout",
     "output_type": "stream",
     "text": [
      "Rohan Rathore  is studying at  IIT BOMBAY  this guy took  Computer Science\n"
     ]
    }
   ],
   "source": [
    "def task(name,college,stream):\n",
    "    print(name,' is studying at ',college, ' this guy took ',stream)\n",
    "    \n",
    "task(college = 'IIT BOMBAY',name='Rohan Rathore',stream='Computer Science')"
   ]
  },
  {
   "cell_type": "markdown",
   "metadata": {},
   "source": [
    "3) Variable Arguments"
   ]
  },
  {
   "cell_type": "markdown",
   "metadata": {},
   "source": [
    "1) Packing: Pack variable  no of arguments into a collection of one.\n",
    "\n",
    "### Any number of arguments can come"
   ]
  },
  {
   "cell_type": "code",
   "execution_count": 29,
   "metadata": {},
   "outputs": [],
   "source": [
    "def mysum(*collection):\n",
    "    print(type(collection))\n",
    "    print(collection)\n",
    "    for data in collection:\n",
    "        print(type(data))"
   ]
  },
  {
   "cell_type": "code",
   "execution_count": 30,
   "metadata": {},
   "outputs": [
    {
     "name": "stdout",
     "output_type": "stream",
     "text": [
      "<class 'tuple'>\n",
      "(1, 2, 3, 4)\n",
      "<class 'int'>\n",
      "<class 'int'>\n",
      "<class 'int'>\n",
      "<class 'int'>\n"
     ]
    }
   ],
   "source": [
    "mysum(1,2,3,4)"
   ]
  },
  {
   "cell_type": "code",
   "execution_count": 31,
   "metadata": {},
   "outputs": [
    {
     "name": "stdout",
     "output_type": "stream",
     "text": [
      "<class 'tuple'>\n",
      "(1, 2)\n",
      "<class 'int'>\n",
      "<class 'int'>\n"
     ]
    }
   ],
   "source": [
    "mysum(1,2)"
   ]
  },
  {
   "cell_type": "code",
   "execution_count": 32,
   "metadata": {},
   "outputs": [
    {
     "name": "stdout",
     "output_type": "stream",
     "text": [
      "<class 'tuple'>\n",
      "(1, 2, 3, 4, 5, 6, 7, 8, 9, 10, 11, 12)\n",
      "<class 'int'>\n",
      "<class 'int'>\n",
      "<class 'int'>\n",
      "<class 'int'>\n",
      "<class 'int'>\n",
      "<class 'int'>\n",
      "<class 'int'>\n",
      "<class 'int'>\n",
      "<class 'int'>\n",
      "<class 'int'>\n",
      "<class 'int'>\n",
      "<class 'int'>\n"
     ]
    }
   ],
   "source": [
    "mysum(1,2,3,4,5,6,7,8,9,10,11,12)"
   ]
  },
  {
   "cell_type": "code",
   "execution_count": 39,
   "metadata": {},
   "outputs": [
    {
     "name": "stdout",
     "output_type": "stream",
     "text": [
      "<class 'tuple'>\n",
      "('happy', {'python': 3, 'java': 8})\n",
      "<class 'str'>\n",
      "<class 'dict'>\n"
     ]
    }
   ],
   "source": [
    "mysum('happy',{'python':3,'java':8})"
   ]
  },
  {
   "cell_type": "code",
   "execution_count": 37,
   "metadata": {},
   "outputs": [],
   "source": [
    "def present_student(*names):\n",
    "    print(type(names))\n",
    "    for name in names:\n",
    "        print(name)"
   ]
  },
  {
   "cell_type": "code",
   "execution_count": 38,
   "metadata": {},
   "outputs": [
    {
     "name": "stdout",
     "output_type": "stream",
     "text": [
      "<class 'tuple'>\n",
      "bikash mandal\n",
      "mohamed beemubeen\n",
      "Rushi Panchal 2\n",
      " 63 Reddy Ravi Prakash\n",
      "Indian Dhanesh M\n",
      "Kumark Anamika\n",
      "Ibad ali\n",
      "Sandeep Sharma\n",
      "Kanishk singh\n"
     ]
    }
   ],
   "source": [
    "present_student('bikash mandal','mohamed beemubeen','Rushi Panchal 2',' 63 Reddy Ravi Prakash','Indian Dhanesh M','Kumark Anamika','Ibad ali','Sandeep Sharma','Kanishk singh')"
   ]
  },
  {
   "cell_type": "markdown",
   "metadata": {},
   "source": [
    "2) UNPACKING"
   ]
  },
  {
   "cell_type": "code",
   "execution_count": 44,
   "metadata": {},
   "outputs": [],
   "source": [
    "l = ['spacex','tesla','neuralink']"
   ]
  },
  {
   "cell_type": "code",
   "execution_count": 45,
   "metadata": {},
   "outputs": [],
   "source": [
    "def printdetails(company_1,company_2,company_3):\n",
    "    print(company_1,' fires rockets')\n",
    "    print(company_2,' drives automated Battery powered cars')\n",
    "    print(company_3,' will get us killed!!')"
   ]
  },
  {
   "cell_type": "code",
   "execution_count": 46,
   "metadata": {},
   "outputs": [
    {
     "name": "stdout",
     "output_type": "stream",
     "text": [
      "anamika  fires rockets\n",
      "mohit  drives automated Battery powered cars\n",
      "kanishk  will get us killed!!\n"
     ]
    }
   ],
   "source": [
    "printdetails('anamika','mohit','kanishk')"
   ]
  },
  {
   "cell_type": "code",
   "execution_count": 47,
   "metadata": {},
   "outputs": [
    {
     "name": "stdout",
     "output_type": "stream",
     "text": [
      "spacex  fires rockets\n",
      "tesla  drives automated Battery powered cars\n",
      "neuralink  will get us killed!!\n"
     ]
    }
   ],
   "source": [
    "printdetails(*l)"
   ]
  },
  {
   "cell_type": "markdown",
   "metadata": {},
   "source": [
    "3) Named Packing"
   ]
  },
  {
   "cell_type": "code",
   "execution_count": null,
   "metadata": {},
   "outputs": [],
   "source": [
    "* => tuple, ** => dict"
   ]
  },
  {
   "cell_type": "code",
   "execution_count": 52,
   "metadata": {},
   "outputs": [
    {
     "name": "stdout",
     "output_type": "stream",
     "text": [
      "Rohan Rathore  is studying at  IIT BOMBAY  this guy took  Computer Science\n"
     ]
    }
   ],
   "source": [
    "def task(**student_details):\n",
    "    print(student_details['name'],' is studying at ',student_details['college'], ' this guy took ',student_details['stream'])\n",
    "\n",
    "task(college = 'IIT BOMBAY',name='Rohan Rathore',stream='Computer Science')"
   ]
  },
  {
   "cell_type": "markdown",
   "metadata": {},
   "source": [
    "4) Named UnPacking"
   ]
  },
  {
   "cell_type": "code",
   "execution_count": 53,
   "metadata": {},
   "outputs": [],
   "source": [
    "def task(name,college,stream):\n",
    "    print(name,' is studying at ',college, ' this guy took ',stream)"
   ]
  },
  {
   "cell_type": "code",
   "execution_count": 54,
   "metadata": {},
   "outputs": [
    {
     "name": "stdout",
     "output_type": "stream",
     "text": [
      "Rohan Rathore  is studying at  IIT BOMBAY  this guy took  Computer Science\n"
     ]
    }
   ],
   "source": [
    "d = {'college':'IIT BOMBAY','name':'Rohan Rathore','stream':'Computer Science'}\n",
    "\n",
    "task(**d)"
   ]
  },
  {
   "cell_type": "code",
   "execution_count": null,
   "metadata": {},
   "outputs": [],
   "source": []
  }
 ],
 "metadata": {
  "kernelspec": {
   "display_name": "Python 3",
   "language": "python",
   "name": "python3"
  },
  "language_info": {
   "codemirror_mode": {
    "name": "ipython",
    "version": 3
   },
   "file_extension": ".py",
   "mimetype": "text/x-python",
   "name": "python",
   "nbconvert_exporter": "python",
   "pygments_lexer": "ipython3",
   "version": "3.8.3"
  }
 },
 "nbformat": 4,
 "nbformat_minor": 4
}
