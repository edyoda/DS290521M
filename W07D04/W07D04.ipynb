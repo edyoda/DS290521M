{
 "cells": [
  {
   "cell_type": "code",
   "execution_count": null,
   "metadata": {},
   "outputs": [],
   "source": [
    "Questions:\n",
    "    Q1) Create a Structure of Classes of Paytm or any other Payments app\n",
    "    Q2) Create a Structure of Classes of Laptop\n",
    "    Q3) Create a Structure of Classes of Coffee Machine\n",
    "    Q4) Create a Structure of Classes of OYO\n",
    "    Q5) Create a Structure of Classes of Zomato\n",
    "    Q6) Create a Structure of Classes of Amazon\n",
    "    Q6) Vending Machine\n",
    "    Q7) Library Management System with multiple copies of a Book"
   ]
  },
  {
   "cell_type": "code",
   "execution_count": null,
   "metadata": {},
   "outputs": [],
   "source": [
    "What is Abstraction in OOP?\n",
    "\n",
    "Hiding all non essential things from the user and only showing things which are relevant to the user."
   ]
  },
  {
   "cell_type": "code",
   "execution_count": 1,
   "metadata": {},
   "outputs": [
    {
     "data": {
      "text/plain": [
       "[1, 2, 3, 'apple', 'mango']"
      ]
     },
     "execution_count": 1,
     "metadata": {},
     "output_type": "execute_result"
    }
   ],
   "source": [
    "[1,2,3]+['apple','mango']"
   ]
  },
  {
   "cell_type": "code",
   "execution_count": 2,
   "metadata": {},
   "outputs": [
    {
     "data": {
      "text/plain": [
       "'apple mango'"
      ]
     },
     "execution_count": 2,
     "metadata": {},
     "output_type": "execute_result"
    }
   ],
   "source": [
    "'apple '+'mango'"
   ]
  },
  {
   "cell_type": "code",
   "execution_count": 3,
   "metadata": {},
   "outputs": [
    {
     "data": {
      "text/plain": [
       "15"
      ]
     },
     "execution_count": 3,
     "metadata": {},
     "output_type": "execute_result"
    }
   ],
   "source": [
    "8+7"
   ]
  },
  {
   "cell_type": "code",
   "execution_count": null,
   "metadata": {},
   "outputs": [],
   "source": [
    "Generic coding, Using the same operator to be there for usage in every kinds of object.\n",
    "We are using the syntax for different purpose."
   ]
  },
  {
   "cell_type": "code",
   "execution_count": null,
   "metadata": {},
   "outputs": [],
   "source": [
    "When we use user defined object we want to specify what + will do.\n",
    "This is known as Operator Overlaoding.\n",
    "Dunder methods helps use achieve this."
   ]
  },
  {
   "cell_type": "code",
   "execution_count": 4,
   "metadata": {},
   "outputs": [],
   "source": [
    "class X:\n",
    "    pass\n",
    "\n",
    "\n",
    "class Y:\n",
    "    pass\n",
    "\n",
    "\n",
    "class Z:\n",
    "    pass\n",
    "\n",
    "\n",
    "class A(X, Y):\n",
    "    pass\n",
    "\n",
    "\n",
    "class B(Y, Z):\n",
    "    pass\n",
    "\n",
    "\n",
    "class M(B, A, Z):\n",
    "    pass"
   ]
  },
  {
   "cell_type": "code",
   "execution_count": 5,
   "metadata": {},
   "outputs": [
    {
     "name": "stdout",
     "output_type": "stream",
     "text": [
      "Help on M in module __main__ object:\n",
      "\n",
      "class M(B, A, Z)\n",
      " |  Method resolution order:\n",
      " |      M\n",
      " |      B\n",
      " |      A\n",
      " |      X\n",
      " |      Y\n",
      " |      Z\n",
      " |      builtins.object\n",
      " |  \n",
      " |  Data descriptors inherited from X:\n",
      " |  \n",
      " |  __dict__\n",
      " |      dictionary for instance variables (if defined)\n",
      " |  \n",
      " |  __weakref__\n",
      " |      list of weak references to the object (if defined)\n",
      "\n"
     ]
    }
   ],
   "source": [
    "obj = M()\n",
    "help(obj)"
   ]
  },
  {
   "cell_type": "code",
   "execution_count": null,
   "metadata": {},
   "outputs": [],
   "source": [
    "Q1) Create a Structure of Classes of Paytm or any other Payments app\n",
    "\n",
    "20 MINUTES.\n",
    "\n",
    "Q2) Create a Structure of Classes of Laptop\n",
    "\n",
    "8:46"
   ]
  },
  {
   "cell_type": "code",
   "execution_count": 32,
   "metadata": {},
   "outputs": [],
   "source": [
    "import random\n",
    "class paytm:\n",
    "    def __init__(self,user=user(role='Visitor')):\n",
    "        if user.role == 'Visitor':\n",
    "            self.limited_access = True\n",
    "            \n",
    "    def recharge(self):\n",
    "        if self.limited_access:\n",
    "            print('Please Login First')\n",
    "            return\n",
    "        serviceProvider = input('Please Type a Service Provider')\n",
    "        rechargeAmount = input('Please Type the Recharge Amount')\n",
    "        transNo = random.randint(1,1000)\n",
    "        trans = Transaction(transNo,rechargeAmount,False)\n",
    "        isSuccess = trans.process()\n",
    "        if isSuccess:\n",
    "            print('Recharge done Successfully!!')\n",
    "        else:\n",
    "            print('Transaction Failed')\n",
    "            \n",
    "    def SignUp(self,name,age,email):\n",
    "        usr = user('Registered User',name,age,email)\n",
    "        print('User Registered Successfully')\n",
    "        return usr\n",
    "        \n",
    "    def Login(self,usr):\n",
    "        if usr.role != 'Visitor':\n",
    "            self.limited_access = False\n",
    "            print('Login Successfully')\n",
    "\n",
    "class user:\n",
    "    def __init__(self,role,name=None,age=None,email=None):\n",
    "        self.role = role\n",
    "        self.name = name\n",
    "        self.age = age\n",
    "        self.email = email\n",
    "        \n",
    "class Transaction:\n",
    "    def __init__(self,TransactionNo,TransactionAmount,isCredit):\n",
    "        self.TransactionNo = TransactionNo\n",
    "        self.TransactionAmount = TransactionAmount\n",
    "        self.isCredit = isCredit\n",
    "        \n",
    "    def process(self):\n",
    "        successORfailureNo = random.randint(1,100)\n",
    "        if successORfailureNo%2 == 0:\n",
    "            return True\n",
    "        else:\n",
    "            return False"
   ]
  },
  {
   "cell_type": "code",
   "execution_count": 33,
   "metadata": {},
   "outputs": [],
   "source": [
    "paytmOnOppo = paytm()"
   ]
  },
  {
   "cell_type": "code",
   "execution_count": 34,
   "metadata": {},
   "outputs": [
    {
     "name": "stdout",
     "output_type": "stream",
     "text": [
      "Please Login First\n"
     ]
    }
   ],
   "source": [
    "paytmOnOppo.recharge()"
   ]
  },
  {
   "cell_type": "code",
   "execution_count": 35,
   "metadata": {},
   "outputs": [
    {
     "name": "stdout",
     "output_type": "stream",
     "text": [
      "User Registered Successfully\n"
     ]
    }
   ],
   "source": [
    "usr = paytmOnOppo.SignUp('Mohit',25,'mohit@fake.com')"
   ]
  },
  {
   "cell_type": "code",
   "execution_count": 36,
   "metadata": {},
   "outputs": [
    {
     "name": "stdout",
     "output_type": "stream",
     "text": [
      "Login Successfully\n"
     ]
    }
   ],
   "source": [
    "paytmOnOppo.Login(usr)"
   ]
  },
  {
   "cell_type": "code",
   "execution_count": 38,
   "metadata": {},
   "outputs": [
    {
     "name": "stdout",
     "output_type": "stream",
     "text": [
      "Please Type a Service ProviderAirtel\n",
      "Please Type the Recharge Amount433\n",
      "Transaction Failed\n"
     ]
    }
   ],
   "source": [
    "paytmOnOppo.recharge()"
   ]
  },
  {
   "cell_type": "code",
   "execution_count": null,
   "metadata": {},
   "outputs": [],
   "source": []
  }
 ],
 "metadata": {
  "kernelspec": {
   "display_name": "Python 3",
   "language": "python",
   "name": "python3"
  },
  "language_info": {
   "codemirror_mode": {
    "name": "ipython",
    "version": 3
   },
   "file_extension": ".py",
   "mimetype": "text/x-python",
   "name": "python",
   "nbconvert_exporter": "python",
   "pygments_lexer": "ipython3",
   "version": "3.8.3"
  }
 },
 "nbformat": 4,
 "nbformat_minor": 4
}
